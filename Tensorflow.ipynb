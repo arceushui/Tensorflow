{
 "cells": [
  {
   "cell_type": "code",
   "execution_count": 0,
   "metadata": {
    "colab": {},
    "colab_type": "code",
    "id": "Pdv07oIghLd-"
   },
   "outputs": [],
   "source": [
    "import tensorflow as tf\n",
    "import numpy as np\n",
    "import matplotlib.pyplot as plt\n",
    "import matplotlib.image as mpimg"
   ]
  },
  {
   "cell_type": "code",
   "execution_count": 0,
   "metadata": {
    "colab": {},
    "colab_type": "code",
    "id": "8uVU1S13hLeC"
   },
   "outputs": [],
   "source": [
    "message=tf.constant('Welcome to the exciting world of Deep Neural Networks!')"
   ]
  },
  {
   "cell_type": "code",
   "execution_count": 0,
   "metadata": {
    "colab": {},
    "colab_type": "code",
    "id": "Wyevh_2ghLeF"
   },
   "outputs": [],
   "source": [
    "with tf.Session() as sess:\n",
    "    print(sess.run(message).decode())"
   ]
  },
  {
   "cell_type": "code",
   "execution_count": 0,
   "metadata": {
    "colab": {},
    "colab_type": "code",
    "id": "PbBlQAPWhLeK"
   },
   "outputs": [],
   "source": [
    "v_1 = tf.constant([1,2,3,4])\n",
    "v_2 = tf.constant([2,1,5,3])\n",
    "v_add = tf.add(v_1,v_2)#v_1 =+ v_2 also can"
   ]
  },
  {
   "cell_type": "code",
   "execution_count": 0,
   "metadata": {
    "colab": {},
    "colab_type": "code",
    "id": "0EI8tFEUhLeP"
   },
   "outputs": [],
   "source": [
    "with tf.Session() as sess:\n",
    "    print(sess.run(v_add))"
   ]
  },
  {
   "cell_type": "code",
   "execution_count": 0,
   "metadata": {
    "colab": {},
    "colab_type": "code",
    "id": "igloKImVhLeU"
   },
   "outputs": [],
   "source": [
    "sess = tf.Session()\n",
    "print(sess.run(v_add))\n",
    "sess.close() # same as above but need to close session"
   ]
  },
  {
   "cell_type": "markdown",
   "metadata": {
    "colab_type": "text",
    "id": "9_KATN0shLea"
   },
   "source": [
    "close() method explicitly close each Session,with block inplicitly close"
   ]
  },
  {
   "cell_type": "code",
   "execution_count": 0,
   "metadata": {
    "colab": {},
    "colab_type": "code",
    "id": "A4L63dH3hLec"
   },
   "outputs": [],
   "source": [
    "print(tf.Session().run(tf.add(tf.constant([1,2,3,4]),tf.constant([2,1,5,3]))))\n",
    "# memory expensive"
   ]
  },
  {
   "cell_type": "code",
   "execution_count": 0,
   "metadata": {
    "colab": {},
    "colab_type": "code",
    "id": "IuyA0fjrhLef"
   },
   "outputs": [],
   "source": [
    "sess = tf.InteractiveSession()"
   ]
  },
  {
   "cell_type": "code",
   "execution_count": 0,
   "metadata": {
    "colab": {},
    "colab_type": "code",
    "id": "EissEFlChLej"
   },
   "outputs": [],
   "source": [
    "v_1=tf.constant([1,2,3,4])\n",
    "v_2=tf.constant([2,1,5,3])\n",
    "v_add=tf.add(v_1,v_2)\n",
    "print(v_add.eval())\n",
    "sess.close"
   ]
  },
  {
   "cell_type": "markdown",
   "metadata": {
    "colab_type": "text",
    "id": "XiKEdqTWhLep"
   },
   "source": [
    "    Types of data  Tensor    Shape\n",
    "        Scalar      0-D\t      []\n",
    "        Vector      1-D\t     [D0]\n",
    "        Matrix      2-D\t    [D0,D1]\n",
    "        Tensors     N-D\t [D0,D1,....Dn-1]"
   ]
  },
  {
   "cell_type": "markdown",
   "metadata": {
    "colab_type": "text",
    "id": "fjxeDT2PhLeq"
   },
   "source": [
    "3 types of tensors: constants, variables, placeholders"
   ]
  },
  {
   "cell_type": "code",
   "execution_count": 0,
   "metadata": {
    "colab": {},
    "colab_type": "code",
    "id": "met1XHzChLes"
   },
   "outputs": [],
   "source": [
    "t_1 = tf.constant(4)"
   ]
  },
  {
   "cell_type": "code",
   "execution_count": 0,
   "metadata": {
    "colab": {},
    "colab_type": "code",
    "id": "HDxoCPqXhLey"
   },
   "outputs": [],
   "source": [
    "t_2 = tf.constant([4, 3, 2])"
   ]
  },
  {
   "cell_type": "markdown",
   "metadata": {
    "colab_type": "text",
    "id": "j9wosfavhLe3"
   },
   "source": [
    "tf.zeros([M,N],tf.dtype)"
   ]
  },
  {
   "cell_type": "code",
   "execution_count": 0,
   "metadata": {
    "colab": {},
    "colab_type": "code",
    "id": "66UyVc2dhLe5"
   },
   "outputs": [],
   "source": [
    "zero_t=tf.zeros([2,3],tf.int32)\n",
    "zero_t"
   ]
  },
  {
   "cell_type": "code",
   "execution_count": 0,
   "metadata": {
    "colab": {},
    "colab_type": "code",
    "id": "UdEvF3xRhLe9"
   },
   "outputs": [],
   "source": [
    "tf.zeros_like(t_2)"
   ]
  },
  {
   "cell_type": "code",
   "execution_count": 0,
   "metadata": {
    "colab": {},
    "colab_type": "code",
    "id": "Tl0ZEO4VhLfC"
   },
   "outputs": [],
   "source": [
    "tf.ones_like(t_2)"
   ]
  },
  {
   "cell_type": "markdown",
   "metadata": {
    "colab_type": "text",
    "id": "Ut8-ZEGvhLfG"
   },
   "source": [
    "tf.ones([M,N],tf.dtype)\t"
   ]
  },
  {
   "cell_type": "markdown",
   "metadata": {
    "colab_type": "text",
    "id": "IYafmw8whLfH"
   },
   "source": [
    "tf.linspace(start, stop, num) <br>\n",
    "correspnding values differ by (stop-start)/(num-1)"
   ]
  },
  {
   "cell_type": "code",
   "execution_count": 0,
   "metadata": {
    "colab": {},
    "colab_type": "code",
    "id": "Of2ewHvchLfJ"
   },
   "outputs": [],
   "source": [
    "range_t = tf.linspace(2.0,5.0,5)\n",
    "#[  2.   2.75   3.5    4.25    5. ]"
   ]
  },
  {
   "cell_type": "markdown",
   "metadata": {
    "colab_type": "text",
    "id": "ZLop3nT2hLfO"
   },
   "source": [
    "tf.range(start,limit,delta)"
   ]
  },
  {
   "cell_type": "code",
   "execution_count": 0,
   "metadata": {
    "colab": {},
    "colab_type": "code",
    "id": "jZ292v_RhLfP"
   },
   "outputs": [],
   "source": [
    "range_t=tf.range(10)"
   ]
  },
  {
   "cell_type": "markdown",
   "metadata": {
    "colab_type": "text",
    "id": "J-ZGIFnfhLfS"
   },
   "source": [
    "a\tnormal\tdistribution\tof\tshape\t[M,N]\twith\tthe mean\t(default=0.0)\tand\tstandard\tdeviation\t(default=1.0)\twith\tseed"
   ]
  },
  {
   "cell_type": "code",
   "execution_count": 0,
   "metadata": {
    "colab": {},
    "colab_type": "code",
    "id": "5CfBK2j-hLfU"
   },
   "outputs": [],
   "source": [
    "t_random = tf.random_normal([2,3], mean=2.0, stddev=4, seed=12)\n",
    "with tf.Session() as sess:\n",
    "    print(sess.run(t_random))"
   ]
  },
  {
   "cell_type": "markdown",
   "metadata": {
    "colab_type": "text",
    "id": "z16O3o3dhLfY"
   },
   "source": [
    "truncated\tnormal\tdistribution\tof\tshape\t[M,N] with\tthe\tmean\t(default\t=0.0)\tand\tstandard\tdeviation\t(default=1.0)\twith seed"
   ]
  },
  {
   "cell_type": "code",
   "execution_count": 0,
   "metadata": {
    "colab": {},
    "colab_type": "code",
    "id": "LZo1RbMUhLfa"
   },
   "outputs": [],
   "source": [
    "t_random = tf.truncated_normal([1,5], stddev=4, seed=12)\n",
    "with tf.Session() as sess:\n",
    "    print(sess.run(t_random))"
   ]
  },
  {
   "cell_type": "markdown",
   "metadata": {
    "colab_type": "text",
    "id": "HTqgaDoOhLfd"
   },
   "source": [
    "gamma\tdistribution\tof\tshape\t[M,N]\tin the\trange\t[minval\t(default=0),\tmaxval]\twith\tseed,"
   ]
  },
  {
   "cell_type": "code",
   "execution_count": 0,
   "metadata": {
    "colab": {},
    "colab_type": "code",
    "id": "2ts-ATtdhLfe"
   },
   "outputs": [],
   "source": [
    "t_random = tf.random_uniform([2,3], maxval=4, seed=12)\n",
    "with tf.Session() as sess:\n",
    "    print(sess.run(t_random))"
   ]
  },
  {
   "cell_type": "code",
   "execution_count": 0,
   "metadata": {
    "colab": {},
    "colab_type": "code",
    "id": "OJp7mNKjhLfh"
   },
   "outputs": [],
   "source": [
    "tf.random_crop(t_random, [2,5],seed=12)"
   ]
  },
  {
   "cell_type": "code",
   "execution_count": 0,
   "metadata": {
    "colab": {},
    "colab_type": "code",
    "id": "UX3iAK8ChLfl"
   },
   "outputs": [],
   "source": [
    "tf.random_shuffle(t_random)"
   ]
  },
  {
   "cell_type": "code",
   "execution_count": 0,
   "metadata": {
    "colab": {},
    "colab_type": "code",
    "id": "Oic3hYWPhLfq"
   },
   "outputs": [],
   "source": [
    "tf.set_random_seed(54)#seed can only be integers"
   ]
  },
  {
   "cell_type": "code",
   "execution_count": 0,
   "metadata": {
    "colab": {},
    "colab_type": "code",
    "id": "pezKbcW1hLfu"
   },
   "outputs": [],
   "source": [
    "rand_t = tf.random_uniform([50, 50], 0, 10, seed=0)\n",
    "t_a = tf.Variable(rand_t)\n",
    "t_b = tf.Variable(rand_t)\n",
    "# varialbes are used to represent weights and biases in a neural network"
   ]
  },
  {
   "cell_type": "code",
   "execution_count": 0,
   "metadata": {
    "colab": {},
    "colab_type": "code",
    "id": "7uH0ut3ghLfx"
   },
   "outputs": [],
   "source": [
    "weights = tf.Variable(tf.random_normal([100,100],stddev=2))\n",
    "bias = tf.Variable(tf.zeros([100]), name = 'biases')"
   ]
  },
  {
   "cell_type": "code",
   "execution_count": 0,
   "metadata": {
    "colab": {},
    "colab_type": "code",
    "id": "7phtuF8QhLf0"
   },
   "outputs": [],
   "source": [
    "weight2=tf.Variable(weights.initialized_value(), name='w2')"
   ]
  },
  {
   "cell_type": "code",
   "execution_count": 0,
   "metadata": {
    "colab": {},
    "colab_type": "code",
    "id": "E-C_OaCDhLf6"
   },
   "outputs": [],
   "source": [
    "initial_op = tf.global_variables_initializer()"
   ]
  },
  {
   "cell_type": "code",
   "execution_count": 0,
   "metadata": {
    "colab": {},
    "colab_type": "code",
    "id": "P6NL_W0jhLf9",
    "scrolled": true
   },
   "outputs": [],
   "source": [
    "bias = tf.Variable(tf.zeros([100,100]))\n",
    "with tf.Session() as sess:\n",
    "    print(sess.run(bias.initializer))#separately initialize using tf.Variable.initializer"
   ]
  },
  {
   "cell_type": "code",
   "execution_count": 0,
   "metadata": {
    "colab": {},
    "colab_type": "code",
    "id": "ab_zvFQChLf_"
   },
   "outputs": [],
   "source": [
    "saver = tf.train.Saver()#Saving variables"
   ]
  },
  {
   "cell_type": "markdown",
   "metadata": {
    "colab_type": "text",
    "id": "mjWcVbkLhLgB"
   },
   "source": [
    "tf.placeholder(dtype, shape=None, name=None)"
   ]
  },
  {
   "cell_type": "code",
   "execution_count": 0,
   "metadata": {
    "colab": {},
    "colab_type": "code",
    "id": "TT4buqRfhLgC"
   },
   "outputs": [],
   "source": [
    "x = tf.placeholder(\"float\")\n",
    "y = 2*x\n",
    "data = tf.random_uniform([4,5],10)\n",
    "with tf.Session() as sess:\n",
    "    x_data  = sess.run(data)\n",
    "    print(sess.run(y, feed_dict = {x:x_data}))"
   ]
  },
  {
   "cell_type": "markdown",
   "metadata": {
    "colab_type": "text",
    "id": "DTRNRUZChLgE"
   },
   "source": [
    "    Data type    TensorFlow type\n",
    "    DT_FLOAT        tf.float32\n",
    "    DT_DOUBLE       tf.float64\n",
    "    DT_INT8         tf.int8\n",
    "    DT_UINT8        tf.uint8\n",
    "    DT_STRING       tf.string\n",
    "    DT_BOOL         tf.bool\n",
    "    DT_COMPLEX64    tf.complex64\n",
    "    DT_QINT32 tf.   qint32"
   ]
  },
  {
   "cell_type": "code",
   "execution_count": 0,
   "metadata": {
    "colab": {},
    "colab_type": "code",
    "id": "ngWpRd9khLgE"
   },
   "outputs": [],
   "source": [
    "for i in tf.range(10)#tensorflow sequences are not iterable"
   ]
  },
  {
   "cell_type": "code",
   "execution_count": 0,
   "metadata": {
    "colab": {},
    "colab_type": "code",
    "id": "2yEWk3eQhLgG"
   },
   "outputs": [],
   "source": [
    "sess = tf.InteractiveSession()\n",
    "\n",
    "#Define a 5x5 Identity matrix\n",
    "I_matrix = tf.eye(5)\n",
    "print(I_matrix.eval())\n",
    "\n",
    "#This will print a 5x5 Identity matrix\n",
    "#Define a Variable initialized to a 10x10 identity matrix\n",
    "X = tf.Variable(tf.eye(10))\n",
    "X.initializer.run() #Initialize the Variable\n",
    "print(X.eval())\n",
    "\n",
    "# Evaluate the Variable and print the result\n",
    "# Create a random 5x10 matrix\n",
    "A = tf.Variable(tf.random_normal([5,10]))\n",
    "A.initializer.run()\n",
    "\n",
    "#Multiply two matrices\n",
    "product = tf.matmul(A, X)\n",
    "print(product.eval())\n",
    "\n",
    "#create a random matrix of 1s and 0s, size 5x10\n",
    "b = tf.Variable(tf.random_uniform([5,10],0 , 2, dtype=tf.int32))\n",
    "b.initializer.run()\n",
    "print(b.eval())\n",
    "b_new = tf.cast(b, dtype=tf.float32)\n",
    "#Cast to float32 data type\n",
    "\n",
    "#Add the two matrices\n",
    "t_sum = tf.add(product, b_new)\n",
    "t_sub = product - b_new\n",
    "print(\"A*X _b\\n\", t_sum.eval())\n",
    "print(\"A*X - b\\n\", t_sub.eval())"
   ]
  },
  {
   "cell_type": "code",
   "execution_count": 0,
   "metadata": {
    "colab": {},
    "colab_type": "code",
    "id": "R1mKhTTohLgI"
   },
   "outputs": [],
   "source": [
    "a = tf.Variable(tf.random_normal([4,5], stddev=2))\n",
    "b = tf.Variable(tf.random_normal([4,5], stddev=2))\n",
    "#Element Wise Multiplication\n",
    "A = a*b\n",
    "#Multiplication with a scalar 2\n",
    "B = tf.scalar_mul(2,A)\n",
    "#Element Wise Division\n",
    "C = tf.div(a,b)#returns same type as the first argument\n",
    "D = tf.mod(a,b)\n",
    "\n",
    "init_op = tf.global_variables_initializer()\n",
    "with tf.Session() as sess:\n",
    "    sess.run(init_op)\n",
    "    writer = tf.summary.FileWriter('graphs', sess.graph)\n",
    "    a,b,A_R, B_R, C_R, D_R = sess.run([a, b, A, B, C, D])\n",
    "    print(\"a\\n\", a,  \"\\nb\\n\", b, \"\\na*b\\n\", A_R, \"\\n2*a*b\\n\", B_R, \"\\na/b\\n\", C_R,\n",
    "         \"\\na%b\\n\", D_R)\n",
    "writer.close()"
   ]
  },
  {
   "cell_type": "markdown",
   "metadata": {
    "colab_type": "text",
    "id": "aInRnoJyhLgK"
   },
   "source": [
    "use tf.cast() to convert Tensors type<br>\n",
    "tf.truediv(a,b) casts first integer tensors to float"
   ]
  },
  {
   "cell_type": "markdown",
   "metadata": {
    "colab_type": "text",
    "id": "RBu3i1WShLgK"
   },
   "source": [
    "loss = tf....<br>\n",
    "tf.summary.scalar('loss', loss)<br>\n",
    "know how the loss term varies with time"
   ]
  },
  {
   "cell_type": "markdown",
   "metadata": {
    "colab_type": "text",
    "id": "SObplqSfhLgL"
   },
   "source": [
    "td.summary.histogram('output', output_tensor)<br>\n",
    "visualize\tthe\tdistribution\tof\tgradients,\tweights,\tor\teven\toutput of\ta\tparticular\tlayer"
   ]
  },
  {
   "cell_type": "markdown",
   "metadata": {
    "colab_type": "text",
    "id": "62f5l3bvhLgL"
   },
   "source": [
    "tf.merge_all_summaries()<br>\n",
    "get\tall\tsummaries\tin\ta\tsingle\trun"
   ]
  },
  {
   "cell_type": "code",
   "execution_count": 0,
   "metadata": {
    "colab": {},
    "colab_type": "code",
    "id": "PTz3xslWhLgN"
   },
   "outputs": [],
   "source": [
    "writer = tf.summary.FileWriter('summary_dir', sess.graph)"
   ]
  },
  {
   "cell_type": "markdown",
   "metadata": {
    "colab_type": "text",
    "id": "opmDMFjphLgQ"
   },
   "source": [
    "tensorboard\t--logdir=summary_dir<br>\n",
    "to invoke tensorboard in command line"
   ]
  },
  {
   "cell_type": "code",
   "execution_count": 0,
   "metadata": {
    "colab": {},
    "colab_type": "code",
    "id": "hvOA0RBfhLgR"
   },
   "outputs": [],
   "source": [
    "#Config to turn on JIT compilation\n",
    "config = tf.ConfigProto()\n",
    "config.graph_options.optimizer_options.global_jit_level = tf.OptimizerOptions.ON_1\n",
    "sess = tf.Session(config=config)"
   ]
  },
  {
   "cell_type": "code",
   "execution_count": 0,
   "metadata": {
    "colab": {},
    "colab_type": "code",
    "id": "M3LXW9t5hLgT"
   },
   "outputs": [],
   "source": [
    "#turn on JIT compilation manually\n",
    "jit_scope = tf.contrib.compiler.jit.experimental_jit_scope\n",
    "\n",
    "x = tf.placeholder(np.float32)\n",
    "with jit_scope():\n",
    "    y = tf.add(x, x)#The \"add\" will be compiled with XLA"
   ]
  },
  {
   "cell_type": "code",
   "execution_count": 0,
   "metadata": {
    "colab": {},
    "colab_type": "code",
    "id": "tsbBPkj1hLga"
   },
   "outputs": [],
   "source": [
    "config = tf.ConfigProto(allow_soft_placement=True, log_device_placement=True)"
   ]
  },
  {
   "cell_type": "markdown",
   "metadata": {
    "colab_type": "text",
    "id": "pCDc-GephLge"
   },
   "source": [
    "Data can be read in 3 ways:Feeding, Reading from files, Preloaded data"
   ]
  },
  {
   "cell_type": "markdown",
   "metadata": {
    "colab_type": "text",
    "id": "WJazUnfqhLge"
   },
   "source": [
    "Feeding:sess.run(loss,feed_dict\t=\t{x:\tX_Array,\ty:\tY_Array}).<br>\n",
    "Reading\tfrom files:[(\"file%d\"i)\tfor\tin\tin\trange(2)] /tf.train.match_filenames_once('*.JPG')<br>\n",
    "Filename queue: filename_queue = tf.train.string_input_producer(files)\t#\twhere files is the list of filenames created above<br>\n",
    "Reader:reader\t=\ttf.TextLineReader()\t<br>\n",
    "key,\tvalue\t=\treader.read(filename_queue)<br>\n",
    "Decoder: record_defaults = [[1],\t[1],\t[1]] <br>\n",
    "col1,\tcol2,\tcol3\t=\ttf.decode_csv(value,record_defaults=record_defaults)<br>\n",
    "\n"
   ]
  },
  {
   "cell_type": "markdown",
   "metadata": {
    "colab_type": "text",
    "id": "L3eWgALghLgh"
   },
   "source": [
    "# Regression"
   ]
  },
  {
   "cell_type": "markdown",
   "metadata": {
    "colab_type": "text",
    "id": "3DdJxCfVhLgj"
   },
   "source": [
    "Linear Regression<br>\n",
    "Logistic Regression<br>\n",
    "Regularization:<br>\n",
    "L1 Regularization<br>\n",
    "L2 Regularization"
   ]
  },
  {
   "cell_type": "code",
   "execution_count": 0,
   "metadata": {
    "colab": {},
    "colab_type": "code",
    "id": "bVWfVkzchLgk"
   },
   "outputs": [],
   "source": [
    "m = 1000 #number of samples\n",
    "n = 15 #number of features\n",
    "P = 2 #number of classes"
   ]
  },
  {
   "cell_type": "markdown",
   "metadata": {
    "colab_type": "text",
    "id": "u027Wy3vhLgp"
   },
   "source": [
    "Standard linear regression"
   ]
  },
  {
   "cell_type": "code",
   "execution_count": 0,
   "metadata": {
    "colab": {},
    "colab_type": "code",
    "id": "-82AeDclhLgq"
   },
   "outputs": [],
   "source": [
    "X = tf.placeholder(tf.float32, name='X')\n",
    "Y = tf.placeholder(tf.float32, name='Y')\n",
    "\n",
    "w0 = tf.Variable(0.0)\n",
    "w1 = tf.Variable(0.0)\n",
    "# linear regression model\n",
    "Y_hat = X*w1 + w0\n",
    "# loss function\n",
    "loss = tf.square(Y - Y_hat, name='loss')"
   ]
  },
  {
   "cell_type": "markdown",
   "metadata": {
    "colab_type": "text",
    "id": "XUuMIscvhLgt"
   },
   "source": [
    "Multiple linear regression"
   ]
  },
  {
   "cell_type": "code",
   "execution_count": 0,
   "metadata": {
    "colab": {},
    "colab_type": "code",
    "id": "uOn9lfBWhLgt"
   },
   "outputs": [],
   "source": [
    "X = tf.placeholder(tf.float32, name='X', shape=[m,n])\n",
    "Y = tf.placeholder(tf.float32, name='Y')\n",
    "\n",
    "w0 = tf.Variable(0.0)\n",
    "w1 = tf.Variable(tf.random_normal([n,1]))\n",
    "\n",
    "Y_hat = tf.matmul(X, w1) + w0\n",
    "\n",
    "loss = tf.reduce_mean(tf.square(Y - Y_hat, name='loss'))"
   ]
  },
  {
   "cell_type": "markdown",
   "metadata": {
    "colab_type": "text",
    "id": "DrIwyfUZhLgv"
   },
   "source": [
    "Logistic regression"
   ]
  },
  {
   "cell_type": "code",
   "execution_count": 0,
   "metadata": {
    "colab": {},
    "colab_type": "code",
    "id": "8IJ_LIo_hLgv"
   },
   "outputs": [],
   "source": [
    "X = tf.placeholder(tf.float32, name='X', shape=[m,n])\n",
    "Y = tf.placeholder(tf.float32, name='Y', shape=[m,P])\n",
    "\n",
    "w0 = tf.Variable(tf.zeros([1,P]), name='bias')\n",
    "w1 = tf.Variable(tf.random_normal([n,1]), name='weights')\n",
    "\n",
    "Y_hat = tf.matmul(X, w1) + w0\n",
    "\n",
    "entropy = tf.nn.softmax_cross_entropy_with_logits(logits=Y_hat, labels=Y)\n",
    "loss = tf.reduce_mean(entropy)"
   ]
  },
  {
   "cell_type": "code",
   "execution_count": 0,
   "metadata": {
    "colab": {},
    "colab_type": "code",
    "id": "vxnfJfZyhLgx"
   },
   "outputs": [],
   "source": [
    "lamda = tf.constant(0.8)#regularization parameter\n",
    "regularization_param = lamda*tf.reduce_sum(tf.abs(w1))\n",
    "\n",
    "loss += regularization_param"
   ]
  },
  {
   "cell_type": "code",
   "execution_count": 0,
   "metadata": {
    "colab": {},
    "colab_type": "code",
    "id": "sLWOYIiqhLgz"
   },
   "outputs": [],
   "source": [
    "lamda = tf.constant(0.8)\n",
    "regularization_param = lamda*tf.nn.l2_loss(w1)\n",
    "\n",
    "loss += regularization_param"
   ]
  },
  {
   "cell_type": "markdown",
   "metadata": {
    "colab_type": "text",
    "id": "s-MuclORhLg2"
   },
   "source": [
    "Vanilla gradient descent<br>\n",
    "Stochastic gradient descent<br>\n",
    "Mini_batch gradient descent"
   ]
  },
  {
   "cell_type": "markdown",
   "metadata": {
    "colab_type": "text",
    "id": "CzfY_mn8hLg3"
   },
   "source": [
    "tf.train.GradientDescentOptimizer(learning_rate)\n",
    "learning rate is between 0 & 1"
   ]
  },
  {
   "cell_type": "markdown",
   "metadata": {
    "colab_type": "text",
    "id": "7QyNwLojhLg4"
   },
   "source": [
    "minimize(\n",
    "    loss,\n",
    "    global_step=None,\n",
    "    var_list=None,\n",
    "    gate_gradients=GATE_OP,\n",
    "    aggregation_method=None,\n",
    "    colocate_gradients_with_ops=False,\n",
    "    name=None,\n",
    "    grad_loss=None\n",
    ")"
   ]
  },
  {
   "cell_type": "markdown",
   "metadata": {
    "colab_type": "text",
    "id": "UU6lTNFzhLg5"
   },
   "source": [
    "optimizer =\ttf.train.MomentumOtimizer(learning_rate=0.01,\tmomentum=0.5).minimize(loss)<br>\n",
    "optimizer =\ttf.train.AdadeltaOptimizer(learning_rate=0.8,rho=0.95).minimize(loss)<br>\n",
    "optimizer = tf.train.RMSpropOptimizer(learning_rate=0.01,decay=0.8,\tmomentum=0.1).minimize<br>\n",
    "optimizer =\ttf.train.AdamOptimizer().minimize(loss)<br>\n",
    "tf.train.AdagradOptimizer\t#Adagrad\tOptimizer<br> tf.train.AdagradDAOptimizer\t#Adagrad\tDual\tAveraging\toptimizer<br>\n",
    "tf.train.FtrlOptimizer\t#Follow\tthe\tregularized\tleader\toptimizer<br> tf.train.ProximalGradientDescentOptimizer\t#Proximal\tGD\toptimizer<br>\n",
    "tf.train.ProximalAdagradOptimizer\t#\tProximal Adagrad optimizer<br>"
   ]
  },
  {
   "cell_type": "code",
   "execution_count": 0,
   "metadata": {
    "colab": {},
    "colab_type": "code",
    "id": "S-ZlHCXxhLg5"
   },
   "outputs": [],
   "source": [
    "DATA_FILE = 'boston_housing.csv'\n",
    "BATCH_SIZE = 10\n",
    "NUM_FEATURES = 14"
   ]
  },
  {
   "cell_type": "code",
   "execution_count": 0,
   "metadata": {
    "colab": {},
    "colab_type": "code",
    "id": "fz58MZjGhLg8"
   },
   "outputs": [],
   "source": [
    "def data_generator(filename) :\n",
    "    \"\"\"\n",
    "    Generates Tensors in batches of size Batch_SIZE\n",
    "    Args: String Tensor\n",
    "    Filename from which data is to be read\n",
    "    Returns: Tensors\n",
    "    feature_batch and label_batch\n",
    "    \"\"\"\n",
    "    f_queue = tf.train.string_input_producer(filename)\n",
    "    reader = tf.TextLineReader(skip_header_lines=1)\n",
    "    key , value = reader.read(f_queue)\n",
    "    record_defaults = [[0.0] for key in range(NUM_FEATURES)]\n",
    "    data = tf.decode_csv(value, record_defaults=record_defaults)\n",
    "    features = tf.stack(tf.gather_nd(data, [[5],[10],[12]]))\n",
    "    label = data[-1]\n",
    "    min_after_dequeue = 10*Batch_SIZE\n",
    "    #the maximum number of elements in the queue\n",
    "    capacity = 20 * Batch_SIZE\n",
    "    #shuffle the data to generate BATCH_SZIE sample pairs\n",
    "    feature_batch, label_batch = tf.train.shuffle_batch([features, label], batch_size=BATCH_SIZE, capacity=capacity, min_after_dequeue=min_after_dequeue)\n",
    "    return feature_batch, label_batch"
   ]
  },
  {
   "cell_type": "code",
   "execution_count": 0,
   "metadata": {
    "colab": {},
    "colab_type": "code",
    "id": "_c94-BthhLhC"
   },
   "outputs": [],
   "source": [
    "def generate_data(feature_batch, label_batch):\n",
    "    with vtf.Session() as sess:\n",
    "        coord = tf.trainCoordinator()\n",
    "        threads = tf.train.start_queue_runners(coord=coord)\n",
    "        for key in range(5):\n",
    "            feature, labels = sess.run([feature_batch, label_batch])\n",
    "            print(features, \"HI\")\n",
    "        coord.request_stop()\n",
    "        coord.join(threads)"
   ]
  },
  {
   "cell_type": "markdown",
   "metadata": {
    "colab_type": "text",
    "id": "9EEXki7-hLhF"
   },
   "source": [
    "## House Price Estimation-simple linear regression"
   ]
  },
  {
   "cell_type": "code",
   "execution_count": 0,
   "metadata": {
    "colab": {},
    "colab_type": "code",
    "id": "0HGQ5VCphLhG"
   },
   "outputs": [],
   "source": [
    "def normalize(X):\n",
    "    #Normalize the array X\n",
    "    mean = np.mean(X)\n",
    "    std = np.std(X)\n",
    "    X = (X-mean)/std\n",
    "    return X"
   ]
  },
  {
   "cell_type": "code",
   "execution_count": 0,
   "metadata": {
    "colab": {},
    "colab_type": "code",
    "id": "IEVX6_RyhLhI"
   },
   "outputs": [],
   "source": [
    "# Data\n",
    "boston = tf.contrib.learn.datasets.load_dataset('boston')\n",
    "X_train, Y_train = boston.data[:,5], boston.target\n",
    "#X_train = normalize(X_train)#optional\n",
    "n_samples = len(X_train)"
   ]
  },
  {
   "cell_type": "code",
   "execution_count": 0,
   "metadata": {
    "colab": {},
    "colab_type": "code",
    "id": "sUxnE9grhLhK"
   },
   "outputs": [],
   "source": [
    "#Placeholder for the Training Data\n",
    "X = tf.placeholder(tf.float32, name ='X')\n",
    "Y = tf.placeholder(tf.float32, name ='Y')\n",
    "#initialize variables\n",
    "b = tf.Variable(0.0)\n",
    "w = tf.Variable(0.0)"
   ]
  },
  {
   "cell_type": "code",
   "execution_count": 0,
   "metadata": {
    "colab": {},
    "colab_type": "code",
    "id": "LrIL1TsHhLhM"
   },
   "outputs": [],
   "source": [
    "#Linear Regression Model\n",
    "Y_hat = X * w + b"
   ]
  },
  {
   "cell_type": "code",
   "execution_count": 0,
   "metadata": {
    "colab": {},
    "colab_type": "code",
    "id": "cDVUlDmmhLhU"
   },
   "outputs": [],
   "source": [
    "#Loss Function\n",
    "loss = tf.square(Y - Y_hat, name='loss')"
   ]
  },
  {
   "cell_type": "code",
   "execution_count": 0,
   "metadata": {
    "colab": {},
    "colab_type": "code",
    "id": "HX35ZGHMhLhW"
   },
   "outputs": [],
   "source": [
    "optimizer = tf.train.GradientDescentOptimizer(learning_rate=0.01).minimize(loss)"
   ]
  },
  {
   "cell_type": "code",
   "execution_count": 0,
   "metadata": {
    "colab": {},
    "colab_type": "code",
    "id": "_NVJuzyghLhZ"
   },
   "outputs": [],
   "source": [
    "init_op = tf.global_variables_initializer()\n",
    "total = []"
   ]
  },
  {
   "cell_type": "code",
   "execution_count": 0,
   "metadata": {
    "colab": {},
    "colab_type": "code",
    "id": "7FExuI4ghLhh",
    "outputId": "ff6fc84c-9f80-404e-811a-497411728f65"
   },
   "outputs": [
    {
     "name": "stdout",
     "output_type": "stream",
     "text": [
      "Epoch 0: Loss :26.779895120142466\n",
      "Epoch 1: Loss :25.532963559892984\n",
      "Epoch 2: Loss :25.308105514786394\n",
      "Epoch 3: Loss :25.10842958027482\n",
      "Epoch 4: Loss :24.930981125067394\n",
      "Epoch 5: Loss :24.773168119782166\n",
      "Epoch 6: Loss :24.63269657542246\n",
      "Epoch 7: Loss :24.507561973939524\n",
      "Epoch 8: Loss :24.395995892890088\n",
      "Epoch 9: Loss :24.296436210372303\n",
      "Epoch 10: Loss :24.207509442804618\n",
      "Epoch 11: Loss :24.12800798017121\n",
      "Epoch 12: Loss :24.05685957382555\n",
      "Epoch 13: Loss :23.993130210483717\n",
      "Epoch 14: Loss :23.93598476036447\n",
      "Epoch 15: Loss :23.88469580368127\n",
      "Epoch 16: Loss :23.838609592460674\n",
      "Epoch 17: Loss :23.79715412149717\n",
      "Epoch 18: Loss :23.759826562716107\n",
      "Epoch 19: Loss :23.72617975498383\n",
      "Epoch 20: Loss :23.695819259177686\n",
      "Epoch 21: Loss :23.668390857997256\n",
      "Epoch 22: Loss :23.643586170807783\n",
      "Epoch 23: Loss :23.621129276800527\n",
      "Epoch 24: Loss :23.600774940486847\n",
      "Epoch 25: Loss :23.5823057752245\n",
      "Epoch 26: Loss :23.56553128231661\n",
      "Epoch 27: Loss :23.550277626216015\n",
      "Epoch 28: Loss :23.53639167287385\n",
      "Epoch 29: Loss :23.52373552081982\n",
      "Epoch 30: Loss :23.512190676023653\n",
      "Epoch 31: Loss :23.501650609552183\n",
      "Epoch 32: Loss :23.492014001195994\n",
      "Epoch 33: Loss :23.483195264690814\n",
      "Epoch 34: Loss :23.47511956139213\n",
      "Epoch 35: Loss :23.467715094224612\n",
      "Epoch 36: Loss :23.460917437044404\n",
      "Epoch 37: Loss :23.45467895382922\n",
      "Epoch 38: Loss :23.448939672046908\n",
      "Epoch 39: Loss :23.443664533057824\n",
      "Epoch 40: Loss :23.438802751772606\n",
      "Epoch 41: Loss :23.43432396311393\n",
      "Epoch 42: Loss :23.430192193869797\n",
      "Epoch 43: Loss :23.426379742017637\n",
      "Epoch 44: Loss :23.422859176515193\n",
      "Epoch 45: Loss :23.419602495579298\n",
      "Epoch 46: Loss :23.416596911930217\n",
      "Epoch 47: Loss :23.413807810829333\n",
      "Epoch 48: Loss :23.41123059127257\n",
      "Epoch 49: Loss :23.408840943519664\n",
      "Epoch 50: Loss :23.406627118922014\n",
      "Epoch 51: Loss :23.404573358598565\n",
      "Epoch 52: Loss :23.40266498932764\n",
      "Epoch 53: Loss :23.400894444608415\n",
      "Epoch 54: Loss :23.399250355106222\n",
      "Epoch 55: Loss :23.397723299519804\n",
      "Epoch 56: Loss :23.396302776426936\n",
      "Epoch 57: Loss :23.3949865373347\n",
      "Epoch 58: Loss :23.393754983291267\n",
      "Epoch 59: Loss :23.392612781407347\n",
      "Epoch 60: Loss :23.39154735202315\n",
      "Epoch 61: Loss :23.390555547068367\n",
      "Epoch 62: Loss :23.38963470936571\n",
      "Epoch 63: Loss :23.38877244323514\n",
      "Epoch 64: Loss :23.387971929632116\n",
      "Epoch 65: Loss :23.387227003585497\n",
      "Epoch 66: Loss :23.386528102198152\n",
      "Epoch 67: Loss :23.385877181167075\n",
      "Epoch 68: Loss :23.38527162835982\n",
      "Epoch 69: Loss :23.384706245519627\n",
      "Epoch 70: Loss :23.384179698731415\n",
      "Epoch 71: Loss :23.383685520052758\n",
      "Epoch 72: Loss :23.383227797384816\n",
      "Epoch 73: Loss :23.382795876992674\n",
      "Epoch 74: Loss :23.38239645595351\n",
      "Epoch 75: Loss :23.382024998963892\n",
      "Epoch 76: Loss :23.381671397534603\n",
      "Epoch 77: Loss :23.381348886361902\n",
      "Epoch 78: Loss :23.38103979914116\n",
      "Epoch 79: Loss :23.380757523183398\n",
      "Epoch 80: Loss :23.380487531058648\n",
      "Epoch 81: Loss :23.38024066128927\n",
      "Epoch 82: Loss :23.380009090792445\n",
      "Epoch 83: Loss :23.37979158143614\n",
      "Epoch 84: Loss :23.379588381962325\n",
      "Epoch 85: Loss :23.379399497127277\n",
      "Epoch 86: Loss :23.37922222236956\n",
      "Epoch 87: Loss :23.379053854744278\n",
      "Epoch 88: Loss :23.37890081817583\n",
      "Epoch 89: Loss :23.378754536310044\n",
      "Epoch 90: Loss :23.378618711780753\n",
      "Epoch 91: Loss :23.378490939184804\n",
      "Epoch 92: Loss :23.378373034032\n",
      "Epoch 93: Loss :23.378262373846695\n",
      "Epoch 94: Loss :23.378158347790908\n",
      "Epoch 95: Loss :23.378059349977136\n",
      "Epoch 96: Loss :23.37797033430801\n",
      "Epoch 97: Loss :23.37788371967226\n",
      "Epoch 98: Loss :23.377808107552244\n",
      "Epoch 99: Loss :23.377732738062384\n"
     ]
    }
   ],
   "source": [
    "# Computation Graph\n",
    "with tf.Session() as sess:\n",
    "    sess.run(init_op)\n",
    "    writer = tf.summary.FileWriter('graphs', sess.graph)\n",
    "    for i in range(100):\n",
    "        total_loss = 0\n",
    "        for x,y in zip(X_train, Y_train):\n",
    "            _, l=sess.run([optimizer,loss],feed_dict={X:x, Y:y})\n",
    "            total_loss += l\n",
    "        total.append(total_loss / n_samples)\n",
    "        print('Epoch {0}: Loss :{1}'.format(i, total_loss/n_samples))\n",
    "    writer.close()\n",
    "    b_value, w_value = sess.run([b,w])"
   ]
  },
  {
   "cell_type": "code",
   "execution_count": 0,
   "metadata": {
    "colab": {},
    "colab_type": "code",
    "id": "tDM32gmYhLhm",
    "outputId": "38b0ae34-9c3a-475c-c9a6-0f2cad976e84"
   },
   "outputs": [
    {
     "name": "stdout",
     "output_type": "stream",
     "text": [
      "Done\n"
     ]
    },
    {
     "data": {
      "image/png": "[encoded data removed]",
      "text/plain": [
       "<Figure size 432x288 with 1 Axes>"
      ]
     },
     "metadata": {
      "needs_background": "light",
      "tags": []
     },
     "output_type": "display_data"
    },
    {
     "data": {
      "image/png": "[encoded data removed]",
      "text/plain": [
       "<Figure size 432x288 with 1 Axes>"
      ]
     },
     "metadata": {
      "needs_background": "light",
      "tags": []
     },
     "output_type": "display_data"
    }
   ],
   "source": [
    "Y_pred = X_train * w_value + b_value\n",
    "print('Done')\n",
    "plt.plot(X_train, Y_train, 'bo', label='Real Data')\n",
    "plt.plot(X_train, Y_pred, 'r', label='Predicted Data')\n",
    "plt.legend()\n",
    "plt.show()\n",
    "plt.plot(total)\n",
    "plt.show()"
   ]
  },
  {
   "cell_type": "markdown",
   "metadata": {
    "colab_type": "text",
    "id": "LoCyf7l1hLhp"
   },
   "source": [
    "# House\tprice estimation-multiple linear\tregression"
   ]
  },
  {
   "cell_type": "code",
   "execution_count": 0,
   "metadata": {
    "colab": {},
    "colab_type": "code",
    "id": "s1aSCsdWhLhq"
   },
   "outputs": [],
   "source": [
    "def append_bias_reshape(features,labels):\n",
    "    m = features.shape[0]\n",
    "    n = features.shape[1]\n",
    "    x = np.reshape(np.c_[np.ones(m),features],[m,n+1])\n",
    "    y = np.reshape(labels,[m,1])\n",
    "    return x,y"
   ]
  },
  {
   "cell_type": "code",
   "execution_count": 0,
   "metadata": {
    "colab": {},
    "colab_type": "code",
    "id": "f5tvZdDahLhr",
    "outputId": "7745a58e-4cb2-41a4-8e3b-b9d563bc856e"
   },
   "outputs": [
    {
     "name": "stdout",
     "output_type": "stream",
     "text": [
      "WARNING:tensorflow:From <ipython-input-46-16faa0b6895a>:2: load_dataset (from tensorflow.contrib.learn.python.learn.datasets) is deprecated and will be removed in a future version.\n",
      "Instructions for updating:\n",
      "Please use tf.data.\n",
      "WARNING:tensorflow:From c:\\programdata\\anaconda\\envs\\tensorflow\\lib\\site-packages\\tensorflow\\contrib\\learn\\python\\learn\\datasets\\__init__.py:80: load_boston (from tensorflow.contrib.learn.python.learn.datasets.base) is deprecated and will be removed in a future version.\n",
      "Instructions for updating:\n",
      "Use scikits.learn.datasets.\n",
      "WARNING:tensorflow:From c:\\programdata\\anaconda\\envs\\tensorflow\\lib\\site-packages\\tensorflow\\contrib\\learn\\python\\learn\\datasets\\base.py:129: load_csv_with_header (from tensorflow.contrib.learn.python.learn.datasets.base) is deprecated and will be removed in a future version.\n",
      "Instructions for updating:\n",
      "Use tf.data instead.\n"
     ]
    },
    {
     "ename": "NameError",
     "evalue": "name 'normalize' is not defined",
     "output_type": "error",
     "traceback": [
      "\u001b[1;31m---------------------------------------------------------------------------\u001b[0m",
      "\u001b[1;31mNameError\u001b[0m                                 Traceback (most recent call last)",
      "\u001b[1;32m<ipython-input-46-16faa0b6895a>\u001b[0m in \u001b[0;36m<module>\u001b[1;34m\u001b[0m\n\u001b[0;32m      2\u001b[0m \u001b[0mboston\u001b[0m \u001b[1;33m=\u001b[0m \u001b[0mtf\u001b[0m\u001b[1;33m.\u001b[0m\u001b[0mcontrib\u001b[0m\u001b[1;33m.\u001b[0m\u001b[0mlearn\u001b[0m\u001b[1;33m.\u001b[0m\u001b[0mdatasets\u001b[0m\u001b[1;33m.\u001b[0m\u001b[0mload_dataset\u001b[0m\u001b[1;33m(\u001b[0m\u001b[1;34m'boston'\u001b[0m\u001b[1;33m)\u001b[0m\u001b[1;33m\u001b[0m\u001b[0m\n\u001b[0;32m      3\u001b[0m \u001b[0mX_train\u001b[0m\u001b[1;33m,\u001b[0m \u001b[0mY_train\u001b[0m \u001b[1;33m=\u001b[0m \u001b[0mboston\u001b[0m\u001b[1;33m.\u001b[0m\u001b[0mdata\u001b[0m\u001b[1;33m,\u001b[0m \u001b[0mboston\u001b[0m\u001b[1;33m.\u001b[0m\u001b[0mtarget\u001b[0m\u001b[1;33m\u001b[0m\u001b[0m\n\u001b[1;32m----> 4\u001b[1;33m \u001b[0mX_train\u001b[0m \u001b[1;33m=\u001b[0m \u001b[0mnormalize\u001b[0m\u001b[1;33m(\u001b[0m\u001b[0mX_train\u001b[0m\u001b[1;33m)\u001b[0m\u001b[1;33m\u001b[0m\u001b[0m\n\u001b[0m\u001b[0;32m      5\u001b[0m \u001b[0mX_train\u001b[0m\u001b[1;33m,\u001b[0m \u001b[0mY_train\u001b[0m \u001b[1;33m=\u001b[0m \u001b[0mappend_bias_reshape\u001b[0m\u001b[1;33m(\u001b[0m\u001b[0mX_train\u001b[0m\u001b[1;33m,\u001b[0m \u001b[0mY_train\u001b[0m\u001b[1;33m)\u001b[0m\u001b[1;33m\u001b[0m\u001b[0m\n\u001b[0;32m      6\u001b[0m \u001b[0mm\u001b[0m \u001b[1;33m=\u001b[0m \u001b[0mlen\u001b[0m\u001b[1;33m(\u001b[0m\u001b[0mX_train\u001b[0m\u001b[1;33m)\u001b[0m\u001b[1;33m\u001b[0m\u001b[0m\n",
      "\u001b[1;31mNameError\u001b[0m: name 'normalize' is not defined"
     ]
    }
   ],
   "source": [
    "# Data\n",
    "boston = tf.contrib.learn.datasets.load_dataset('boston')\n",
    "X_train, Y_train = boston.data, boston.target\n",
    "X_train = normalize(X_train)\n",
    "X_train, Y_train = append_bias_reshape(X_train, Y_train)\n",
    "m = len(X_train)\n",
    "n = 13 + 1"
   ]
  },
  {
   "cell_type": "code",
   "execution_count": 0,
   "metadata": {
    "colab": {},
    "colab_type": "code",
    "id": "CvWEOb3DhLhu"
   },
   "outputs": [],
   "source": [
    "X = tf.placeholder(tf.float32, name='X', shape=[m,n])\n",
    "Y = tf.placeholder(tf.float32, name='Y')"
   ]
  },
  {
   "cell_type": "code",
   "execution_count": 0,
   "metadata": {
    "colab": {},
    "colab_type": "code",
    "id": "uOLVzdw3hLhv"
   },
   "outputs": [],
   "source": [
    "w = tf.Variable(tf.random_normal([n,1]))"
   ]
  },
  {
   "cell_type": "code",
   "execution_count": 0,
   "metadata": {
    "colab": {},
    "colab_type": "code",
    "id": "0meQLchdhLhx"
   },
   "outputs": [],
   "source": [
    "Y_hat = tf.matmul(X, w)"
   ]
  },
  {
   "cell_type": "code",
   "execution_count": 0,
   "metadata": {
    "colab": {},
    "colab_type": "code",
    "id": "PYBgTdIshLh0"
   },
   "outputs": [],
   "source": [
    "loss = tf.reduce_mean(tf.square(Y - Y_hat, name='loss'))"
   ]
  },
  {
   "cell_type": "code",
   "execution_count": 0,
   "metadata": {
    "colab": {},
    "colab_type": "code",
    "id": "BlctafqkhLh2"
   },
   "outputs": [],
   "source": [
    "optimizer = tf.train.GradientDescentOptimizer(learning_rate=0.01).minimize(loss)"
   ]
  },
  {
   "cell_type": "code",
   "execution_count": 0,
   "metadata": {
    "colab": {},
    "colab_type": "code",
    "id": "tvsHXirjhLh6"
   },
   "outputs": [],
   "source": [
    "init_op = tf.global_variables_initializer()\n",
    "total = []"
   ]
  },
  {
   "cell_type": "code",
   "execution_count": 0,
   "metadata": {
    "colab": {},
    "colab_type": "code",
    "id": "cTvf5y0hhLh8",
    "outputId": "0dadc04b-efbc-4963-a93b-41d53314ebe5"
   },
   "outputs": [
    {
     "name": "stdout",
     "output_type": "stream",
     "text": [
      "Epoch 0: Loss : 561.6956787109375\n",
      "Epoch 1: Loss : 369.3152160644531\n",
      "Epoch 2: Loss : 260.9764099121094\n",
      "Epoch 3: Loss : 199.5170135498047\n",
      "Epoch 4: Loss : 164.22848510742188\n",
      "Epoch 5: Loss : 143.56985473632812\n",
      "Epoch 6: Loss : 131.10841369628906\n",
      "Epoch 7: Loss : 123.25784301757812\n",
      "Epoch 8: Loss : 118.01788330078125\n",
      "Epoch 9: Loss : 114.27204895019531\n",
      "Epoch 10: Loss : 111.39640045166016\n",
      "Epoch 11: Loss : 109.04158782958984\n",
      "Epoch 12: Loss : 107.01123046875\n",
      "Epoch 13: Loss : 105.19435119628906\n",
      "Epoch 14: Loss : 103.52755737304688\n",
      "Epoch 15: Loss : 101.97412872314453\n",
      "Epoch 16: Loss : 100.51217651367188\n",
      "Epoch 17: Loss : 99.1281967163086\n",
      "Epoch 18: Loss : 97.81343078613281\n",
      "Epoch 19: Loss : 96.56178283691406\n",
      "Epoch 20: Loss : 95.36870574951172\n",
      "Epoch 21: Loss : 94.23062133789062\n",
      "Epoch 22: Loss : 93.1444320678711\n",
      "Epoch 23: Loss : 92.10748291015625\n",
      "Epoch 24: Loss : 91.1173095703125\n",
      "Epoch 25: Loss : 90.1716537475586\n",
      "Epoch 26: Loss : 89.26841735839844\n",
      "Epoch 27: Loss : 88.40559387207031\n",
      "Epoch 28: Loss : 87.5812759399414\n",
      "Epoch 29: Loss : 86.79367065429688\n",
      "Epoch 30: Loss : 86.04108428955078\n",
      "Epoch 31: Loss : 85.3218765258789\n",
      "Epoch 32: Loss : 84.63450622558594\n",
      "Epoch 33: Loss : 83.97747039794922\n",
      "Epoch 34: Loss : 83.34938049316406\n",
      "Epoch 35: Loss : 82.74889373779297\n",
      "Epoch 36: Loss : 82.17472076416016\n",
      "Epoch 37: Loss : 81.6256332397461\n",
      "Epoch 38: Loss : 81.1004867553711\n",
      "Epoch 39: Loss : 80.59815979003906\n",
      "Epoch 40: Loss : 80.11759185791016\n",
      "Epoch 41: Loss : 79.65777587890625\n",
      "Epoch 42: Loss : 79.21774291992188\n",
      "Epoch 43: Loss : 78.7966079711914\n",
      "Epoch 44: Loss : 78.39347076416016\n",
      "Epoch 45: Loss : 78.00749969482422\n",
      "Epoch 46: Loss : 77.63787841796875\n",
      "Epoch 47: Loss : 77.28387451171875\n",
      "Epoch 48: Loss : 76.94477844238281\n",
      "Epoch 49: Loss : 76.619873046875\n",
      "Epoch 50: Loss : 76.30850219726562\n",
      "Epoch 51: Loss : 76.01006317138672\n",
      "Epoch 52: Loss : 75.72394561767578\n",
      "Epoch 53: Loss : 75.4495849609375\n",
      "Epoch 54: Loss : 75.18643188476562\n",
      "Epoch 55: Loss : 74.93396759033203\n",
      "Epoch 56: Loss : 74.69169616699219\n",
      "Epoch 57: Loss : 74.45915222167969\n",
      "Epoch 58: Loss : 74.23590087890625\n",
      "Epoch 59: Loss : 74.02149963378906\n",
      "Epoch 60: Loss : 73.8155288696289\n",
      "Epoch 61: Loss : 73.61762237548828\n",
      "Epoch 62: Loss : 73.42741394042969\n",
      "Epoch 63: Loss : 73.24452209472656\n",
      "Epoch 64: Loss : 73.06861877441406\n",
      "Epoch 65: Loss : 72.89939880371094\n",
      "Epoch 66: Loss : 72.7365493774414\n",
      "Epoch 67: Loss : 72.57977294921875\n",
      "Epoch 68: Loss : 72.42877960205078\n",
      "Epoch 69: Loss : 72.28333282470703\n",
      "Epoch 70: Loss : 72.14315795898438\n",
      "Epoch 71: Loss : 72.00802612304688\n",
      "Epoch 72: Loss : 71.877685546875\n",
      "Epoch 73: Loss : 71.75194549560547\n",
      "Epoch 74: Loss : 71.63057708740234\n",
      "Epoch 75: Loss : 71.51339721679688\n",
      "Epoch 76: Loss : 71.40018463134766\n",
      "Epoch 77: Loss : 71.29077911376953\n",
      "Epoch 78: Loss : 71.18502044677734\n",
      "Epoch 79: Loss : 71.08272552490234\n",
      "Epoch 80: Loss : 70.9837417602539\n",
      "Epoch 81: Loss : 70.88792419433594\n",
      "Epoch 82: Loss : 70.79512023925781\n",
      "Epoch 83: Loss : 70.70520782470703\n",
      "Epoch 84: Loss : 70.61803436279297\n",
      "Epoch 85: Loss : 70.53348541259766\n",
      "Epoch 86: Loss : 70.45146942138672\n",
      "Epoch 87: Loss : 70.371826171875\n",
      "Epoch 88: Loss : 70.29449462890625\n",
      "Epoch 89: Loss : 70.21934509277344\n",
      "Epoch 90: Loss : 70.14628601074219\n",
      "Epoch 91: Loss : 70.0752182006836\n",
      "Epoch 92: Loss : 70.00605010986328\n",
      "Epoch 93: Loss : 69.93871307373047\n",
      "Epoch 94: Loss : 69.87313079833984\n",
      "Epoch 95: Loss : 69.8092041015625\n",
      "Epoch 96: Loss : 69.74687194824219\n",
      "Epoch 97: Loss : 69.6860580444336\n",
      "Epoch 98: Loss : 69.62669372558594\n",
      "Epoch 99: Loss : 69.56874084472656\n"
     ]
    }
   ],
   "source": [
    "with tf.Session() as sess:\n",
    "    sess.run(init_op)\n",
    "    writer = tf.summary.FileWriter('graphs', sess.graph)\n",
    "    for i in range(100):\n",
    "        _, l = sess.run([optimizer, loss], feed_dict={X: X_train, Y: Y_train})\n",
    "        total.append(l)\n",
    "        print('Epoch {0}: Loss : {1}'.format(i, l))\n",
    "    writer.close()\n",
    "    w_value, b_value = sess.run([w,b])"
   ]
  },
  {
   "cell_type": "code",
   "execution_count": 0,
   "metadata": {
    "colab": {},
    "colab_type": "code",
    "id": "aSqe_rd8hLiB",
    "outputId": "0ab9f5f4-f97c-40ff-ef47-785e77311621"
   },
   "outputs": [
    {
     "data": {
      "image/png": "[encoded data removed]",
      "text/plain": [
       "<Figure size 432x288 with 1 Axes>"
      ]
     },
     "metadata": {
      "needs_background": "light",
      "tags": []
     },
     "output_type": "display_data"
    }
   ],
   "source": [
    "plt.plot(total)\n",
    "plt.show()"
   ]
  },
  {
   "cell_type": "code",
   "execution_count": 0,
   "metadata": {
    "colab": {},
    "colab_type": "code",
    "id": "BxJEm4vXhLiE",
    "outputId": "0336046e-4e7d-4cf8-da35-d43b0a15d336"
   },
   "outputs": [
    {
     "name": "stdout",
     "output_type": "stream",
     "text": [
      "Predicted Value: $23800.0 Actual Value: /$[16800.]\n"
     ]
    }
   ],
   "source": [
    "N =500\n",
    "X_new = X_train[N,:]\n",
    "Y_pred = (np.matmul(X_new, w_value)+b_value).round(1)\n",
    "print('Predicted Value: ${0} Actual Value: /${1}'.format(Y_pred[0]*1000, Y_train[N]*1000))"
   ]
  },
  {
   "cell_type": "markdown",
   "metadata": {
    "colab_type": "text",
    "id": "gMs8vv3JhLiI"
   },
   "source": [
    "# Logistic Regression"
   ]
  },
  {
   "cell_type": "code",
   "execution_count": 0,
   "metadata": {
    "colab": {},
    "colab_type": "code",
    "id": "wKqo_87hhLiI"
   },
   "outputs": [],
   "source": [
    "from tensorflow.examples.tutorials.mnist import input_data"
   ]
  },
  {
   "cell_type": "code",
   "execution_count": 0,
   "metadata": {
    "colab": {},
    "colab_type": "code",
    "id": "QnpknDiZhLiK",
    "outputId": "fffc5776-6d22-40aa-bb58-5179ebef12fc"
   },
   "outputs": [
    {
     "name": "stdout",
     "output_type": "stream",
     "text": [
      "WARNING:tensorflow:From <ipython-input-3-a839aeb82f4b>:1: read_data_sets (from tensorflow.contrib.learn.python.learn.datasets.mnist) is deprecated and will be removed in a future version.\n",
      "Instructions for updating:\n",
      "Please use alternatives such as official/mnist/dataset.py from tensorflow/models.\n",
      "WARNING:tensorflow:From c:\\programdata\\anaconda\\envs\\tensorflow\\lib\\site-packages\\tensorflow\\contrib\\learn\\python\\learn\\datasets\\mnist.py:260: maybe_download (from tensorflow.contrib.learn.python.learn.datasets.base) is deprecated and will be removed in a future version.\n",
      "Instructions for updating:\n",
      "Please write your own downloading logic.\n",
      "WARNING:tensorflow:From c:\\programdata\\anaconda\\envs\\tensorflow\\lib\\site-packages\\tensorflow\\contrib\\learn\\python\\learn\\datasets\\mnist.py:262: extract_images (from tensorflow.contrib.learn.python.learn.datasets.mnist) is deprecated and will be removed in a future version.\n",
      "Instructions for updating:\n",
      "Please use tf.data to implement this functionality.\n",
      "Extracting MNIST_data/train-images-idx3-ubyte.gz\n",
      "WARNING:tensorflow:From c:\\programdata\\anaconda\\envs\\tensorflow\\lib\\site-packages\\tensorflow\\contrib\\learn\\python\\learn\\datasets\\mnist.py:267: extract_labels (from tensorflow.contrib.learn.python.learn.datasets.mnist) is deprecated and will be removed in a future version.\n",
      "Instructions for updating:\n",
      "Please use tf.data to implement this functionality.\n",
      "Extracting MNIST_data/train-labels-idx1-ubyte.gz\n",
      "WARNING:tensorflow:From c:\\programdata\\anaconda\\envs\\tensorflow\\lib\\site-packages\\tensorflow\\contrib\\learn\\python\\learn\\datasets\\mnist.py:110: dense_to_one_hot (from tensorflow.contrib.learn.python.learn.datasets.mnist) is deprecated and will be removed in a future version.\n",
      "Instructions for updating:\n",
      "Please use tf.one_hot on tensors.\n",
      "Extracting MNIST_data/t10k-images-idx3-ubyte.gz\n",
      "Extracting MNIST_data/t10k-labels-idx1-ubyte.gz\n",
      "WARNING:tensorflow:From c:\\programdata\\anaconda\\envs\\tensorflow\\lib\\site-packages\\tensorflow\\contrib\\learn\\python\\learn\\datasets\\mnist.py:290: DataSet.__init__ (from tensorflow.contrib.learn.python.learn.datasets.mnist) is deprecated and will be removed in a future version.\n",
      "Instructions for updating:\n",
      "Please use alternatives such as official/mnist/dataset.py from tensorflow/models.\n"
     ]
    }
   ],
   "source": [
    "mnist = input_data.read_data_sets(\"MNIST_data/\", one_hot=True)"
   ]
  },
  {
   "cell_type": "code",
   "execution_count": 0,
   "metadata": {
    "colab": {},
    "colab_type": "code",
    "id": "S3bq8BFyhLiN"
   },
   "outputs": [],
   "source": [
    "x = tf.placeholder(tf.float32, [None, 784], name='X')\n",
    "y = tf.placeholder(tf.float32, [None, 10], name='Y')"
   ]
  },
  {
   "cell_type": "code",
   "execution_count": 0,
   "metadata": {
    "colab": {},
    "colab_type": "code",
    "id": "f8SUtSE4hLiO"
   },
   "outputs": [],
   "source": [
    "W = tf.Variable(tf.zeros([784,10]), name='W')\n",
    "b = tf.Variable(tf.zeros([10]), name='b')"
   ]
  },
  {
   "cell_type": "code",
   "execution_count": 0,
   "metadata": {
    "colab": {},
    "colab_type": "code",
    "id": "8Km5iOQahLiP"
   },
   "outputs": [],
   "source": [
    "with tf.name_scope(\"wx_b\") as scope:\n",
    "    y_hat = tf.nn.softmax(tf.matmul(x,W) + b)"
   ]
  },
  {
   "cell_type": "code",
   "execution_count": 0,
   "metadata": {
    "colab": {},
    "colab_type": "code",
    "id": "6EXd1FnbhLiR"
   },
   "outputs": [],
   "source": [
    "w_h = tf.summary.histogram(\"weights\", W)\n",
    "b_h = tf.summary.histogram(\"biases\", b)"
   ]
  },
  {
   "cell_type": "code",
   "execution_count": 0,
   "metadata": {
    "colab": {},
    "colab_type": "code",
    "id": "gO2ETZAShLiX",
    "outputId": "8b8f22e2-1f0d-4c4b-e130-11ffed07b279"
   },
   "outputs": [
    {
     "name": "stdout",
     "output_type": "stream",
     "text": [
      "WARNING:tensorflow:From <ipython-input-8-ef96638d56c9>:2: softmax_cross_entropy_with_logits (from tensorflow.python.ops.nn_ops) is deprecated and will be removed in a future version.\n",
      "Instructions for updating:\n",
      "\n",
      "Future major versions of TensorFlow will allow gradients to flow\n",
      "into the labels input on backprop by default.\n",
      "\n",
      "See `tf.nn.softmax_cross_entropy_with_logits_v2`.\n",
      "\n"
     ]
    }
   ],
   "source": [
    "with tf.name_scope('cross-entropy') as scope:\n",
    "    loss = tf.reduce_mean(tf.nn.softmax_cross_entropy_with_logits(labels=y, logits=y_hat))\n",
    "    tf.summary.scalar('cross-entropy', loss)"
   ]
  },
  {
   "cell_type": "code",
   "execution_count": 0,
   "metadata": {
    "colab": {},
    "colab_type": "code",
    "id": "deChCbU2hLia"
   },
   "outputs": [],
   "source": [
    "with tf.name_scope('Train') as scope:\n",
    "    optimizer = tf.train.GradientDescentOptimizer(0.01).minimize(loss)"
   ]
  },
  {
   "cell_type": "code",
   "execution_count": 0,
   "metadata": {
    "colab": {},
    "colab_type": "code",
    "id": "l0cRvZLahLic"
   },
   "outputs": [],
   "source": [
    "init = tf.global_variables_initializer()"
   ]
  },
  {
   "cell_type": "code",
   "execution_count": 0,
   "metadata": {
    "colab": {},
    "colab_type": "code",
    "id": "9hgNGnbJhLie"
   },
   "outputs": [],
   "source": [
    "merged_summary_op = tf.summary.merge_all()"
   ]
  },
  {
   "cell_type": "code",
   "execution_count": 0,
   "metadata": {
    "colab": {},
    "colab_type": "code",
    "id": "sFZfUniQhLii",
    "outputId": "cf737e89-ab29-4964-acc7-28531871e60e",
    "scrolled": true
   },
   "outputs": [
    {
     "name": "stdout",
     "output_type": "stream",
     "text": [
      "Epoch 0: Loss 2.250791922916066\n",
      "Epoch 1: Loss 2.0908762637051668\n",
      "Epoch 2: Loss 1.9602507439526644\n",
      "Epoch 3: Loss 1.8831343399394642\n",
      "Epoch 4: Loss 1.8341754694418473\n",
      "Epoch 5: Loss 1.8020906240289862\n",
      "Epoch 6: Loss 1.7799393428455699\n",
      "Epoch 7: Loss 1.7636678953604266\n",
      "Epoch 8: Loss 1.7511302345449273\n",
      "Epoch 9: Loss 1.7411368044939908\n",
      "Epoch 10: Loss 1.7329379055716774\n",
      "Epoch 11: Loss 1.7260660494457591\n",
      "Epoch 12: Loss 1.7201915849338878\n",
      "Epoch 13: Loss 1.7151120432940397\n",
      "Epoch 14: Loss 1.7106489224867387\n",
      "Epoch 15: Loss 1.7066870960322293\n",
      "Epoch 16: Loss 1.703143455765464\n",
      "Epoch 17: Loss 1.6999417580257763\n",
      "Epoch 18: Loss 1.6970203618569808\n",
      "Epoch 19: Loss 1.6943363751064648\n",
      "Epoch 20: Loss 1.691846748048609\n",
      "Epoch 21: Loss 1.6895059256120162\n",
      "Epoch 22: Loss 1.6872708257761868\n",
      "Epoch 23: Loss 1.6850732437047091\n",
      "Epoch 24: Loss 1.6827551492777737\n",
      "Epoch 25: Loss 1.6799151396751404\n",
      "Epoch 26: Loss 1.6753412268378518\n",
      "Epoch 27: Loss 1.6683077727664601\n",
      "Epoch 28: Loss 1.6622571268948643\n",
      "Epoch 29: Loss 1.6575471275502984\n",
      "Epoch 30: Loss 1.6531550338051535\n",
      "Epoch 31: Loss 1.6489499701153147\n",
      "Epoch 32: Loss 1.6449570586464621\n",
      "Epoch 33: Loss 1.6412369301102379\n",
      "Epoch 34: Loss 1.6378230133923617\n",
      "Epoch 35: Loss 1.6347468974373558\n",
      "Epoch 36: Loss 1.6320037514513188\n",
      "Epoch 37: Loss 1.6295598095113581\n",
      "Epoch 38: Loss 1.6273777239972895\n",
      "Epoch 39: Loss 1.6254094193198465\n",
      "Epoch 40: Loss 1.623615489656275\n",
      "Epoch 41: Loss 1.621976142796603\n",
      "Epoch 42: Loss 1.6204423106800425\n",
      "Epoch 43: Loss 1.6190281137553129\n",
      "Epoch 44: Loss 1.6176960294896907\n",
      "Epoch 45: Loss 1.6164339327812194\n",
      "Epoch 46: Loss 1.6152474676478992\n",
      "Epoch 47: Loss 1.6141100283102556\n",
      "Epoch 48: Loss 1.6130405365337026\n",
      "Epoch 49: Loss 1.612009618282318\n",
      "Epoch 50: Loss 1.6110302383249455\n",
      "Epoch 51: Loss 1.61008413401517\n",
      "Epoch 52: Loss 1.6091771188649264\n",
      "Epoch 53: Loss 1.608312353220853\n",
      "Epoch 54: Loss 1.6074718076532537\n",
      "Epoch 55: Loss 1.6066662686521356\n",
      "Epoch 56: Loss 1.6058876458081333\n",
      "Epoch 57: Loss 1.6051341321251609\n",
      "Epoch 58: Loss 1.604403269290924\n",
      "Epoch 59: Loss 1.6037008788368918\n",
      "Epoch 60: Loss 1.6030194971778176\n",
      "Epoch 61: Loss 1.6023583108728583\n",
      "Epoch 62: Loss 1.6017150922255083\n",
      "Epoch 63: Loss 1.601089075045152\n",
      "Epoch 64: Loss 1.6004848556085067\n",
      "Epoch 65: Loss 1.599895229773088\n",
      "Epoch 66: Loss 1.5993200263110074\n",
      "Epoch 67: Loss 1.5987633109092712\n",
      "Epoch 68: Loss 1.598216989257119\n",
      "Epoch 69: Loss 1.597687652761286\n",
      "Epoch 70: Loss 1.5971695468642495\n",
      "Epoch 71: Loss 1.5966679542714899\n",
      "Epoch 72: Loss 1.5961729630556973\n",
      "Epoch 73: Loss 1.5956941624121233\n",
      "Epoch 74: Loss 1.595223130312833\n",
      "Epoch 75: Loss 1.5947651377591219\n",
      "Epoch 76: Loss 1.594314648888328\n",
      "Epoch 77: Loss 1.593879404067993\n",
      "Epoch 78: Loss 1.5934488036415793\n",
      "Epoch 79: Loss 1.5930249003930526\n",
      "Epoch 80: Loss 1.5926136565208435\n",
      "Epoch 81: Loss 1.5922119441899387\n",
      "Epoch 82: Loss 1.5918165490844034\n",
      "Epoch 83: Loss 1.5914271939884532\n",
      "Epoch 84: Loss 1.5910491037368775\n",
      "Epoch 85: Loss 1.5906748762997713\n",
      "Epoch 86: Loss 1.590309909473766\n",
      "Epoch 87: Loss 1.5899509494954889\n",
      "Epoch 88: Loss 1.5895973079854793\n",
      "Epoch 89: Loss 1.5892511625723404\n",
      "Epoch 90: Loss 1.5889075179533525\n",
      "Epoch 91: Loss 1.588581067648801\n",
      "Epoch 92: Loss 1.5882508553158152\n",
      "Epoch 93: Loss 1.5879256543246183\n",
      "Epoch 94: Loss 1.5876115666736257\n",
      "Epoch 95: Loss 1.5873011537031694\n",
      "Epoch 96: Loss 1.5869957676800814\n",
      "Epoch 97: Loss 1.586692252592607\n",
      "Epoch 98: Loss 1.586398706002669\n",
      "Epoch 99: Loss 1.5861031300371344\n",
      "Done\n",
      "0.909\n"
     ]
    }
   ],
   "source": [
    "max_epochs = 100\n",
    "batch_size = 100\n",
    "with tf.Session() as sess:\n",
    "    sess.run(init)\n",
    "    summary_writer = tf.summary.FileWriter('graphs', sess.graph)\n",
    "    for epoch in range(max_epochs):\n",
    "        loss_avg = 0\n",
    "        num_of_batch = int(mnist.train.num_examples/batch_size)\n",
    "        for i in range(num_of_batch):\n",
    "            batch_xs, batch_ys = mnist.train.next_batch(batch_size)\n",
    "            _, l, summary_str = sess.run([optimizer, loss, merged_summary_op], feed_dict = {x:batch_xs, y:batch_ys})\n",
    "            loss_avg += l\n",
    "            summary_writer.add_summary(summary_str, epoch*num_of_batch + i)\n",
    "        loss_avg  = loss_avg/num_of_batch\n",
    "        print('Epoch {0}: Loss {1}'.format(epoch, loss_avg))\n",
    "    print('Done')\n",
    "    correct_prediction = tf.equal(tf.argmax(y_hat, 1), tf.argmax(y, 1))\n",
    "    accuracy = tf.reduce_mean(tf.cast(correct_prediction, tf.float32))\n",
    "    print(sess.run(accuracy, feed_dict={x : mnist.test.images, y: mnist.test.labels}))"
   ]
  },
  {
   "cell_type": "markdown",
   "metadata": {
    "colab_type": "text",
    "id": "ZE4-XGsGhLil"
   },
   "source": [
    "∑Wjxj+b\tis called activity of the neuron"
   ]
  },
  {
   "cell_type": "markdown",
   "metadata": {
    "colab_type": "text",
    "id": "hcOAmqT7hLio"
   },
   "source": [
    "# Threshold activation function:"
   ]
  },
  {
   "cell_type": "code",
   "execution_count": 0,
   "metadata": {
    "colab": {},
    "colab_type": "code",
    "id": "gYZ-Iqj0hLip",
    "outputId": "706443c5-a544-4e2a-e8fe-24d2b0293bd2"
   },
   "outputs": [
    {
     "data": {
      "image/png": "[encoded data removed]",
      "text/plain": [
       "<Figure size 432x288 with 1 Axes>"
      ]
     },
     "metadata": {
      "needs_background": "light",
      "tags": []
     },
     "output_type": "display_data"
    }
   ],
   "source": [
    "# Threshold Activation function\n",
    "def threshold(x):\n",
    "    cond = tf.less(x, tf.zeros(tf.shape(x), dtype = x.dtype))\n",
    "    out = tf.where(cond, tf.zeros(tf.shape(x)), tf.ones(tf.shape(x)))\n",
    "    return out\n",
    "# Plotting Threshold Activation Function\n",
    "h = np.linspace(-1,1,50)\n",
    "out = threshold(h)\n",
    "init = tf.global_variables_initializer()\n",
    "with tf.Session() as sess:\n",
    "    sess.run(init)\n",
    "    y = sess.run(out)\n",
    "    plt.xlabel('Activity of Neuron')\n",
    "    plt.ylabel('Output of Neuron')\n",
    "    plt.title('Threshold Activation Function')\n",
    "    plt.plot(h, y)"
   ]
  },
  {
   "cell_type": "markdown",
   "metadata": {
    "colab_type": "text",
    "id": "h21pulj7hLis"
   },
   "source": [
    "# Sigmoidal\tactivation\tfunction:\t\n",
    "In this\tcase, the output of the\tneuron is specified\tby the function\t\n",
    "g(x) = 1 / (1 +\texp(-x))."
   ]
  },
  {
   "cell_type": "code",
   "execution_count": 0,
   "metadata": {
    "colab": {},
    "colab_type": "code",
    "id": "NOPVvoWxhLis",
    "outputId": "7632d3c0-2df6-4606-8dc1-4c0eaba6dc9b"
   },
   "outputs": [
    {
     "data": {
      "image/png": "[encoded data removed]",
      "text/plain": [
       "<Figure size 432x288 with 1 Axes>"
      ]
     },
     "metadata": {
      "needs_background": "light",
      "tags": []
     },
     "output_type": "display_data"
    }
   ],
   "source": [
    "#Plotting Sigmidal Activation Function\n",
    "h = np.linspace(-10,10,50)\n",
    "out = tf.sigmoid(h)\n",
    "init = tf.global_variables_initializer()\n",
    "with tf.Session() as sess:\n",
    "    sess.run(init)\n",
    "    y = sess.run(out)\n",
    "    plt.xlabel('Activity of Neuron')\n",
    "    plt.ylabel('Output of Neuron')\n",
    "    plt.title('Sigmoidal Activation Function')\n",
    "    plt.plot(h, y)"
   ]
  },
  {
   "cell_type": "markdown",
   "metadata": {
    "colab_type": "text",
    "id": "HTl9mfjbhLiv"
   },
   "source": [
    "# Hyperbolic tangent activation\tfunction:\n",
    "(1-exp(-2x)/(1+exp(-2x))"
   ]
  },
  {
   "cell_type": "code",
   "execution_count": 0,
   "metadata": {
    "colab": {},
    "colab_type": "code",
    "id": "da9K4r3_hLiw",
    "outputId": "5fb3d3f8-43ae-493c-a184-27eee8d4c0e7"
   },
   "outputs": [
    {
     "data": {
      "image/png": "[encoded data removed]",
      "text/plain": [
       "<Figure size 432x288 with 1 Axes>"
      ]
     },
     "metadata": {
      "needs_background": "light",
      "tags": []
     },
     "output_type": "display_data"
    }
   ],
   "source": [
    "#Plotting Hyperbolic tangent activation function\n",
    "h = np.linspace(-10,10,50)\n",
    "out = tf.tanh(h)\n",
    "init = tf.global_variables_initializer()\n",
    "with tf.Session() as sess:\n",
    "    sess.run(init)\n",
    "    y = sess.run(out)\n",
    "    plt.xlabel('Activity of Neuron')\n",
    "    plt.ylabel('Output of Neuron')\n",
    "    plt.title('Hyperbolic Tangent Activation Function')\n",
    "    plt.plot(h, y)"
   ]
  },
  {
   "cell_type": "markdown",
   "metadata": {
    "colab_type": "text",
    "id": "8A7FATYIhLiz"
   },
   "source": [
    "# Linear Activation Function\n",
    "same as the activity of the neuron"
   ]
  },
  {
   "cell_type": "code",
   "execution_count": 0,
   "metadata": {
    "colab": {},
    "colab_type": "code",
    "id": "lAOHMkEqhLiz",
    "outputId": "77ad0663-fe57-4520-bb2b-2a98db138d6f"
   },
   "outputs": [
    {
     "name": "stdout",
     "output_type": "stream",
     "text": [
      "[[-2.0906765]]\n"
     ]
    }
   ],
   "source": [
    "# Linear Activation Function\n",
    "X_in = tf.Variable(tf.zeros([1,3]))\n",
    "b = tf.Variable(tf.random_normal([1, 1], stddev=2))\n",
    "w = tf.Variable(tf.random_normal([3, 1], stddev=2))\n",
    "linear_out = tf.matmul(X_in, w) + b\n",
    "init = tf.global_variables_initializer()\n",
    "with tf.Session() as sess:\n",
    "    sess.run(init)\n",
    "    out = sess.run(linear_out)\n",
    "print(out)"
   ]
  },
  {
   "cell_type": "markdown",
   "metadata": {
    "colab_type": "text",
    "id": "y3YbqFnAhLi3"
   },
   "source": [
    "# Rectified\tlinear\tunits\t(ReLU)\tactivation\tfunction"
   ]
  },
  {
   "cell_type": "code",
   "execution_count": 0,
   "metadata": {
    "colab": {},
    "colab_type": "code",
    "id": "YVOXcpFmhLi4",
    "outputId": "b01b0ed1-2eac-4f84-fa88-15756a599951"
   },
   "outputs": [
    {
     "data": {
      "image/png": "[encoded data removed]",
      "text/plain": [
       "<Figure size 432x288 with 1 Axes>"
      ]
     },
     "metadata": {
      "needs_background": "light",
      "tags": []
     },
     "output_type": "display_data"
    }
   ],
   "source": [
    "# Plotting Softmax activation function\n",
    "h = np.linspace(-10,10,50)\n",
    "out = tf.nn.relu(h)\n",
    "init = tf.global_variables_initializer()\n",
    "with tf.Session() as sess:\n",
    "    sess.run(init)\n",
    "    y = sess.run(out)\n",
    "    plt.xlabel('Activity of Neuron')\n",
    "    plt.ylabel('Output of Neuron')\n",
    "    plt.title('Relu Activation Function')\n",
    "    plt.plot(h, y)"
   ]
  },
  {
   "cell_type": "markdown",
   "metadata": {
    "colab_type": "text",
    "id": "RqHpNbGqhLi6"
   },
   "source": [
    "# Softmax\tactivation\tfunction\n",
    "yi = exp(xi)/∑jexp(xj)"
   ]
  },
  {
   "cell_type": "code",
   "execution_count": 0,
   "metadata": {
    "colab": {},
    "colab_type": "code",
    "id": "75AX4cUzhLi_",
    "outputId": "a9fb93bc-002c-45ad-8ad6-b029c2bb6d59"
   },
   "outputs": [
    {
     "data": {
      "image/png": "[encoded data removed]",
      "text/plain": [
       "<Figure size 432x288 with 1 Axes>"
      ]
     },
     "metadata": {
      "needs_background": "light",
      "tags": []
     },
     "output_type": "display_data"
    }
   ],
   "source": [
    "#Plotting Softmax activation function\n",
    "h = np.linspace(-5,5,50)\n",
    "out = tf.nn.softmax(h)\n",
    "init = tf.global_variables_initializer()\n",
    "with tf.Session() as sess:\n",
    "    sess.run(init)\n",
    "    y = sess.run(out)\n",
    "    plt.xlabel('Activity of Neuron')\n",
    "    plt.ylabel('Output of Neuron')\n",
    "    plt.title('Softmax Activation Function')\n",
    "    plt.plot(h, y)"
   ]
  },
  {
   "cell_type": "markdown",
   "metadata": {
    "colab_type": "text",
    "id": "SW7Fqb6KhLjA"
   },
   "source": [
    "# Single Layer Perceptron"
   ]
  },
  {
   "cell_type": "code",
   "execution_count": 0,
   "metadata": {
    "colab": {},
    "colab_type": "code",
    "id": "jTvTGGe6hLjB"
   },
   "outputs": [],
   "source": [
    "# Hyper parameters\n",
    "eta = 0.4 # learning rate parameter\n",
    "epsilon = 1e-03 # minimum accepted error\n",
    "max_epochs = 100 # Maximum Epochs"
   ]
  },
  {
   "cell_type": "code",
   "execution_count": 0,
   "metadata": {
    "colab": {},
    "colab_type": "code",
    "id": "AkBZbhaGhLjC"
   },
   "outputs": [],
   "source": [
    "#Threshold Activation Function\n",
    "def threshold(x):\n",
    "    cond = tf.less(x, tf.zeros(tf.shape(x),dtype = x.dtype))\n",
    "    out = tf.where(cond, tf.zeros(tf.shape(x)), tf.ones(tf.shape(x)))\n",
    "    return out"
   ]
  },
  {
   "cell_type": "code",
   "execution_count": 0,
   "metadata": {
    "colab": {},
    "colab_type": "code",
    "id": "rrCM9nnShLjE"
   },
   "outputs": [],
   "source": [
    "#Training Data Y =AB + BC, sum of two linear functions.\n",
    "T, F= 1., 0.\n",
    "X_in = [[T,T,T,T],[T,T,F,T],[T,F,T,T],[T,F,F,T],[F,T,T,T],[F,T,F,T],[F,F,T,T],[F,F,F,T],]\n",
    "Y = [[T], [T], [F], [F], [T],[F],[F],[F]]"
   ]
  },
  {
   "cell_type": "code",
   "execution_count": 0,
   "metadata": {
    "colab": {},
    "colab_type": "code",
    "id": "FRyyLEBRhLjF",
    "outputId": "e8810ebe-2bc7-4886-e3e3-2f473312cc82"
   },
   "outputs": [
    {
     "name": "stdout",
     "output_type": "stream",
     "text": [
      "epoch:1 mean error:0.625\n",
      "epoch:2 mean error:0.125\n",
      "epoch:3 mean error:0.125\n",
      "epoch:4 mean error:0.375\n",
      "epoch:5 mean error:0.125\n",
      "epoch:6 mean error:0.125\n",
      "epoch:7 mean error:0.375\n",
      "epoch:8 mean error:0.125\n",
      "epoch:9 mean error:0.125\n",
      "epoch:10 mean error:0.125\n",
      "epoch:11 mean error:0.125\n",
      "epoch:12 mean error:0.0\n",
      "Training complete\n"
     ]
    }
   ],
   "source": [
    "W = tf.Variable(tf.random_normal([4, 1], stddev=2, seed = 0))\n",
    "h = tf.matmul(X_in,W)\n",
    "Y_hat = threshold(h)\n",
    "error = Y-Y_hat\n",
    "mean_error = tf.reduce_mean(tf.square(error))\n",
    "dW = eta*tf.matmul(X_in,error,transpose_a=True)\n",
    "train = tf.assign(W,W+dW)\n",
    "init = tf.global_variables_initializer()\n",
    "err = 1\n",
    "epoch = 0\n",
    "with tf.Session() as sess:\n",
    "    sess.run(init)\n",
    "    while err>epsilon and epoch<max_epochs:\n",
    "        epoch += 1\n",
    "        err,_ = sess.run([mean_error,train])\n",
    "        print('epoch:{0} mean error:{1}'.format(epoch, err))\n",
    "    print(\"Training complete\")"
   ]
  },
  {
   "cell_type": "markdown",
   "metadata": {
    "colab_type": "text",
    "id": "Jum0s83WhLjH"
   },
   "source": [
    "# Backpropagation algorithm:"
   ]
  },
  {
   "cell_type": "code",
   "execution_count": 0,
   "metadata": {
    "colab": {},
    "colab_type": "code",
    "id": "sv5F-mX9hLjI"
   },
   "outputs": [],
   "source": [
    "from tensorflow.examples.tutorials.mnist import input_data"
   ]
  },
  {
   "cell_type": "code",
   "execution_count": 0,
   "metadata": {
    "colab": {},
    "colab_type": "code",
    "id": "LjH8Bx9OhLjJ",
    "outputId": "23078971-226d-48b8-8014-965dad08e992"
   },
   "outputs": [
    {
     "name": "stdout",
     "output_type": "stream",
     "text": [
      "WARNING:tensorflow:From <ipython-input-4-a839aeb82f4b>:1: read_data_sets (from tensorflow.contrib.learn.python.learn.datasets.mnist) is deprecated and will be removed in a future version.\n",
      "Instructions for updating:\n",
      "Please use alternatives such as official/mnist/dataset.py from tensorflow/models.\n",
      "WARNING:tensorflow:From c:\\programdata\\anaconda\\envs\\tensorflow\\lib\\site-packages\\tensorflow\\contrib\\learn\\python\\learn\\datasets\\mnist.py:260: maybe_download (from tensorflow.contrib.learn.python.learn.datasets.base) is deprecated and will be removed in a future version.\n",
      "Instructions for updating:\n",
      "Please write your own downloading logic.\n",
      "WARNING:tensorflow:From c:\\programdata\\anaconda\\envs\\tensorflow\\lib\\site-packages\\tensorflow\\contrib\\learn\\python\\learn\\datasets\\mnist.py:262: extract_images (from tensorflow.contrib.learn.python.learn.datasets.mnist) is deprecated and will be removed in a future version.\n",
      "Instructions for updating:\n",
      "Please use tf.data to implement this functionality.\n",
      "Extracting MNIST_data/train-images-idx3-ubyte.gz\n",
      "WARNING:tensorflow:From c:\\programdata\\anaconda\\envs\\tensorflow\\lib\\site-packages\\tensorflow\\contrib\\learn\\python\\learn\\datasets\\mnist.py:267: extract_labels (from tensorflow.contrib.learn.python.learn.datasets.mnist) is deprecated and will be removed in a future version.\n",
      "Instructions for updating:\n",
      "Please use tf.data to implement this functionality.\n",
      "Extracting MNIST_data/train-labels-idx1-ubyte.gz\n",
      "WARNING:tensorflow:From c:\\programdata\\anaconda\\envs\\tensorflow\\lib\\site-packages\\tensorflow\\contrib\\learn\\python\\learn\\datasets\\mnist.py:110: dense_to_one_hot (from tensorflow.contrib.learn.python.learn.datasets.mnist) is deprecated and will be removed in a future version.\n",
      "Instructions for updating:\n",
      "Please use tf.one_hot on tensors.\n",
      "Extracting MNIST_data/t10k-images-idx3-ubyte.gz\n",
      "Extracting MNIST_data/t10k-labels-idx1-ubyte.gz\n",
      "WARNING:tensorflow:From c:\\programdata\\anaconda\\envs\\tensorflow\\lib\\site-packages\\tensorflow\\contrib\\learn\\python\\learn\\datasets\\mnist.py:290: DataSet.__init__ (from tensorflow.contrib.learn.python.learn.datasets.mnist) is deprecated and will be removed in a future version.\n",
      "Instructions for updating:\n",
      "Please use alternatives such as official/mnist/dataset.py from tensorflow/models.\n"
     ]
    }
   ],
   "source": [
    "mnist = input_data.read_data_sets(\"MNIST_data/\", one_hot=True)"
   ]
  },
  {
   "cell_type": "code",
   "execution_count": 0,
   "metadata": {
    "colab": {},
    "colab_type": "code",
    "id": "1OQxvLmNhLjL"
   },
   "outputs": [],
   "source": [
    "n_input = 784 #MNIST data input(img shape:28*28)\n",
    "n_classes = 10 # MNIST total classes (0-9 digits)"
   ]
  },
  {
   "cell_type": "code",
   "execution_count": 0,
   "metadata": {
    "colab": {},
    "colab_type": "code",
    "id": "hELuouTPhLjO"
   },
   "outputs": [],
   "source": [
    "#Hyperparameters\n",
    "max_epochs = 10000\n",
    "learning_rate = 0.5\n",
    "batch_size = 10\n",
    "seed = 0\n",
    "n_hidden = 30 # Number of neurons in the hidden layer"
   ]
  },
  {
   "cell_type": "code",
   "execution_count": 0,
   "metadata": {
    "colab": {},
    "colab_type": "code",
    "id": "ySQ1e_37hLjQ"
   },
   "outputs": [],
   "source": [
    "def sigmaprime(x):\n",
    "    return tf.multiply(tf.sigmoid(x), tf.subtract(tf.constant(1.0), tf.sigmoid(x)))"
   ]
  },
  {
   "cell_type": "code",
   "execution_count": 0,
   "metadata": {
    "colab": {},
    "colab_type": "code",
    "id": "T0CH7O6LhLjR"
   },
   "outputs": [],
   "source": [
    "x_in = tf.placeholder(tf.float32, [None, n_input])\n",
    "y = tf.placeholder(tf.float32, [None, n_classes])"
   ]
  },
  {
   "cell_type": "code",
   "execution_count": 0,
   "metadata": {
    "colab": {},
    "colab_type": "code",
    "id": "MnZ2BQIthLjS"
   },
   "outputs": [],
   "source": [
    "def multilayer_perceptron(x, weights, biases):\n",
    "    #Hidden layer with RELU activation\n",
    "    h_layer_1 = tf.add(tf.matmul(x, weights['h1']), biases['h1'])\n",
    "    out_layer_1 = tf.sigmoid(h_layer_1)\n",
    "    #Output layer with linear activation\n",
    "    h_out = tf.matmul(out_layer_1, weights['out']) + biases['out']\n",
    "    return tf.sigmoid(h_out), h_out, out_layer_1, h_layer_1"
   ]
  },
  {
   "cell_type": "code",
   "execution_count": 0,
   "metadata": {
    "colab": {},
    "colab_type": "code",
    "id": "Rox8OAifhLjT"
   },
   "outputs": [],
   "source": [
    "weights = {\n",
    "    'h1': tf.Variable(tf.random_normal([n_input, n_hidden], seed = seed)),\n",
    "    'out': tf.Variable(tf.random_normal([n_hidden, n_classes], seed =seed))}\n",
    "biases = {\n",
    "    'h1': tf.Variable(tf.random_normal([1, n_hidden], seed = seed)),\n",
    "    'out' : tf.Variable(tf.random_normal([1, n_classes], seed =seed))}"
   ]
  },
  {
   "cell_type": "code",
   "execution_count": 0,
   "metadata": {
    "colab": {},
    "colab_type": "code",
    "id": "vOun0ZshhLjT"
   },
   "outputs": [],
   "source": [
    "#Forward Pass\n",
    "y_hat, h_2, o_1, h_1 = multilayer_perceptron(x_in, weights, biases)\n",
    "\n",
    "# Error\n",
    "err = y_hat - y\n",
    "\n",
    "#backwoard Pass\n",
    "delta_2 = tf.multiply(err, sigmaprime(h_2))\n",
    "delta_w_2 = tf.matmul(tf.transpose(o_1), delta_2)\n",
    "\n",
    "wtd_error = tf.matmul(delta_2, tf.transpose(weights['out']))\n",
    "delta_1 = tf.multiply(wtd_error, sigmaprime(h_1))\n",
    "delta_w_1 = tf.matmul(tf.transpose(x_in), delta_1)\n",
    "\n",
    "eta = tf.constant(learning_rate)\n",
    "#Update weights\n",
    "step = [\n",
    "     tf.assign(weights['h1'], tf.subtract(weights['h1'],tf.multiply(eta, delta_w_1)))\n",
    "    ,tf.assign(biases['h1'],tf.subtract(biases['h1'],tf.multiply(eta, tf.reduce_mean(delta_1))))\n",
    "    ,tf.assign(weights['out'], tf.subtract(weights['out'], tf.multiply(eta, delta_w_2)))           \n",
    "    ,tf.assign(biases['out'], tf.subtract(biases['out'], tf.multiply(eta, tf.reduce_mean(delta_2))))\n",
    "]"
   ]
  },
  {
   "cell_type": "code",
   "execution_count": 0,
   "metadata": {
    "colab": {},
    "colab_type": "code",
    "id": "ud8LWL1RhLjU"
   },
   "outputs": [],
   "source": [
    "acct_mat = tf.equal(tf.argmax(y_hat, 1), tf.argmax(y, 1))\n",
    "accuracy = tf.reduce_sum(tf.cast(acct_mat, tf.float32))"
   ]
  },
  {
   "cell_type": "code",
   "execution_count": 0,
   "metadata": {
    "colab": {},
    "colab_type": "code",
    "id": "pgHF55DKhLjW"
   },
   "outputs": [],
   "source": [
    "init = tf.global_variables_initializer()"
   ]
  },
  {
   "cell_type": "code",
   "execution_count": 0,
   "metadata": {
    "colab": {},
    "colab_type": "code",
    "id": "KC0VYH6ThLjX",
    "outputId": "f4dfb3a7-728b-4762-85d6-0146d70d6ce6"
   },
   "outputs": [
    {
     "name": "stdout",
     "output_type": "stream",
     "text": [
      "Epoch: 0  Accuracy Train%: 9.421666666666667 Accuracy Test%: 10.09\n",
      "Epoch: 1000  Accuracy Train%: 69.46333333333334 Accuracy Test%: 75.78\n",
      "Epoch: 2000  Accuracy Train%: 73.52333333333333 Accuracy Test%: 80.39\n",
      "Epoch: 3000  Accuracy Train%: 73.55333333333333 Accuracy Test%: 80.37\n",
      "Epoch: 4000  Accuracy Train%: 82.32666666666667 Accuracy Test%: 89.94\n",
      "Epoch: 5000  Accuracy Train%: 83.565 Accuracy Test%: 91.32\n",
      "Epoch: 6000  Accuracy Train%: 83.46333333333334 Accuracy Test%: 90.95\n",
      "Epoch: 7000  Accuracy Train%: 84.43666666666667 Accuracy Test%: 92.09\n",
      "Epoch: 8000  Accuracy Train%: 84.52333333333333 Accuracy Test%: 91.79\n",
      "Epoch: 9000  Accuracy Train%: 84.41833333333334 Accuracy Test%: 92.0\n"
     ]
    }
   ],
   "source": [
    "with tf.Session() as sess:\n",
    "    sess.run(init)\n",
    "    for epoch in range(max_epochs):\n",
    "        batch_xs, batch_ys = mnist.train.next_batch(batch_size)\n",
    "        sess.run(step, feed_dict = {x_in: batch_xs, y : batch_ys})\n",
    "        if epoch % 1000 == 0:\n",
    "            acc_test = sess.run(accuracy, feed_dict = {x_in: mnist.test.images, y : mnist.test.labels})\n",
    "            acc_train = sess.run(accuracy, feed_dict= {x_in: mnist.train.images, y: mnist.train.labels})\n",
    "            print('Epoch: {0}  Accuracy Train%: {1} Accuracy Test%: {2}'.format(epoch,acc_train/600,(acc_test/100)))"
   ]
  },
  {
   "cell_type": "markdown",
   "metadata": {
    "colab_type": "text",
    "id": "V3du56n8hLja"
   },
   "source": [
    "# MNIST\tclassifier using MLP"
   ]
  },
  {
   "cell_type": "code",
   "execution_count": 0,
   "metadata": {
    "colab": {},
    "colab_type": "code",
    "id": "GIfx58QnhLjb"
   },
   "outputs": [],
   "source": [
    "import tensorflow.contrib.layers as layers"
   ]
  },
  {
   "cell_type": "code",
   "execution_count": 0,
   "metadata": {
    "colab": {},
    "colab_type": "code",
    "id": "GjGMb8LthLjc"
   },
   "outputs": [],
   "source": [
    "from tensorflow.python import debug as tf_debug"
   ]
  },
  {
   "cell_type": "code",
   "execution_count": 0,
   "metadata": {
    "colab": {},
    "colab_type": "code",
    "id": "nhmk9kB3hLje"
   },
   "outputs": [],
   "source": [
    "# Network Parameters\n",
    "n_hidden = 30\n",
    "n_classes = 10\n",
    "n_input = 784"
   ]
  },
  {
   "cell_type": "code",
   "execution_count": 0,
   "metadata": {
    "colab": {},
    "colab_type": "code",
    "id": "b7Nr6R70hLjf"
   },
   "outputs": [],
   "source": [
    "# Hyperparameters\n",
    "batch_size = 200\n",
    "eta = 0.001\n",
    "max_epoch = 10"
   ]
  },
  {
   "cell_type": "code",
   "execution_count": 0,
   "metadata": {
    "colab": {},
    "colab_type": "code",
    "id": "9iOBSKTThLjg",
    "outputId": "d78466ad-4036-450f-c454-a29afb58cbd7"
   },
   "outputs": [
    {
     "name": "stdout",
     "output_type": "stream",
     "text": [
      "Extracting /tmp/data\\train-images-idx3-ubyte.gz\n",
      "Extracting /tmp/data\\train-labels-idx1-ubyte.gz\n",
      "Extracting /tmp/data\\t10k-images-idx3-ubyte.gz\n",
      "Extracting /tmp/data\\t10k-labels-idx1-ubyte.gz\n"
     ]
    }
   ],
   "source": [
    "# MNIST input data\n",
    "from tensorflow.examples.tutorials.mnist import input_data\n",
    "mnist = input_data.read_data_sets(\"/tmp/data\", one_hot=True)"
   ]
  },
  {
   "cell_type": "code",
   "execution_count": 0,
   "metadata": {
    "colab": {},
    "colab_type": "code",
    "id": "B4gac5D2hLjj",
    "outputId": "8f41d731-4d64-43a8-f78d-820d5c1bf40f",
    "scrolled": true
   },
   "outputs": [
    {
     "name": "stdout",
     "output_type": "stream",
     "text": [
      "WARNING:tensorflow:From <ipython-input-32-5b811dc28c07>:12: softmax_cross_entropy_with_logits (from tensorflow.python.ops.nn_ops) is deprecated and will be removed in a future version.\n",
      "Instructions for updating:\n",
      "\n",
      "Future major versions of TensorFlow will allow gradients to flow\n",
      "into the labels input on backprop by default.\n",
      "\n",
      "See `tf.nn.softmax_cross_entropy_with_logits_v2`.\n",
      "\n"
     ]
    }
   ],
   "source": [
    "tf.reset_default_graph()\n",
    "def multilayer_perceptron(x):\n",
    "    fc1 = layers.fully_connected(x, n_hidden, activation_fn=tf.nn.relu, scope='fc1')\n",
    "    #fc2 = layers.fully_connected(fc1, 256, activation_fn=tf.nn.relu, scope='fc2')\n",
    "    out = layers.fully_connected(fc1, n_classes, activation_fn=None, scope='out')\n",
    "    return out\n",
    "# build model, loss, and train op\n",
    "x = tf.placeholder(tf.float32, [None, n_input], name='placeholder_x')\n",
    "y = tf.placeholder(tf.float32, [None, n_classes], name='placeholder_y')\n",
    "y_hat = multilayer_perceptron(x)\n",
    "\n",
    "loss = tf.reduce_mean(tf.nn.softmax_cross_entropy_with_logits(logits=y_hat, labels=y))\n",
    "train = tf.train.AdamOptimizer(learning_rate= eta).minimize(loss)\n",
    "init = tf.global_variables_initializer()"
   ]
  },
  {
   "cell_type": "code",
   "execution_count": 0,
   "metadata": {
    "colab": {},
    "colab_type": "code",
    "id": "v8LTWNBUhLjl",
    "outputId": "58db2b74-02a5-4fd7-91e9-7f3dd78f2c9f"
   },
   "outputs": [
    {
     "name": "stdout",
     "output_type": "stream",
     "text": [
      "Epoch 00, Loss = 0.608746\n",
      "Epoch 01, Loss = 0.295431\n",
      "Epoch 02, Loss = 0.249012\n",
      "Epoch 03, Loss = 0.219215\n",
      "Epoch 04, Loss = 0.195219\n",
      "Epoch 05, Loss = 0.177513\n",
      "Epoch 06, Loss = 0.163584\n",
      "Epoch 07, Loss = 0.151677\n",
      "Epoch 08, Loss = 0.141677\n",
      "Epoch 09, Loss = 0.133456\n",
      "Accuracy%: 0.9587\n"
     ]
    }
   ],
   "source": [
    "with tf.Session() as sess:\n",
    "    sess.run(init)\n",
    "    for epoch in range(10):\n",
    "        epoch_loss= 0.0\n",
    "        batch_steps = int(mnist.train.num_examples/batch_size)\n",
    "        for i in range(batch_steps):\n",
    "            batch_x, batch_y = mnist.train.next_batch(batch_size)\n",
    "            _, c =sess.run([train, loss], feed_dict={x: batch_x, y: batch_y})\n",
    "            epoch_loss += c / batch_steps\n",
    "        print('Epoch %02d, Loss = %.6f' % (epoch, epoch_loss))\n",
    "    correct_prediction = tf.equal(tf.argmax(y_hat, 1), tf.argmax(y, 1))\n",
    "    accuracy = tf.reduce_mean(tf.cast(correct_prediction, tf.float32))\n",
    "    print(\"Accuracy%:\", accuracy.eval({x: mnist.test.images, y: mnist.test.labels}))"
   ]
  },
  {
   "cell_type": "markdown",
   "metadata": {
    "colab_type": "text",
    "id": "XmxBXySShLjq"
   },
   "source": [
    "# Function\tapproximation using MLP-predicting Boston house prices"
   ]
  },
  {
   "cell_type": "code",
   "execution_count": 0,
   "metadata": {
    "colab": {},
    "colab_type": "code",
    "id": "D_x6ZE5ZhLjq"
   },
   "outputs": [],
   "source": [
    "from sklearn import datasets\n",
    "from sklearn import metrics\n",
    "import matplotlib.pyplot as plt\n",
    "from sklearn.model_selection import train_test_split\n",
    "from sklearn.preprocessing import MinMaxScaler\n",
    "import pandas as pd\n",
    "import seaborn as sb\n",
    "%matplotlib inline"
   ]
  },
  {
   "cell_type": "code",
   "execution_count": 0,
   "metadata": {
    "colab": {},
    "colab_type": "code",
    "id": "6jh3kBt_hLju"
   },
   "outputs": [],
   "source": [
    "from sklearn.datasets import load_boston\n",
    "boston = load_boston()\n",
    "df = pd.DataFrame(boston.data)\n",
    "df.columns=boston.feature_names\n",
    "df['target']=boston.target"
   ]
  },
  {
   "cell_type": "code",
   "execution_count": 0,
   "metadata": {
    "colab": {},
    "colab_type": "code",
    "id": "OYk_pbvdhLjw",
    "outputId": "08d6b56d-7e9c-4590-b4f9-625072d68add"
   },
   "outputs": [
    {
     "data": {
      "text/html": [
       "<div>\n",
       "<style scoped>\n",
       "    .dataframe tbody tr th:only-of-type {\n",
       "        vertical-align: middle;\n",
       "    }\n",
       "\n",
       "    .dataframe tbody tr th {\n",
       "        vertical-align: top;\n",
       "    }\n",
       "\n",
       "    .dataframe thead th {\n",
       "        text-align: right;\n",
       "    }\n",
       "</style>\n",
       "<table border=\"1\" class=\"dataframe\">\n",
       "  <thead>\n",
       "    <tr style=\"text-align: right;\">\n",
       "      <th></th>\n",
       "      <th>CRIM</th>\n",
       "      <th>ZN</th>\n",
       "      <th>INDUS</th>\n",
       "      <th>CHAS</th>\n",
       "      <th>NOX</th>\n",
       "      <th>RM</th>\n",
       "      <th>AGE</th>\n",
       "      <th>DIS</th>\n",
       "      <th>RAD</th>\n",
       "      <th>TAX</th>\n",
       "      <th>PTRATIO</th>\n",
       "      <th>B</th>\n",
       "      <th>LSTAT</th>\n",
       "      <th>target</th>\n",
       "    </tr>\n",
       "  </thead>\n",
       "  <tbody>\n",
       "    <tr>\n",
       "      <th>count</th>\n",
       "      <td>506.000000</td>\n",
       "      <td>506.000000</td>\n",
       "      <td>506.000000</td>\n",
       "      <td>506.000000</td>\n",
       "      <td>506.000000</td>\n",
       "      <td>506.000000</td>\n",
       "      <td>506.000000</td>\n",
       "      <td>506.000000</td>\n",
       "      <td>506.000000</td>\n",
       "      <td>506.000000</td>\n",
       "      <td>506.000000</td>\n",
       "      <td>506.000000</td>\n",
       "      <td>506.000000</td>\n",
       "      <td>506.000000</td>\n",
       "    </tr>\n",
       "    <tr>\n",
       "      <th>mean</th>\n",
       "      <td>3.613524</td>\n",
       "      <td>11.363636</td>\n",
       "      <td>11.136779</td>\n",
       "      <td>0.069170</td>\n",
       "      <td>0.554695</td>\n",
       "      <td>6.284634</td>\n",
       "      <td>68.574901</td>\n",
       "      <td>3.795043</td>\n",
       "      <td>9.549407</td>\n",
       "      <td>408.237154</td>\n",
       "      <td>18.455534</td>\n",
       "      <td>356.674032</td>\n",
       "      <td>12.653063</td>\n",
       "      <td>22.532806</td>\n",
       "    </tr>\n",
       "    <tr>\n",
       "      <th>std</th>\n",
       "      <td>8.601545</td>\n",
       "      <td>23.322453</td>\n",
       "      <td>6.860353</td>\n",
       "      <td>0.253994</td>\n",
       "      <td>0.115878</td>\n",
       "      <td>0.702617</td>\n",
       "      <td>28.148861</td>\n",
       "      <td>2.105710</td>\n",
       "      <td>8.707259</td>\n",
       "      <td>168.537116</td>\n",
       "      <td>2.164946</td>\n",
       "      <td>91.294864</td>\n",
       "      <td>7.141062</td>\n",
       "      <td>9.197104</td>\n",
       "    </tr>\n",
       "    <tr>\n",
       "      <th>min</th>\n",
       "      <td>0.006320</td>\n",
       "      <td>0.000000</td>\n",
       "      <td>0.460000</td>\n",
       "      <td>0.000000</td>\n",
       "      <td>0.385000</td>\n",
       "      <td>3.561000</td>\n",
       "      <td>2.900000</td>\n",
       "      <td>1.129600</td>\n",
       "      <td>1.000000</td>\n",
       "      <td>187.000000</td>\n",
       "      <td>12.600000</td>\n",
       "      <td>0.320000</td>\n",
       "      <td>1.730000</td>\n",
       "      <td>5.000000</td>\n",
       "    </tr>\n",
       "    <tr>\n",
       "      <th>25%</th>\n",
       "      <td>0.082045</td>\n",
       "      <td>0.000000</td>\n",
       "      <td>5.190000</td>\n",
       "      <td>0.000000</td>\n",
       "      <td>0.449000</td>\n",
       "      <td>5.885500</td>\n",
       "      <td>45.025000</td>\n",
       "      <td>2.100175</td>\n",
       "      <td>4.000000</td>\n",
       "      <td>279.000000</td>\n",
       "      <td>17.400000</td>\n",
       "      <td>375.377500</td>\n",
       "      <td>6.950000</td>\n",
       "      <td>17.025000</td>\n",
       "    </tr>\n",
       "    <tr>\n",
       "      <th>50%</th>\n",
       "      <td>0.256510</td>\n",
       "      <td>0.000000</td>\n",
       "      <td>9.690000</td>\n",
       "      <td>0.000000</td>\n",
       "      <td>0.538000</td>\n",
       "      <td>6.208500</td>\n",
       "      <td>77.500000</td>\n",
       "      <td>3.207450</td>\n",
       "      <td>5.000000</td>\n",
       "      <td>330.000000</td>\n",
       "      <td>19.050000</td>\n",
       "      <td>391.440000</td>\n",
       "      <td>11.360000</td>\n",
       "      <td>21.200000</td>\n",
       "    </tr>\n",
       "    <tr>\n",
       "      <th>75%</th>\n",
       "      <td>3.677083</td>\n",
       "      <td>12.500000</td>\n",
       "      <td>18.100000</td>\n",
       "      <td>0.000000</td>\n",
       "      <td>0.624000</td>\n",
       "      <td>6.623500</td>\n",
       "      <td>94.075000</td>\n",
       "      <td>5.188425</td>\n",
       "      <td>24.000000</td>\n",
       "      <td>666.000000</td>\n",
       "      <td>20.200000</td>\n",
       "      <td>396.225000</td>\n",
       "      <td>16.955000</td>\n",
       "      <td>25.000000</td>\n",
       "    </tr>\n",
       "    <tr>\n",
       "      <th>max</th>\n",
       "      <td>88.976200</td>\n",
       "      <td>100.000000</td>\n",
       "      <td>27.740000</td>\n",
       "      <td>1.000000</td>\n",
       "      <td>0.871000</td>\n",
       "      <td>8.780000</td>\n",
       "      <td>100.000000</td>\n",
       "      <td>12.126500</td>\n",
       "      <td>24.000000</td>\n",
       "      <td>711.000000</td>\n",
       "      <td>22.000000</td>\n",
       "      <td>396.900000</td>\n",
       "      <td>37.970000</td>\n",
       "      <td>50.000000</td>\n",
       "    </tr>\n",
       "  </tbody>\n",
       "</table>\n",
       "</div>"
      ],
      "text/plain": [
       "             CRIM          ZN       INDUS        CHAS         NOX          RM  \\\n",
       "count  506.000000  506.000000  506.000000  506.000000  506.000000  506.000000   \n",
       "mean     3.613524   11.363636   11.136779    0.069170    0.554695    6.284634   \n",
       "std      8.601545   23.322453    6.860353    0.253994    0.115878    0.702617   \n",
       "min      0.006320    0.000000    0.460000    0.000000    0.385000    3.561000   \n",
       "25%      0.082045    0.000000    5.190000    0.000000    0.449000    5.885500   \n",
       "50%      0.256510    0.000000    9.690000    0.000000    0.538000    6.208500   \n",
       "75%      3.677083   12.500000   18.100000    0.000000    0.624000    6.623500   \n",
       "max     88.976200  100.000000   27.740000    1.000000    0.871000    8.780000   \n",
       "\n",
       "              AGE         DIS         RAD         TAX     PTRATIO           B  \\\n",
       "count  506.000000  506.000000  506.000000  506.000000  506.000000  506.000000   \n",
       "mean    68.574901    3.795043    9.549407  408.237154   18.455534  356.674032   \n",
       "std     28.148861    2.105710    8.707259  168.537116    2.164946   91.294864   \n",
       "min      2.900000    1.129600    1.000000  187.000000   12.600000    0.320000   \n",
       "25%     45.025000    2.100175    4.000000  279.000000   17.400000  375.377500   \n",
       "50%     77.500000    3.207450    5.000000  330.000000   19.050000  391.440000   \n",
       "75%     94.075000    5.188425   24.000000  666.000000   20.200000  396.225000   \n",
       "max    100.000000   12.126500   24.000000  711.000000   22.000000  396.900000   \n",
       "\n",
       "            LSTAT      target  \n",
       "count  506.000000  506.000000  \n",
       "mean    12.653063   22.532806  \n",
       "std      7.141062    9.197104  \n",
       "min      1.730000    5.000000  \n",
       "25%      6.950000   17.025000  \n",
       "50%     11.360000   21.200000  \n",
       "75%     16.955000   25.000000  \n",
       "max     37.970000   50.000000  "
      ]
     },
     "execution_count": 65,
     "metadata": {
      "tags": []
     },
     "output_type": "execute_result"
    }
   ],
   "source": [
    "df.describe()"
   ]
  },
  {
   "cell_type": "code",
   "execution_count": 0,
   "metadata": {
    "colab": {},
    "colab_type": "code",
    "id": "h74nwvHJhLjy",
    "outputId": "68cab8d2-3e61-46c6-bde6-aa691267badd"
   },
   "outputs": [
    {
     "data": {
      "image/png": "[encoded data removed]",
      "text/plain": [
       "<Figure size 864x720 with 2 Axes>"
      ]
     },
     "metadata": {
      "needs_background": "light",
      "tags": []
     },
     "output_type": "display_data"
    }
   ],
   "source": [
    "colormap_ , ax =plt.subplots(figsize=(12,10))\n",
    "corr = df.corr(method='pearson')\n",
    "cmap = sb.diverging_palette(220, 10, as_cmap=True)\n",
    "_=sb.heatmap(corr,cmap=cmap,square=True,cbar_kws={'shrink':.9}, ax=ax,annot=True)"
   ]
  },
  {
   "cell_type": "code",
   "execution_count": 0,
   "metadata": {
    "colab": {},
    "colab_type": "code",
    "id": "FyJICaaBhLj0"
   },
   "outputs": [],
   "source": [
    "#Create Test Train Split\n",
    "X_train, X_test, y_train, y_test = train_test_split(df[['RM','LSTAT','PTRATIO']],df[['target']])\n",
    "#Normalize data\n",
    "X_train = MinMaxScaler().fit_transform(X_train)\n",
    "y_train = MinMaxScaler().fit_transform(y_train)\n",
    "X_test = MinMaxScaler().fit_transform(X_test)\n",
    "y_test = MinMaxScaler().fit_transform(y_test)"
   ]
  },
  {
   "cell_type": "code",
   "execution_count": 0,
   "metadata": {
    "colab": {},
    "colab_type": "code",
    "id": "4e8p6jMghLj1",
    "outputId": "b30eacb2-c58a-4526-f717-af8c417f7fe1"
   },
   "outputs": [
    {
     "ename": "NameError",
     "evalue": "name 'X_train' is not defined",
     "output_type": "error",
     "traceback": [
      "\u001b[1;31m---------------------------------------------------------------------------\u001b[0m",
      "\u001b[1;31mNameError\u001b[0m                                 Traceback (most recent call last)",
      "\u001b[1;32m<ipython-input-5-aca372cc8df7>\u001b[0m in \u001b[0;36m<module>\u001b[1;34m\u001b[0m\n\u001b[0;32m      1\u001b[0m \u001b[1;31m#Network Parameters\u001b[0m\u001b[1;33m\u001b[0m\u001b[1;33m\u001b[0m\u001b[0m\n\u001b[1;32m----> 2\u001b[1;33m \u001b[0mm\u001b[0m \u001b[1;33m=\u001b[0m \u001b[0mlen\u001b[0m\u001b[1;33m(\u001b[0m\u001b[0mX_train\u001b[0m\u001b[1;33m)\u001b[0m\u001b[1;33m\u001b[0m\u001b[0m\n\u001b[0m\u001b[0;32m      3\u001b[0m \u001b[0mn\u001b[0m \u001b[1;33m=\u001b[0m \u001b[1;36m3\u001b[0m \u001b[1;31m# Number of features\u001b[0m\u001b[1;33m\u001b[0m\u001b[0m\n\u001b[0;32m      4\u001b[0m \u001b[0mn_hidden\u001b[0m \u001b[1;33m=\u001b[0m \u001b[1;36m20\u001b[0m \u001b[1;31m# Number of hidden neurons\u001b[0m\u001b[1;33m\u001b[0m\u001b[0m\n\u001b[0;32m      5\u001b[0m \u001b[1;31m#Hyperparameters\u001b[0m\u001b[1;33m\u001b[0m\u001b[1;33m\u001b[0m\u001b[0m\n",
      "\u001b[1;31mNameError\u001b[0m: name 'X_train' is not defined"
     ]
    }
   ],
   "source": [
    "#Network Parameters\n",
    "m = len(X_train)\n",
    "n = 3 # Number of features\n",
    "n_hidden = 20 # Number of hidden neurons\n",
    "#Hyperparameters\n",
    "batch_size = 200\n",
    "eta = 0.01\n",
    "max_epoch = 1000"
   ]
  },
  {
   "cell_type": "code",
   "execution_count": 0,
   "metadata": {
    "colab": {},
    "colab_type": "code",
    "id": "05Z8lRmThLj3"
   },
   "outputs": [],
   "source": [
    "tf.reset_default_graph()\n",
    "def multilayer_perceptron(x):\n",
    "    fc1 = layers.fully_connected(x, n_hidden, activation_fn=tf.nn.relu, scope='fc1')\n",
    "    out = layers.fully_connected(fc1, 1, activation_fn=tf.sigmoid, scope='out')\n",
    "    return out\n",
    "# build model, loss, and train op\n",
    "x = tf.placeholder(tf.float32, name='X', shape=[m,n])\n",
    "y = tf.placeholder(tf.float32, name='Y')\n",
    "y_hat = multilayer_perceptron(x)\n",
    "correct_prediction = tf.square(y - y_hat)\n",
    "mse = tf.reduce_mean(tf.cast(correct_prediction, \"float\"))\n",
    "train = tf.train.AdamOptimizer(learning_rate = eta).minimize(mse)\n",
    "loss = tf.reduce_mean(tf.square(y - y_hat, name='loss'))\n",
    "init = tf.global_variables_initializer()"
   ]
  },
  {
   "cell_type": "code",
   "execution_count": 0,
   "metadata": {
    "colab": {},
    "colab_type": "code",
    "id": "IqsUXO1AhLj5",
    "outputId": "258fa1b6-52d2-466e-ec05-2430d279b4d4"
   },
   "outputs": [
    {
     "name": "stdout",
     "output_type": "stream",
     "text": [
      "Epoch 0: Loss 0.0665966346859932\n",
      "Epoch 100: Loss 0.011007428169250488\n",
      "Epoch 200: Loss 0.010189814493060112\n",
      "Epoch 300: Loss 0.009321801364421844\n",
      "Epoch 400: Loss 0.00860937312245369\n",
      "Epoch 500: Loss 0.00823101494461298\n",
      "Epoch 600: Loss 0.00800660252571106\n",
      "Epoch 700: Loss 0.007885869592428207\n",
      "Epoch 800: Loss 0.007811353076249361\n",
      "Epoch 900: Loss 0.007765206973999739\n",
      "Training Done\n",
      "Optimization Finished!\n",
      "Accuracy%: 0.0077222683\n"
     ]
    },
    {
     "data": {
      "image/png": "[encoded data removed]",
      "text/plain": [
       "<Figure size 432x288 with 1 Axes>"
      ]
     },
     "metadata": {
      "needs_background": "light",
      "tags": []
     },
     "output_type": "display_data"
    }
   ],
   "source": [
    "#Computation Graph\n",
    "with tf.Session() as sess:\n",
    "    sess.run(init)\n",
    "    writer = tf.summary.FileWriter('graphs', sess.graph)\n",
    "# train the model for 100 epochs\n",
    "    for i in range(max_epoch):\n",
    "        _, l, p = sess.run([train, loss, y_hat], feed_dict={x: X_train, y: y_train})\n",
    "        if i%100 == 0: \n",
    "            print('Epoch {0}: Loss {1}'.format(i, l))\n",
    "    print(\"Training Done\")\n",
    "    print(\"Optimization Finished!\")\n",
    "    accuracy = tf.reduce_mean(tf.cast(correct_prediction, tf.float32))\n",
    "    print(\"Accuracy%:\", accuracy.eval({x: X_train, y: y_train}))\n",
    "    plt.scatter(y_train, p)\n",
    "    writer.close()"
   ]
  },
  {
   "cell_type": "markdown",
   "metadata": {
    "colab_type": "text",
    "id": "qCNtCqOZhLj7"
   },
   "source": [
    "# Keras\twith\tTensorFlow\tas\tthe backend:"
   ]
  },
  {
   "cell_type": "code",
   "execution_count": 0,
   "metadata": {
    "colab": {},
    "colab_type": "code",
    "id": "Nibydh1rhLj7"
   },
   "outputs": [],
   "source": [
    "#Network Parameters\n",
    "m = len(X_train)\n",
    "n = 3 # Number of features\n",
    "n_hidden = 20 # Number of hidden neurons\n",
    "#Hyperparameters\n",
    "batch = 20\n",
    "eta = 0.01\n",
    "max_epoch = 100\n",
    "from keras.models import Sequential\n",
    "from keras.layers import Dense, Activation\n",
    "#Build Model\n",
    "model = Sequential()\n",
    "model.add(Dense(n_hidden, input_dim=n, activation='relu'))\n",
    "model.add(Dense(1, activation='sigmoid'))\n",
    "model.summary()\n",
    "#Summarize the model\n",
    "#Compile model\n",
    "model.compile(loss='mean_squared_error', optimizer='adam')\n",
    "#Fit the model\n",
    "model.fit(X_train, y_train, validation_data=(X_test, y_test),epochs=max_epoch, batch_size=batch, verbose=1)\n",
    "#Predict the values and calculate RMSE and R2 score \n",
    "y_test_pred = model.predict(X_test)\n",
    "y_train_pred = model.predict(X_train)\n",
    "r2 = metrics.r2_score(y_test, y_test_pred )\n",
    "rmse = metrics.mean_squared_error(y_test, y_test_pred)\n",
    "print(\"Performance Metrics R2: {0:f}, RMSE: {1:f}\".format(r2,rmse))"
   ]
  },
  {
   "cell_type": "markdown",
   "metadata": {
    "colab_type": "text",
    "id": "8YyqngEAhLj9"
   },
   "source": [
    "# Tuning hyperparameters"
   ]
  },
  {
   "cell_type": "code",
   "execution_count": 0,
   "metadata": {
    "colab": {},
    "colab_type": "code",
    "id": "mMQVOoWthLj9",
    "outputId": "20ba78de-8d3b-4c51-80a4-692f564a00ee"
   },
   "outputs": [
    {
     "ename": "NameError",
     "evalue": "name 'm' is not defined",
     "output_type": "error",
     "traceback": [
      "\u001b[1;31m---------------------------------------------------------------------------\u001b[0m",
      "\u001b[1;31mNameError\u001b[0m                                 Traceback (most recent call last)",
      "\u001b[1;32m<ipython-input-4-4bb7523a7f80>\u001b[0m in \u001b[0;36m<module>\u001b[1;34m\u001b[0m\n\u001b[0;32m      7\u001b[0m     \u001b[1;32mreturn\u001b[0m \u001b[0mout\u001b[0m\u001b[1;33m\u001b[0m\u001b[0m\n\u001b[0;32m      8\u001b[0m \u001b[1;31m# build model, loss, and train op\u001b[0m\u001b[1;33m\u001b[0m\u001b[1;33m\u001b[0m\u001b[0m\n\u001b[1;32m----> 9\u001b[1;33m \u001b[0mx\u001b[0m \u001b[1;33m=\u001b[0m \u001b[0mtf\u001b[0m\u001b[1;33m.\u001b[0m\u001b[0mplaceholder\u001b[0m\u001b[1;33m(\u001b[0m\u001b[0mtf\u001b[0m\u001b[1;33m.\u001b[0m\u001b[0mfloat32\u001b[0m\u001b[1;33m,\u001b[0m \u001b[0mname\u001b[0m\u001b[1;33m=\u001b[0m\u001b[1;34m'X'\u001b[0m\u001b[1;33m,\u001b[0m \u001b[0mshape\u001b[0m\u001b[1;33m=\u001b[0m\u001b[1;33m[\u001b[0m\u001b[0mm\u001b[0m\u001b[1;33m,\u001b[0m\u001b[0mn\u001b[0m\u001b[1;33m]\u001b[0m\u001b[1;33m)\u001b[0m\u001b[1;33m\u001b[0m\u001b[0m\n\u001b[0m\u001b[0;32m     10\u001b[0m \u001b[0my\u001b[0m \u001b[1;33m=\u001b[0m \u001b[0mtf\u001b[0m\u001b[1;33m.\u001b[0m\u001b[0mplaceholder\u001b[0m\u001b[1;33m(\u001b[0m\u001b[0mtf\u001b[0m\u001b[1;33m.\u001b[0m\u001b[0mfloat32\u001b[0m\u001b[1;33m,\u001b[0m \u001b[0mname\u001b[0m\u001b[1;33m=\u001b[0m\u001b[1;34m'Y'\u001b[0m\u001b[1;33m)\u001b[0m\u001b[1;33m\u001b[0m\u001b[0m\n\u001b[0;32m     11\u001b[0m \u001b[0my_hat\u001b[0m \u001b[1;33m=\u001b[0m \u001b[0mmultilayer_perceptron\u001b[0m\u001b[1;33m(\u001b[0m\u001b[0mx\u001b[0m\u001b[1;33m)\u001b[0m\u001b[1;33m\u001b[0m\u001b[0m\n",
      "\u001b[1;31mNameError\u001b[0m: name 'm' is not defined"
     ]
    }
   ],
   "source": [
    "from keras.models import Sequential\n",
    "from keras.layers import Dense, Activation\n",
    "tf.reset_default_graph()\n",
    "def multilayer_perceptron(x):\n",
    "    fc1 = layers.fully_connected(x, n_hidden, activation_fn=tf.nn.relu, scope='fc1')\n",
    "    out = layers.fully_connected(fc1, 1, activation_fn=tf.sigmoid, scope='out')\n",
    "    return out\n",
    "# build model, loss, and train op\n",
    "x = tf.placeholder(tf.float32, name='X', shape=[m,n])\n",
    "y = tf.placeholder(tf.float32, name='Y')\n",
    "y_hat = multilayer_perceptron(x)\n",
    "correct_prediction = tf.square(y - y_hat)\n",
    "mse = tf.reduce_mean(tf.cast(correct_prediction, \"float\"))\n",
    "train = tf.train.AdamOptimizer(learning_rate = eta).minimize(mse)\n",
    "loss = tf.reduce_mean(tf.square(y - y_hat, name='loss'))\n",
    "init = tf.global_variables_initializer()\n",
    "saver = tf.train.Saver()\n",
    "learning_rate = np.random.rand(5)\n",
    "#Grid Search: generate 5 values starting from 0, separated by 0.2\n",
    "learning_rate = [i for i in np.arange(0,1,0.2)]\n",
    "#Manual Search: give any values you seem plausible manually learning_rate = [0.5, 0.6, 0.32]\n",
    "best_loss = 2\n",
    "# It can be any number, but it would be better if you keep it same as the loss you achieved"
   ]
  },
  {
   "cell_type": "code",
   "execution_count": 0,
   "metadata": {
    "colab": {},
    "colab_type": "code",
    "id": "VftbqLxPhLj-"
   },
   "outputs": [],
   "source": [
    "Tuning epochs = [50, 60, 70]\n",
    "batches = [5, 10, 20]\n",
    "rmse_min = 0.04\n",
    "for epoch in epochs:\n",
    "    for batch in batches:\n",
    "        model = get.model()\n",
    "        model.compile(loss='mean_squared_error', optimizer='adam')\n",
    "        model.fit(X_train, y_train, validation_data=(X_test, y_test),epochs=epoch, batch_size= batch)\n",
    "        y_test_pred = model.predict(X_test)\n",
    "        rmse = mean_squared_error(y_test, y_test_pred)\n",
    "        if rmse < rmse_min:\n",
    "            rmse_min = rmse\n",
    "            # serialize model to JSON\n",
    "            model_json = model.to_json()\n",
    "            with open(\"model.json\", \"w\") as json_file:\n",
    "                json_file.write(model_json)\n",
    "                # serialize weights to HDF5\n",
    "                model.save_weights(\"model.hdf5\")\n",
    "                print(\"Saced model to disk\")"
   ]
  },
  {
   "cell_type": "code",
   "execution_count": 0,
   "metadata": {
    "colab": {},
    "colab_type": "code",
    "id": "oxEp1BsKhLkA"
   },
   "outputs": [],
   "source": [
    "from keras.layers import Dense\n",
    "model = Sequential()"
   ]
  },
  {
   "cell_type": "markdown",
   "metadata": {
    "colab_type": "text",
    "id": "9hxY4fhfhLkD"
   },
   "source": [
    "layer Dense(units,\tactivation=None,\tuse_bias=True,\tkernel_initializer='glorot_uniform', bias_initializer='zeros',\tkernel_regularizer=None,\tbias_regularizer=None, activity_regularizer=None,\tkernel_constraint=None,\tbias_constraint=None)"
   ]
  },
  {
   "cell_type": "code",
   "execution_count": 0,
   "metadata": {
    "colab": {},
    "colab_type": "code",
    "id": "-texlVCGhLkD"
   },
   "outputs": [],
   "source": [
    "#This will add a fully connected neural network layer with 32 neurons, each taking 13 inputs \n",
    "model.add(Dense(32,input_dim=13,activation='relu'))\n",
    "model.add(Dense(10, activation='sigmoid'))"
   ]
  },
  {
   "cell_type": "markdown",
   "metadata": {
    "colab_type": "text",
    "id": "NyEQ22RGhLkE"
   },
   "source": [
    "compile(self, optimizer, loss, metrics=None, sample_weight_mode=None)"
   ]
  },
  {
   "cell_type": "code",
   "execution_count": 0,
   "metadata": {
    "colab": {},
    "colab_type": "code",
    "id": "E-1tEs0ahLkF"
   },
   "outputs": [],
   "source": [
    "model.compile(optimizer='rmsprop', loss='categorical_crossentropy', metrics=['accuracy'])"
   ]
  },
  {
   "cell_type": "markdown",
   "metadata": {
    "colab_type": "text",
    "id": "VV7MbPgrhLkH"
   },
   "source": [
    "predict(self,\tx,\tbatch_size=32,\tverbose=0)"
   ]
  },
  {
   "cell_type": "code",
   "execution_count": 0,
   "metadata": {
    "colab": {},
    "colab_type": "code",
    "id": "HlCnwhpFhLkM",
    "outputId": "ae0cddce-530a-4d02-8283-c3c9e7433d13"
   },
   "outputs": [
    {
     "ename": "NameError",
     "evalue": "name 'data' is not defined",
     "output_type": "error",
     "traceback": [
      "\u001b[1;31m---------------------------------------------------------------------------\u001b[0m",
      "\u001b[1;31mNameError\u001b[0m                                 Traceback (most recent call last)",
      "\u001b[1;32m<ipython-input-12-121649f9bddb>\u001b[0m in \u001b[0;36m<module>\u001b[1;34m\u001b[0m\n\u001b[1;32m----> 1\u001b[1;33m \u001b[0mmodel\u001b[0m\u001b[1;33m.\u001b[0m\u001b[0mfit\u001b[0m\u001b[1;33m(\u001b[0m\u001b[0mdata\u001b[0m\u001b[1;33m,\u001b[0m \u001b[0mlabels\u001b[0m\u001b[1;33m,\u001b[0m \u001b[0mepochs\u001b[0m\u001b[1;33m=\u001b[0m\u001b[1;36m10\u001b[0m\u001b[1;33m,\u001b[0m \u001b[0mbatch_size\u001b[0m\u001b[1;33m=\u001b[0m\u001b[1;36m32\u001b[0m\u001b[1;33m)\u001b[0m\u001b[1;33m\u001b[0m\u001b[0m\n\u001b[0m\u001b[0;32m      2\u001b[0m \u001b[0mmodel\u001b[0m\u001b[1;33m.\u001b[0m\u001b[0mpredict\u001b[0m\u001b[1;33m(\u001b[0m\u001b[0mtest_data\u001b[0m\u001b[1;33m,\u001b[0m \u001b[0mbatch_size\u001b[0m\u001b[1;33m=\u001b[0m\u001b[1;36m10\u001b[0m\u001b[1;33m)\u001b[0m\u001b[1;33m\u001b[0m\u001b[0m\n",
      "\u001b[1;31mNameError\u001b[0m: name 'data' is not defined"
     ]
    }
   ],
   "source": [
    "model.fit(data, labels, epochs=10, batch_size=32)\n",
    "model.predict(test_data, batch_size=10)"
   ]
  },
  {
   "cell_type": "markdown",
   "metadata": {
    "colab_type": "text",
    "id": "D6Av99gPhLkR"
   },
   "source": [
    "tf.nn.conv2d(input,\tfilter,\tstrides, padding, use_cudnn_on_gpu=None, data_format=None, name=None)<br>\n",
    "input:\tA\ttensor,\tmust\tbe\tone\tof\tthe\tfollowing\ttypes:\thalf,\tfloat32,\tfloat64.<br>\n",
    "filter:\tA\ttensor,\tmust\thave\tthe\tsame\ttype\tas\tinput.<br> strides:\tA\tlist\tof\tints.\t1D\tof\tlength\t4.\tThe\tstride\tof\tthe\tsliding\twindow\tfor each\tdimension\tof\tinput.\tMust\tbe\tin\tthe\tsame\torder\tas\tthe\tdimension specified\twith\tformat.<br>\n",
    "padding:\tA\tstring\tfrom:\tSAME,\tVALID.\tThe\ttype\tof\tpadding\talgorithm\tto\tuse.<br>\n",
    "use_cudnn_on_gpu:\tAn\toptional bool. Defaults\tto True.<br>\n",
    "data_format:\tAn\toptional\tstring\tfrom:\tNHWC\tand\tNCHW.\tDefaults\tto\tNHWC.\tSpecifies the\tdata\tformat\tof\tthe\tinput\tand\toutput\tdata.\tWith\tthe\tdefault\tformat\tNHWC, the\tdata\tis\tstored\tin\tthe\torder\tof:\t[batch,\tin_height,\tin_width,\tand\tin_channels]. Alternatively,\tthe\tformat\tcould\tbe\tNCHW,\tthe\tdata\tstorage\torder\tof:\t[batch, in_channels,\tin_height,\tin_width].<br>\n",
    "name:\tA\tname\tfor\tthe\toperation\t(optional)."
   ]
  },
  {
   "cell_type": "markdown",
   "metadata": {
    "colab_type": "text",
    "id": "SsR3KAv1hLkR"
   },
   "source": [
    "tf.nn.max_pool(value,\tksize,\tstrides,\tpadding, data_format='NHWC',\tname=None)<br>\n",
    "value:\tA 4-D Tensor with shape [batch,\theight,\twidth,\tchannels]and type tf.float32.<br> \n",
    "ksize:\tA list of ints that has length >= 4. The size\tof the window\tfor\teach dimension\tof\tthe\tinput tensor.<br> \n",
    "strides:\tA\tlist of\tints that has length >=\t4. The\tstride\tof\tthe\tsliding\twindow for\teach dimension of\tthe\tinput tensor.<br>\n",
    "padding: A\tstring,\teither\tVALID\tor\tSAME.<br> \n",
    "data_format:\tA\tstring.\tNHWC and\tNCHW\tare\tsupported.<br> \n",
    "name: Optional\tname for the operation."
   ]
  },
  {
   "cell_type": "markdown",
   "metadata": {
    "colab_type": "text",
    "id": "x_tX3WH8hLkS"
   },
   "source": [
    "# Creating\ta\tConvNet\tto\tclassify handwritten\tMNIST\tnumbers\n"
   ]
  },
  {
   "cell_type": "code",
   "execution_count": 0,
   "metadata": {
    "colab": {},
    "colab_type": "code",
    "id": "1vAEc08ahLkT",
    "outputId": "d273555b-47d8-458a-f75a-99112cfee76a"
   },
   "outputs": [
    {
     "name": "stdout",
     "output_type": "stream",
     "text": [
      "Extracting MNIST_data\\train-images-idx3-ubyte.gz\n",
      "Extracting MNIST_data\\train-labels-idx1-ubyte.gz\n",
      "Extracting MNIST_data\\t10k-images-idx3-ubyte.gz\n",
      "Extracting MNIST_data\\t10k-labels-idx1-ubyte.gz\n"
     ]
    }
   ],
   "source": [
    "from __future__ import absolute_import, division, print_function\n",
    "import tensorflow as tf\n",
    "import matplotlib.pyplot as plt\n",
    "import numpy as np\n",
    "from tensorflow.examples.tutorials.mnist import input_data\n",
    "mnist = input_data.read_data_sets(\"MNIST_data\", one_hot=True)"
   ]
  },
  {
   "cell_type": "code",
   "execution_count": 0,
   "metadata": {
    "colab": {},
    "colab_type": "code",
    "id": "nfzkMHJIhLkU"
   },
   "outputs": [],
   "source": [
    "def train_size(num): \n",
    "    print('Total Training Images in Dataset =' +str(mnist.train.images.shape))\n",
    "    x_train = mnist.train.images[:num,:]\n",
    "    print('x_train Examples Loaded = ' + str(x_train.shape))\n",
    "    y_train = mnist.train.labels[:num,:]\n",
    "    print('y_train Examples Loaded='+ str(y_train.shape))\n",
    "    print('')\n",
    "    return x_train, y_train"
   ]
  },
  {
   "cell_type": "code",
   "execution_count": 0,
   "metadata": {
    "colab": {},
    "colab_type": "code",
    "id": "aBR2x0K0hLkV"
   },
   "outputs": [],
   "source": [
    "def test_size(num): \n",
    "    print('Total Test Images in Dataset =' + str(mnist.test.images.shape))\n",
    "    x_test = mnist.test.images[:num,:]\n",
    "    print('x_test Examples Loaded = ' + str(x_test.shape))\n",
    "    y_test = mnist.test.labels[:num,:]\n",
    "    print('y_test Examples Loaded='+ str(y_test.shape))\n",
    "    print('')\n",
    "    return x_test, y_test"
   ]
  },
  {
   "cell_type": "code",
   "execution_count": 0,
   "metadata": {
    "colab": {},
    "colab_type": "code",
    "id": "SO_yV4sQhLkW"
   },
   "outputs": [],
   "source": [
    "def display_digit(num):\n",
    "    print(y_train[num])\n",
    "    label = y_train[num].argmax(axis=0)\n",
    "    image = x_train[num].reshape([28,28])\n",
    "    plt.title('Example: %d  Label: %d' % (num, label))\n",
    "    plt.imshow(image, cmap=plt.get_cmap('gray_r'))\n",
    "    plt.show()"
   ]
  },
  {
   "cell_type": "code",
   "execution_count": 0,
   "metadata": {
    "colab": {},
    "colab_type": "code",
    "id": "A0TqJwfPhLkX"
   },
   "outputs": [],
   "source": [
    "def display_mult_flat(start, stop):\n",
    "    images = x_train[start].reshape([1,784])\n",
    "    for i in range(start+1,stop):\n",
    "        images = np.concatenate((images, x_train[i].reshape([1, 784])))\n",
    "    plt.imshow(images, cmap=plt.get_cmap('gray_r'))\n",
    "    plt.show()"
   ]
  },
  {
   "cell_type": "code",
   "execution_count": 0,
   "metadata": {
    "colab": {},
    "colab_type": "code",
    "id": "M_QqIq3ZhLkY",
    "outputId": "7e0d9614-b052-4f7d-e27f-f925d131bb00"
   },
   "outputs": [
    {
     "name": "stdout",
     "output_type": "stream",
     "text": [
      "Total Training Images in Dataset =(55000, 784)\n",
      "x_train Examples Loaded = (55000, 784)\n",
      "y_train Examples Loaded=(55000, 10)\n",
      "\n"
     ]
    }
   ],
   "source": [
    "x_train, y_train = train_size(55000)"
   ]
  },
  {
   "cell_type": "code",
   "execution_count": 0,
   "metadata": {
    "colab": {},
    "colab_type": "code",
    "id": "kpuWyys7hLkZ",
    "outputId": "ba2f5f85-e4e6-4ebe-9112-01510fd2c2a6"
   },
   "outputs": [
    {
     "name": "stdout",
     "output_type": "stream",
     "text": [
      "[0. 0. 0. 0. 0. 0. 0. 1. 0. 0.]\n"
     ]
    },
    {
     "data": {
      "image/png": "[encoded data removed]",
      "text/plain": [
       "<Figure size 432x288 with 1 Axes>"
      ]
     },
     "metadata": {
      "needs_background": "light",
      "tags": []
     },
     "output_type": "display_data"
    },
    {
     "data": {
      "image/png": "[encoded data removed]",
      "text/plain": [
       "<Figure size 432x288 with 1 Axes>"
      ]
     },
     "metadata": {
      "needs_background": "light",
      "tags": []
     },
     "output_type": "display_data"
    }
   ],
   "source": [
    "display_digit(np.random.randint(0, x_train.shape[0]))\n",
    "display_mult_flat(0,400)"
   ]
  },
  {
   "cell_type": "code",
   "execution_count": 0,
   "metadata": {
    "colab": {},
    "colab_type": "code",
    "id": "2c06D5PuhLka"
   },
   "outputs": [],
   "source": [
    "# Training Parameters\n",
    "learning_rate = 0.001\n",
    "training_iters =500\n",
    "batch_size =128\n",
    "display_step =10\n",
    "# Network Parameters\n",
    "n_input = 784\n",
    "#MNIST data input(img shape:28*28)\n",
    "n_classes = 10\n",
    "#MNIST total classes (0-9 digits)\n",
    "dropout = 0.85\n",
    "#Dropout, probability to keep units"
   ]
  },
  {
   "cell_type": "code",
   "execution_count": 0,
   "metadata": {
    "colab": {},
    "colab_type": "code",
    "id": "9LZpKltdhLkb"
   },
   "outputs": [],
   "source": [
    "x = tf.placeholder(tf.float32, [None, n_input])\n",
    "y = tf.placeholder(tf.float32, [None,n_classes])\n",
    "keep_prob = tf.placeholder(tf.float32) # dropout (keep probability)\n",
    "def conv2d(x, W, b, strides=1):\n",
    "    # Conv2D wrapper, with bias and relu activation\n",
    "    x = tf.nn.conv2d(x, W, strides=[1, strides, strides, 1], padding='SAME')\n",
    "    x = tf.nn.bias_add(x, b)\n",
    "    return tf.nn.relu(x)"
   ]
  },
  {
   "cell_type": "code",
   "execution_count": 0,
   "metadata": {
    "colab": {},
    "colab_type": "code",
    "id": "_lLW7aNLhLkd"
   },
   "outputs": [],
   "source": [
    "def maxpool2d(x, k=2):\n",
    "    # MaxPool2D wrapper\n",
    "    return tf.nn.max_pool(x, ksize=[1, k, k, 1], strides=[1, k, k, 1], padding='SAME')"
   ]
  },
  {
   "cell_type": "code",
   "execution_count": 0,
   "metadata": {
    "colab": {},
    "colab_type": "code",
    "id": "fM5F3NQkhLke"
   },
   "outputs": [],
   "source": [
    "def conv_net(x, weights, biases, dropout):\n",
    "    # MNIST data input is a 1-D vector of 784 features (28*28 pixels)\n",
    "    # Reshape to match picture format [Height x Width x Channel]\n",
    "    # Tensor input become 4-D: [Batch Size, Height, Width, Channel]\n",
    "    x = tf.reshape(x, shape=[-1, 28, 28, 1])\n",
    "\n",
    "    # Convolution Layer\n",
    "    conv1 = conv2d(x, weights['wc1'], biases['bc1'])\n",
    "    # Max Pooling (down-sampling)\n",
    "    conv1 = maxpool2d(conv1, k=2)\n",
    "\n",
    "    # Second 8Convolution Layer\n",
    "    conv2 = conv2d(conv1, weights['wc2'], biases['bc2'])\n",
    "    # Max Pooling (down-sampling)\n",
    "    conv2 = maxpool2d(conv2, k=2)\n",
    "\n",
    "    # Fully connected layer\n",
    "    # Reshape conv2 output to fit fully connected layer input\n",
    "    fc1 = tf.reshape(conv2, [-1, weights['wd1'].get_shape().as_list()[0]])\n",
    "    fc1 = tf.add(tf.matmul(fc1, weights['wd1']), biases['bd1'])\n",
    "    fc1 = tf.nn.relu(fc1)\n",
    "    # Apply Dropout\n",
    "    fc1 = tf.nn.dropout(fc1, dropout)\n",
    "\n",
    "    # Output, class prediction\n",
    "    out = tf.add(tf.matmul(fc1, weights['out']), biases['out'])\n",
    "    return out"
   ]
  },
  {
   "cell_type": "code",
   "execution_count": 0,
   "metadata": {
    "colab": {},
    "colab_type": "code",
    "id": "5kIONLcohLkf"
   },
   "outputs": [],
   "source": [
    "# Store layers weight & bias\n",
    "weights = {\n",
    "    # 5x5 conv, 1 input, 32 outputs\n",
    "    'wc1': tf.Variable(tf.random_normal([5, 5, 1, 32])),\n",
    "    # 5x5 conv, 32 inputs, 64 outputs\n",
    "    'wc2': tf.Variable(tf.random_normal([5, 5, 32, 64])),\n",
    "    # fully connected, 7*7*64 inputs, 1024 outputs\n",
    "    'wd1': tf.Variable(tf.random_normal([7*7*64, 1024])),\n",
    "    # 1024 inputs, 10 outputs (class prediction)\n",
    "    'out': tf.Variable(tf.random_normal([1024, n_classes]))\n",
    "}\n",
    "\n",
    "biases = {\n",
    "    'bc1': tf.Variable(tf.random_normal([32])),\n",
    "    'bc2': tf.Variable(tf.random_normal([64])),\n",
    "    'bd1': tf.Variable(tf.random_normal([1024])),\n",
    "    'out': tf.Variable(tf.random_normal([n_classes]))\n",
    "}"
   ]
  },
  {
   "cell_type": "code",
   "execution_count": 0,
   "metadata": {
    "colab": {},
    "colab_type": "code",
    "id": "LO9YT-v2hLkg",
    "outputId": "1e997ecf-9608-4a83-f24c-24449db451aa"
   },
   "outputs": [
    {
     "name": "stdout",
     "output_type": "stream",
     "text": [
      "WARNING:tensorflow:From <ipython-input-77-be6f0d5f24bf>:6: softmax_cross_entropy_with_logits (from tensorflow.python.ops.nn_ops) is deprecated and will be removed in a future version.\n",
      "Instructions for updating:\n",
      "\n",
      "Future major versions of TensorFlow will allow gradients to flow\n",
      "into the labels input on backprop by default.\n",
      "\n",
      "See `tf.nn.softmax_cross_entropy_with_logits_v2`.\n",
      "\n"
     ]
    }
   ],
   "source": [
    "# Construct model\n",
    "logits = conv_net(x, weights, biases, keep_prob)\n",
    "prediction = tf.nn.softmax(logits)\n",
    "\n",
    "# Define loss and optimizer\n",
    "loss_op = tf.reduce_mean(tf.nn.softmax_cross_entropy_with_logits(logits=logits, labels=y))\n",
    "optimizer = tf.train.AdamOptimizer(learning_rate=learning_rate)\n",
    "train_op = optimizer.minimize(loss_op)"
   ]
  },
  {
   "cell_type": "code",
   "execution_count": 0,
   "metadata": {
    "colab": {},
    "colab_type": "code",
    "id": "qINigQQwhLki"
   },
   "outputs": [],
   "source": [
    "# Evaluate model\n",
    "correct_pred = tf.equal(tf.argmax(prediction, 1), tf.argmax(y, 1))\n",
    "accuracy = tf.reduce_mean(tf.cast(correct_pred, tf.float32))\n",
    "\n",
    "# Initialize the variables (i.e. assign their default value)\n",
    "init = tf.global_variables_initializer()"
   ]
  },
  {
   "cell_type": "code",
   "execution_count": 0,
   "metadata": {
    "colab": {},
    "colab_type": "code",
    "id": "otzvxODChLkj",
    "outputId": "f9120b10-0946-4ab1-d5bc-3a235281116d"
   },
   "outputs": [
    {
     "name": "stdout",
     "output_type": "stream",
     "text": [
      "Step 1, Minibatch Loss= 49006.9531, Training Accuracy= 0.109\n",
      "Step 10, Minibatch Loss= 22354.2871, Training Accuracy= 0.281\n",
      "Step 20, Minibatch Loss= 9526.2871, Training Accuracy= 0.609\n",
      "Step 30, Minibatch Loss= 5648.9121, Training Accuracy= 0.688\n",
      "Step 40, Minibatch Loss= 6134.3286, Training Accuracy= 0.734\n",
      "Step 50, Minibatch Loss= 4021.7322, Training Accuracy= 0.773\n",
      "Step 60, Minibatch Loss= 4589.3477, Training Accuracy= 0.797\n",
      "Step 70, Minibatch Loss= 1800.3582, Training Accuracy= 0.891\n",
      "Step 80, Minibatch Loss= 2340.1587, Training Accuracy= 0.891\n",
      "Step 90, Minibatch Loss= 1902.7935, Training Accuracy= 0.844\n",
      "Step 100, Minibatch Loss= 1877.9568, Training Accuracy= 0.891\n",
      "Step 110, Minibatch Loss= 2189.3936, Training Accuracy= 0.875\n",
      "Step 120, Minibatch Loss= 3208.2393, Training Accuracy= 0.828\n",
      "Step 130, Minibatch Loss= 2296.2783, Training Accuracy= 0.891\n",
      "Step 140, Minibatch Loss= 1958.1123, Training Accuracy= 0.906\n",
      "Step 150, Minibatch Loss= 1216.4115, Training Accuracy= 0.906\n",
      "Step 160, Minibatch Loss= 2586.3037, Training Accuracy= 0.867\n",
      "Step 170, Minibatch Loss= 1208.2894, Training Accuracy= 0.906\n",
      "Step 180, Minibatch Loss= 1629.5856, Training Accuracy= 0.875\n",
      "Step 190, Minibatch Loss= 1001.9846, Training Accuracy= 0.922\n",
      "Step 200, Minibatch Loss= 1340.7610, Training Accuracy= 0.906\n",
      "Step 210, Minibatch Loss= 2009.4268, Training Accuracy= 0.852\n",
      "Step 220, Minibatch Loss= 1814.7559, Training Accuracy= 0.867\n",
      "Step 230, Minibatch Loss= 1153.2710, Training Accuracy= 0.906\n",
      "Step 240, Minibatch Loss= 1863.4622, Training Accuracy= 0.906\n",
      "Step 250, Minibatch Loss= 519.6302, Training Accuracy= 0.945\n",
      "Step 260, Minibatch Loss= 453.8166, Training Accuracy= 0.969\n",
      "Step 270, Minibatch Loss= 253.1067, Training Accuracy= 0.969\n",
      "Step 280, Minibatch Loss= 2094.1040, Training Accuracy= 0.914\n",
      "Step 290, Minibatch Loss= 861.5842, Training Accuracy= 0.930\n",
      "Step 300, Minibatch Loss= 1166.9165, Training Accuracy= 0.922\n",
      "Step 310, Minibatch Loss= 629.7636, Training Accuracy= 0.953\n",
      "Step 320, Minibatch Loss= 630.9340, Training Accuracy= 0.953\n",
      "Step 330, Minibatch Loss= 369.9197, Training Accuracy= 0.953\n",
      "Step 340, Minibatch Loss= 1596.7198, Training Accuracy= 0.906\n",
      "Step 350, Minibatch Loss= 613.1218, Training Accuracy= 0.914\n",
      "Step 360, Minibatch Loss= 774.2764, Training Accuracy= 0.961\n",
      "Step 370, Minibatch Loss= 340.0051, Training Accuracy= 0.961\n",
      "Step 380, Minibatch Loss= 1052.9894, Training Accuracy= 0.922\n",
      "Step 390, Minibatch Loss= 817.7678, Training Accuracy= 0.930\n",
      "Step 400, Minibatch Loss= 1218.5612, Training Accuracy= 0.938\n",
      "Step 410, Minibatch Loss= 561.1481, Training Accuracy= 0.938\n",
      "Step 420, Minibatch Loss= 1256.4828, Training Accuracy= 0.938\n",
      "Step 430, Minibatch Loss= 530.4623, Training Accuracy= 0.953\n",
      "Step 440, Minibatch Loss= 450.1019, Training Accuracy= 0.930\n",
      "Step 450, Minibatch Loss= 634.3352, Training Accuracy= 0.930\n",
      "Step 460, Minibatch Loss= 440.3975, Training Accuracy= 0.961\n",
      "Step 470, Minibatch Loss= 405.6381, Training Accuracy= 0.953\n",
      "Step 480, Minibatch Loss= 292.6086, Training Accuracy= 0.969\n",
      "Step 490, Minibatch Loss= 613.5089, Training Accuracy= 0.961\n",
      "Step 500, Minibatch Loss= 450.3121, Training Accuracy= 0.969\n",
      "Optimization Finished!\n",
      "Testing Accuracy: 0.97265625\n"
     ]
    }
   ],
   "source": [
    "train_loss = []\n",
    "train_acc = []\n",
    "test_acc = []\n",
    "# Start training\n",
    "with tf.Session() as sess:\n",
    "\n",
    "    # Run the initializer\n",
    "    sess.run(init)\n",
    "\n",
    "    for step in range(1, training_iters+1):\n",
    "        batch_x, batch_y = mnist.train.next_batch(batch_size)\n",
    "        # Run optimization op (backprop)\n",
    "        sess.run(train_op, feed_dict={x: batch_x, y: batch_y, keep_prob: 0.8})\n",
    "        if step % display_step == 0 or step == 1:\n",
    "            # Calculate batch loss and accuracy\n",
    "            loss, acc = sess.run([loss_op, accuracy], feed_dict={x: batch_x,\n",
    "                                                                 y: batch_y,\n",
    "                                                                 keep_prob: 1.0})\n",
    "            print(\"Step \" + str(step) + \", Minibatch Loss= \" + \\\n",
    "                  \"{:.4f}\".format(loss) + \", Training Accuracy= \" + \\\n",
    "                  \"{:.3f}\".format(acc))\n",
    "            acc_test=sess.run(accuracy, feed_dict={x: mnist.test.images[:256],\n",
    "                                      y: mnist.test.labels[:256],\n",
    "                                      keep_prob: 1.0})\n",
    "            train_loss.append(loss)\n",
    "            train_acc.append(acc)\n",
    "            test_acc.append(acc_test)\n",
    "    print(\"Optimization Finished!\")\n",
    "    # Calculate accuracy for 256 MNIST test images\n",
    "    print(\"Testing Accuracy:\", acc_test)"
   ]
  },
  {
   "cell_type": "code",
   "execution_count": 0,
   "metadata": {
    "colab": {},
    "colab_type": "code",
    "id": "Kpz2alSmhLkm",
    "outputId": "94669a2c-da8a-4e46-d6ee-39ecc48d23e7"
   },
   "outputs": [
    {
     "data": {
      "image/png": "[encoded data removed]",
      "text/plain": [
       "<Figure size 432x288 with 1 Axes>"
      ]
     },
     "metadata": {
      "needs_background": "light",
      "tags": []
     },
     "output_type": "display_data"
    },
    {
     "data": {
      "image/png": "[encoded data removed]",
      "text/plain": [
       "<Figure size 432x288 with 1 Axes>"
      ]
     },
     "metadata": {
      "needs_background": "light",
      "tags": []
     },
     "output_type": "display_data"
    }
   ],
   "source": [
    "eval_indices = range(0, training_iters, display_step)#Plot loss over time\t\n",
    "plt.plot(eval_indices, train_loss[:-1], 'k-')\n",
    "plt.title('Softmax Loss per iteration')\n",
    "plt.xlabel('Iteration')\n",
    "plt.ylabel('Softmax Loss')\n",
    "plt.show()\n",
    "#Plot train and test accuracy\n",
    "plt.plot(eval_indices, train_acc[:-1], 'k-', label='Train Set Accuracy')\n",
    "plt.plot(eval_indices, test_acc[:-1], 'r-', label='Test Set Accuracy')\n",
    "plt.xlabel('Generation')\n",
    "plt.ylabel('Accuracy')\n",
    "plt.legend(loc='lower right')\n",
    "plt.show()"
   ]
  },
  {
   "cell_type": "markdown",
   "metadata": {
    "colab_type": "text",
    "id": "ZlQMVZ9WhLko"
   },
   "source": [
    "# Creating\ta\tConvNet\tto\tclassify CIFAR-10"
   ]
  },
  {
   "cell_type": "code",
   "execution_count": 0,
   "metadata": {
    "colab": {},
    "colab_type": "code",
    "id": "kIiPxrD_hLko",
    "outputId": "570060da-a754-4488-f443-dd7b6d6ab9d9"
   },
   "outputs": [
    {
     "name": "stdout",
     "output_type": "stream",
     "text": [
      "curses is not supported on this machine (please install/reinstall curses for an optimal experience)\n"
     ]
    }
   ],
   "source": [
    "from __future__ import division, print_function, absolute_import\n",
    "import tflearn\n",
    "from tflearn.data_utils import shuffle, to_categorical\n",
    "from tflearn.layers.core import input_data, dropout, fully_connected\n",
    "from tflearn.layers.conv import conv_2d, max_pool_2d\n",
    "from tflearn.layers.estimator import regression\n",
    "from tflearn.data_preprocessing import ImagePreprocessing\n",
    "from tflearn.data_augmentation import ImageAugmentation\n",
    "tf.reset_default_graph()"
   ]
  },
  {
   "cell_type": "code",
   "execution_count": 0,
   "metadata": {
    "colab": {},
    "colab_type": "code",
    "id": "pKghn5DghLkq"
   },
   "outputs": [],
   "source": [
    "from keras.datasets import cifar10\n",
    "(X, Y),(X_test,Y_test)=cifar10.load_data()\n",
    "shuffle(X,Y)\n",
    "Y = to_categorical(Y,10)\n",
    "Y_test = to_categorical(Y_test,10)"
   ]
  },
  {
   "cell_type": "code",
   "execution_count": 0,
   "metadata": {
    "colab": {},
    "colab_type": "code",
    "id": "QZFLuns6hLkr"
   },
   "outputs": [],
   "source": [
    "# Real-time data preprocessing\n",
    "img_prep = ImagePreprocessing()\n",
    "img_prep.add_featurewise_zero_center()\n",
    "img_prep.add_featurewise_stdnorm()"
   ]
  },
  {
   "cell_type": "code",
   "execution_count": 0,
   "metadata": {
    "colab": {},
    "colab_type": "code",
    "id": "mx2VywxEhLkt"
   },
   "outputs": [],
   "source": [
    "# Real-time data augmentation\n",
    "img_aug = ImageAugmentation()\n",
    "img_aug.add_random_flip_leftright()\n",
    "img_aug.add_random_rotation(max_angle=25.)"
   ]
  },
  {
   "cell_type": "code",
   "execution_count": 0,
   "metadata": {
    "colab": {},
    "colab_type": "code",
    "id": "esqN-AHphLku",
    "outputId": "4c71533c-76db-4a25-abf8-a25b0ca3025f"
   },
   "outputs": [
    {
     "name": "stdout",
     "output_type": "stream",
     "text": [
      "WARNING:tensorflow:From c:\\programdata\\anaconda\\envs\\tensorflow\\lib\\site-packages\\tflearn\\initializations.py:119: UniformUnitScaling.__init__ (from tensorflow.python.ops.init_ops) is deprecated and will be removed in a future version.\n",
      "Instructions for updating:\n",
      "Use tf.initializers.variance_scaling instead with distribution=uniform to get equivalent behavior.\n",
      "WARNING:tensorflow:From c:\\programdata\\anaconda\\envs\\tensorflow\\lib\\site-packages\\tflearn\\objectives.py:66: calling reduce_sum (from tensorflow.python.ops.math_ops) with keep_dims is deprecated and will be removed in a future version.\n",
      "Instructions for updating:\n",
      "keep_dims is deprecated, use keepdims instead\n"
     ]
    }
   ],
   "source": [
    "#Convolutional network building\n",
    "network = tflearn.input_data(shape=[None, 32, 32, 3],data_preprocessing=img_prep,data_augmentation=img_aug)\n",
    "network = conv_2d(network, 32, 3, activation='relu')\n",
    "network = max_pool_2d(network, 2)\n",
    "network = conv_2d(network, 64, 3, activation='relu')\n",
    "network = conv_2d(network, 64, 3, activation='relu')\n",
    "network = max_pool_2d(network, 2)\n",
    "network = fully_connected(network, 512, activation='relu')\n",
    "network = dropout(network,0.5)\n",
    "network = fully_connected(network, 10, activation='softmax')\n",
    "network = regression(network, optimizer='adam', loss='categorical_crossentropy', learning_rate=0.001)"
   ]
  },
  {
   "cell_type": "code",
   "execution_count": 0,
   "metadata": {
    "colab": {},
    "colab_type": "code",
    "id": "bJQbTwvvhLkv",
    "outputId": "f6962cbe-4bc2-4019-a002-7a2c2ae1428d"
   },
   "outputs": [
    {
     "data": {
      "text/plain": [
       "(dtype('uint8'), dtype('float64'), dtype('uint8'), dtype('float64'))"
      ]
     },
     "execution_count": 11,
     "metadata": {
      "tags": []
     },
     "output_type": "execute_result"
    }
   ],
   "source": [
    "X.dtype,Y.dtype,X_test.dtype,Y_test.dtype"
   ]
  },
  {
   "cell_type": "code",
   "execution_count": 0,
   "metadata": {
    "colab": {},
    "colab_type": "code",
    "id": "P8Vu0kD1hLkx",
    "scrolled": false
   },
   "outputs": [],
   "source": [
    "# Train using classifier\n",
    "model = tflearn.DNN(network, tensorboard_verbose=0)\n",
    "model.fit(X, Y, n_epoch=50, shuffle=True, validation_set=(X_test, Y_test),\n",
    "         show_metric=True, batch_size=96, run_id='cifar10_cnn')"
   ]
  },
  {
   "cell_type": "markdown",
   "metadata": {
    "colab_type": "text",
    "id": "6jdVhM2BhLkz"
   },
   "source": [
    "# A Neural Algorithm of Artistic Style"
   ]
  },
  {
   "cell_type": "code",
   "execution_count": 0,
   "metadata": {
    "colab": {},
    "colab_type": "code",
    "id": "58vyT-nghLkz"
   },
   "outputs": [],
   "source": [
    "# Import what we need\n",
    "import os\n",
    "import sys\n",
    "import numpy as np\n",
    "import scipy.io\n",
    "import scipy.misc\n",
    "import tensorflow as tf  # Import TensorFlow after Scipy or Scipy will break\n",
    "import matplotlib.pyplot as plt\n",
    "from matplotlib.pyplot import imshow\n",
    "from PIL import Image\n",
    "%matplotlib inline"
   ]
  },
  {
   "cell_type": "code",
   "execution_count": 0,
   "metadata": {
    "colab": {},
    "colab_type": "code",
    "id": "NOZ2fBHxhLk0"
   },
   "outputs": [],
   "source": [
    "# Constants for the image input and output.\n",
    "# Output folder for the images.\n",
    "OUTPUT_DIR = 'output/'\n",
    "# Style image to use.\n",
    "STYLE_IMAGE = 'guernica.jpg'\n",
    "# Content image to use.\n",
    "CONTENT_IMAGE = 'hongkong.jpg'\n",
    "# Image dimensions constants. \n",
    "IMAGE_WIDTH = 800\n",
    "IMAGE_HEIGHT = 600\n",
    "COLOR_CHANNELS = 3"
   ]
  },
  {
   "cell_type": "code",
   "execution_count": 0,
   "metadata": {
    "colab": {},
    "colab_type": "code",
    "id": "vCPDR6hShLk1"
   },
   "outputs": [],
   "source": [
    "# Algorithm constants\n",
    "# Noise ratio. Percentage of weight of the noise for intermixing with the\n",
    "# content image.\n",
    "NOISE_RATIO = 0.6\n",
    "# Constant to put more emphasis on content loss.\n",
    "BETA = 5\n",
    "# Constant to put more emphasis on style loss.\n",
    "ALPHA = 100\n",
    "# Path to the deep learning model. This is more than 500MB so will not be\n",
    "# included in the repository, but available to download at the model Zoo:\n",
    "# Link: https://github.com/BVLC/caffe/wiki/Model-Zoo\n",
    "#\n",
    "# Pick the VGG 19-layer model by from the paper \"Very Deep Convolutional \n",
    "# Networks for Large-Scale Image Recognition\".\n",
    "VGG_MODEL = 'imagenet-vgg-verydeep-19.mat'\n",
    "# The mean to subtract from the input to the VGG model. This is the mean that\n",
    "# when the VGG was used to train. Minor changes to this will make a lot of\n",
    "# difference to the performance of model.\n",
    "MEAN_VALUES = np.array([123.68, 116.779, 103.939]).reshape((1,1,1,3))"
   ]
  },
  {
   "cell_type": "code",
   "execution_count": 0,
   "metadata": {
    "colab": {},
    "colab_type": "code",
    "id": "sLe059-IhLk2"
   },
   "outputs": [],
   "source": [
    "def load_vgg_model(path):\n",
    "    \"\"\"\n",
    "    Returns a model for the purpose of 'painting' the picture.\n",
    "    Takes only the convolution layer weights and wrap using the TensorFlow\n",
    "    Conv2d, Relu and AveragePooling layer. VGG actually uses maxpool but\n",
    "    the paper indicates that using AveragePooling yields better results.\n",
    "    The last few fully connected layers are not used.\n",
    "    Here is the detailed configuration of the VGG model:\n",
    "        0 is conv1_1 (3, 3, 3, 64)\n",
    "        1 is relu\n",
    "        2 is conv1_2 (3, 3, 64, 64)\n",
    "        3 is relu    \n",
    "        4 is maxpool\n",
    "        5 is conv2_1 (3, 3, 64, 128)\n",
    "        6 is relu\n",
    "        7 is conv2_2 (3, 3, 128, 128)\n",
    "        8 is relu\n",
    "        9 is maxpool\n",
    "        10 is conv3_1 (3, 3, 128, 256)\n",
    "        11 is relu\n",
    "        12 is conv3_2 (3, 3, 256, 256)\n",
    "        13 is relu\n",
    "        14 is conv3_3 (3, 3, 256, 256)\n",
    "        15 is relu\n",
    "        16 is conv3_4 (3, 3, 256, 256)\n",
    "        17 is relu\n",
    "        18 is maxpool\n",
    "        19 is conv4_1 (3, 3, 256, 512)\n",
    "        20 is relu\n",
    "        21 is conv4_2 (3, 3, 512, 512)\n",
    "        22 is relu\n",
    "        23 is conv4_3 (3, 3, 512, 512)\n",
    "        24 is relu\n",
    "        25 is conv4_4 (3, 3, 512, 512)\n",
    "        26 is relu\n",
    "        27 is maxpool\n",
    "        28 is conv5_1 (3, 3, 512, 512)\n",
    "        29 is relu\n",
    "        30 is conv5_2 (3, 3, 512, 512)\n",
    "        31 is relu\n",
    "        32 is conv5_3 (3, 3, 512, 512)\n",
    "        33 is relu\n",
    "        34 is conv5_4 (3, 3, 512, 512)\n",
    "        35 is relu\n",
    "        36 is maxpool\n",
    "        37 is fullyconnected (7, 7, 512, 4096)\n",
    "        38 is relu\n",
    "        39 is fullyconnected (1, 1, 4096, 4096)\n",
    "        40 is relu\n",
    "        41 is fullyconnected (1, 1, 4096, 1000)\n",
    "        42 is softmax\n",
    "    \"\"\"\n",
    "    vgg = scipy.io.loadmat(path)\n",
    "\n",
    "    vgg_layers = vgg['layers']\n",
    "    def _weights(layer, expected_layer_name):\n",
    "        \"\"\"\n",
    "        Return the weights and bias from the VGG model for a given layer.\n",
    "        \"\"\"\n",
    "        W = vgg_layers[0][layer][0][0][0][0][0]\n",
    "        b = vgg_layers[0][layer][0][0][0][0][1]\n",
    "        layer_name = vgg_layers[0][layer][0][0][-2]\n",
    "        assert layer_name == expected_layer_name\n",
    "        return W, b\n",
    "\n",
    "    def _relu(conv2d_layer):\n",
    "        \"\"\"\n",
    "        Return the RELU function wrapped over a TensorFlow layer. Expects a\n",
    "        Conv2d layer input.\n",
    "        \"\"\"\n",
    "        return tf.nn.relu(conv2d_layer)\n",
    "\n",
    "    def _conv2d(prev_layer, layer, layer_name):\n",
    "        \"\"\"\n",
    "        Return the Conv2D layer using the weights, biases from the VGG\n",
    "        model at 'layer'.\n",
    "        \"\"\"\n",
    "        W, b = _weights(layer, layer_name)\n",
    "        W = tf.constant(W)\n",
    "        b = tf.constant(np.reshape(b, (b.size)))\n",
    "        return tf.nn.conv2d(\n",
    "            prev_layer, filter=W, strides=[1, 1, 1, 1], padding='SAME') + b\n",
    "\n",
    "    def _conv2d_relu(prev_layer, layer, layer_name):\n",
    "        \"\"\"\n",
    "        Return the Conv2D + RELU layer using the weights, biases from the VGG\n",
    "        model at 'layer'.\n",
    "        \"\"\"\n",
    "        return _relu(_conv2d(prev_layer, layer, layer_name))\n",
    "\n",
    "    def _avgpool(prev_layer):\n",
    "        \"\"\"\n",
    "        Return the AveragePooling layer.\n",
    "        \"\"\"\n",
    "        return tf.nn.avg_pool(prev_layer, ksize=[1, 2, 2, 1], strides=[1, 2, 2, 1], padding='SAME')\n",
    "\n",
    "    # Constructs the graph model.\n",
    "    graph = {}\n",
    "    graph['input']   = tf.Variable(np.zeros((1, IMAGE_HEIGHT, IMAGE_WIDTH, COLOR_CHANNELS)), dtype = 'float32')\n",
    "    graph['conv1_1']  = _conv2d_relu(graph['input'], 0, 'conv1_1')\n",
    "    graph['conv1_2']  = _conv2d_relu(graph['conv1_1'], 2, 'conv1_2')\n",
    "    graph['avgpool1'] = _avgpool(graph['conv1_2'])\n",
    "    graph['conv2_1']  = _conv2d_relu(graph['avgpool1'], 5, 'conv2_1')\n",
    "    graph['conv2_2']  = _conv2d_relu(graph['conv2_1'], 7, 'conv2_2')\n",
    "    graph['avgpool2'] = _avgpool(graph['conv2_2'])\n",
    "    graph['conv3_1']  = _conv2d_relu(graph['avgpool2'], 10, 'conv3_1')\n",
    "    graph['conv3_2']  = _conv2d_relu(graph['conv3_1'], 12, 'conv3_2')\n",
    "    graph['conv3_3']  = _conv2d_relu(graph['conv3_2'], 14, 'conv3_3')\n",
    "    graph['conv3_4']  = _conv2d_relu(graph['conv3_3'], 16, 'conv3_4')\n",
    "    graph['avgpool3'] = _avgpool(graph['conv3_4'])\n",
    "    graph['conv4_1']  = _conv2d_relu(graph['avgpool3'], 19, 'conv4_1')\n",
    "    graph['conv4_2']  = _conv2d_relu(graph['conv4_1'], 21, 'conv4_2')\n",
    "    graph['conv4_3']  = _conv2d_relu(graph['conv4_2'], 23, 'conv4_3')\n",
    "    graph['conv4_4']  = _conv2d_relu(graph['conv4_3'], 25, 'conv4_4')\n",
    "    graph['avgpool4'] = _avgpool(graph['conv4_4'])\n",
    "    graph['conv5_1']  = _conv2d_relu(graph['avgpool4'], 28, 'conv5_1')\n",
    "    graph['conv5_2']  = _conv2d_relu(graph['conv5_1'], 30, 'conv5_2')\n",
    "    graph['conv5_3']  = _conv2d_relu(graph['conv5_2'], 32, 'conv5_3')\n",
    "    graph['conv5_4']  = _conv2d_relu(graph['conv5_3'], 34, 'conv5_4')\n",
    "    graph['avgpool5'] = _avgpool(graph['conv5_4'])\n",
    "    return graph"
   ]
  },
  {
   "cell_type": "code",
   "execution_count": 0,
   "metadata": {
    "colab": {},
    "colab_type": "code",
    "id": "wEekZBvJhLk3"
   },
   "outputs": [],
   "source": [
    "def content_loss_func(sess, model):\n",
    "    \"\"\"\n",
    "    Content loss function as defined in the paper.\n",
    "    \"\"\"\n",
    "    def _content_loss(p, x):\n",
    "        # N is the number of filters (at layer l).\n",
    "        N = p.shape[3]\n",
    "        # M is the height times the width of the feature map (at layer l).\n",
    "        M = p.shape[1] * p.shape[2]\n",
    "        # Interestingly, the paper uses this form instead:\n",
    "        #\n",
    "        #   0.5 * tf.reduce_sum(tf.pow(x - p, 2)) \n",
    "        #\n",
    "        # But this form is very slow in \"painting\" and thus could be missing\n",
    "        # out some constants (from what I see in other source code), so I'll\n",
    "        # replicate the same normalization constant as used in style loss.\n",
    "        return (1 / (4 * N * M)) * tf.reduce_sum(tf.pow(x - p, 2))\n",
    "    return _content_loss(sess.run(model['conv4_2']), model['conv4_2'])"
   ]
  },
  {
   "cell_type": "code",
   "execution_count": 0,
   "metadata": {
    "colab": {},
    "colab_type": "code",
    "id": "aiexCu1xhLk5"
   },
   "outputs": [],
   "source": [
    "# Layers to use. We will use these layers as advised in the paper.\n",
    "# To have softer features, increase the weight of the higher layers\n",
    "# (conv5_1) and decrease the weight of the lower layers (conv1_1).\n",
    "# To have harder features, decrease the weight of the higher layers\n",
    "# (conv5_1) and increase the weight of the lower layers (conv1_1).\n",
    "STYLE_LAYERS = [\n",
    "    ('conv1_1', 0.5),\n",
    "    ('conv2_1', 1.0),\n",
    "    ('conv3_1', 1.5),\n",
    "    ('conv4_1', 3.0),\n",
    "    ('conv5_1', 4.0),\n",
    "]\n",
    "\n",
    "def style_loss_func(sess, model):\n",
    "    \"\"\"\n",
    "    Style loss function as defined in the paper.\n",
    "    \"\"\"\n",
    "    def _gram_matrix(F, N, M):\n",
    "        \"\"\"\n",
    "        The gram matrix G.\n",
    "        \"\"\"\n",
    "        Ft = tf.reshape(F, (M, N))\n",
    "        return tf.matmul(tf.transpose(Ft), Ft)\n",
    "\n",
    "    def _style_loss(a, x):\n",
    "        \"\"\"\n",
    "        The style loss calculation.\n",
    "        \"\"\"\n",
    "        # N is the number of filters (at layer l).\n",
    "        N = a.shape[3]\n",
    "        # M is the height times the width of the feature map (at layer l).\n",
    "        M = a.shape[1] * a.shape[2]\n",
    "        # A is the style representation of the original image (at layer l).\n",
    "        A = _gram_matrix(a, N, M)\n",
    "        # G is the style representation of the generated image (at layer l).\n",
    "        G = _gram_matrix(x, N, M)\n",
    "        result = (1 / (4 * N**2 * M**2)) * tf.reduce_sum(tf.pow(G - A, 2))\n",
    "        return result\n",
    "\n",
    "    E = [_style_loss(sess.run(model[layer_name]), model[layer_name]) for layer_name, _ in STYLE_LAYERS]\n",
    "    W = [w for _, w in STYLE_LAYERS]\n",
    "    loss = sum([W[l] * E[l] for l in range(len(STYLE_LAYERS))])\n",
    "    return loss"
   ]
  },
  {
   "cell_type": "code",
   "execution_count": 0,
   "metadata": {
    "colab": {},
    "colab_type": "code",
    "id": "A3FQ91M8hLk6"
   },
   "outputs": [],
   "source": [
    "def generate_noise_image(content_image, noise_ratio = NOISE_RATIO):\n",
    "    \"\"\"\n",
    "    Returns a noise image intermixed with the content image at a certain ratio.\n",
    "    \"\"\"\n",
    "    noise_image = np.random.uniform(-20, 20,(1, IMAGE_HEIGHT, IMAGE_WIDTH, COLOR_CHANNELS)).astype('float32')\n",
    "    # White noise image from the content representation. Take a weighted average\n",
    "    # of the values\n",
    "    input_image = noise_image * noise_ratio + content_image * (1 - noise_ratio)\n",
    "    return input_image\n",
    "\n",
    "def load_image(path):\n",
    "    image = scipy.misc.imread(path)\n",
    "    # Resize the image for convnet input, there is no change but just\n",
    "    # add an extra dimension.\n",
    "    image = np.reshape(image, ((1,) + image.shape))\n",
    "    # Input to the VGG model expects the mean to be subtracted.\n",
    "    image = image - MEAN_VALUES\n",
    "    return image\n",
    "\n",
    "def save_image(path, image):\n",
    "    # Output should add back the mean.\n",
    "    image = image + MEAN_VALUES\n",
    "    # Get rid of the first useless dimension, what remains is the image.\n",
    "    image = image[0]\n",
    "    image = np.clip(image, 0, 255).astype('uint8')\n",
    "    scipy.misc.imsave(path, image)"
   ]
  },
  {
   "cell_type": "code",
   "execution_count": 54,
   "metadata": {
    "colab": {
     "base_uri": "https://localhost:8080/",
     "height": 70
    },
    "colab_type": "code",
    "id": "yBOHG-o6hLk_",
    "outputId": "283b30fc-1934-4ad2-c8f8-1fff10bd9fda"
   },
   "outputs": [
    {
     "name": "stderr",
     "output_type": "stream",
     "text": [
      "/usr/local/lib/python3.6/dist-packages/tensorflow/python/client/session.py:1702: UserWarning: An interactive session is already active. This can cause out-of-memory errors in some cases. You must explicitly call `InteractiveSession.close()` to release resources held by the other session(s).\n",
      "  warnings.warn('An interactive session is already active. This can '\n"
     ]
    }
   ],
   "source": [
    "sess = tf.InteractiveSession()"
   ]
  },
  {
   "cell_type": "code",
   "execution_count": 55,
   "metadata": {
    "colab": {
     "base_uri": "https://localhost:8080/",
     "height": 370
    },
    "colab_type": "code",
    "id": "J7_rD27AhLlA",
    "outputId": "816d3099-4634-4f97-9592-dfb4ec93b5f6"
   },
   "outputs": [
    {
     "name": "stderr",
     "output_type": "stream",
     "text": [
      "/usr/local/lib/python3.6/dist-packages/ipykernel_launcher.py:12: DeprecationWarning: `imread` is deprecated!\n",
      "`imread` is deprecated in SciPy 1.0.0, and will be removed in 1.2.0.\n",
      "Use ``imageio.imread`` instead.\n",
      "  if sys.path[0] == '':\n",
      "Clipping input data to the valid range for imshow with RGB data ([0..1] for floats or [0..255] for integers).\n"
     ]
    },
    {
     "data": {
      "text/plain": [
       "<matplotlib.image.AxesImage at 0x7f18353e5da0>"
      ]
     },
     "execution_count": 55,
     "metadata": {
      "tags": []
     },
     "output_type": "execute_result"
    },
    {
     "data": {
      "image/png": "[encoded data removed]",
      "text/plain": [
       "<Figure size 432x288 with 1 Axes>"
      ]
     },
     "metadata": {
      "tags": []
     },
     "output_type": "display_data"
    }
   ],
   "source": [
    "content_image = load_image(CONTENT_IMAGE)\n",
    "imshow(content_image[0])"
   ]
  },
  {
   "cell_type": "code",
   "execution_count": 56,
   "metadata": {
    "colab": {
     "base_uri": "https://localhost:8080/",
     "height": 370
    },
    "colab_type": "code",
    "id": "O-na9LRuhLlD",
    "outputId": "70f8deb4-aa10-455a-ec64-8334ae9854b8"
   },
   "outputs": [
    {
     "name": "stderr",
     "output_type": "stream",
     "text": [
      "/usr/local/lib/python3.6/dist-packages/ipykernel_launcher.py:12: DeprecationWarning: `imread` is deprecated!\n",
      "`imread` is deprecated in SciPy 1.0.0, and will be removed in 1.2.0.\n",
      "Use ``imageio.imread`` instead.\n",
      "  if sys.path[0] == '':\n",
      "Clipping input data to the valid range for imshow with RGB data ([0..1] for floats or [0..255] for integers).\n"
     ]
    },
    {
     "data": {
      "text/plain": [
       "<matplotlib.image.AxesImage at 0x7f1834bb5390>"
      ]
     },
     "execution_count": 56,
     "metadata": {
      "tags": []
     },
     "output_type": "execute_result"
    },
    {
     "data": {
      "image/png": "[encoded data removed]",
      "text/plain": [
       "<Figure size 432x288 with 1 Axes>"
      ]
     },
     "metadata": {
      "tags": []
     },
     "output_type": "display_data"
    }
   ],
   "source": [
    "style_image = load_image(STYLE_IMAGE)\n",
    "imshow(style_image[0])"
   ]
  },
  {
   "cell_type": "code",
   "execution_count": 57,
   "metadata": {
    "colab": {
     "base_uri": "https://localhost:8080/",
     "height": 54
    },
    "colab_type": "code",
    "id": "IC641xEJhLlE",
    "outputId": "a240fd12-7c00-43c2-ec5b-3726fb5711cf"
   },
   "outputs": [
    {
     "name": "stdout",
     "output_type": "stream",
     "text": [
      "{'input': <tf.Variable 'Variable_1:0' shape=(1, 600, 800, 3) dtype=float32_ref>, 'conv1_1': <tf.Tensor 'Relu_16:0' shape=(1, 600, 800, 64) dtype=float32>, 'conv1_2': <tf.Tensor 'Relu_17:0' shape=(1, 600, 800, 64) dtype=float32>, 'avgpool1': <tf.Tensor 'AvgPool_5:0' shape=(1, 300, 400, 64) dtype=float32>, 'conv2_1': <tf.Tensor 'Relu_18:0' shape=(1, 300, 400, 128) dtype=float32>, 'conv2_2': <tf.Tensor 'Relu_19:0' shape=(1, 300, 400, 128) dtype=float32>, 'avgpool2': <tf.Tensor 'AvgPool_6:0' shape=(1, 150, 200, 128) dtype=float32>, 'conv3_1': <tf.Tensor 'Relu_20:0' shape=(1, 150, 200, 256) dtype=float32>, 'conv3_2': <tf.Tensor 'Relu_21:0' shape=(1, 150, 200, 256) dtype=float32>, 'conv3_3': <tf.Tensor 'Relu_22:0' shape=(1, 150, 200, 256) dtype=float32>, 'conv3_4': <tf.Tensor 'Relu_23:0' shape=(1, 150, 200, 256) dtype=float32>, 'avgpool3': <tf.Tensor 'AvgPool_7:0' shape=(1, 75, 100, 256) dtype=float32>, 'conv4_1': <tf.Tensor 'Relu_24:0' shape=(1, 75, 100, 512) dtype=float32>, 'conv4_2': <tf.Tensor 'Relu_25:0' shape=(1, 75, 100, 512) dtype=float32>, 'conv4_3': <tf.Tensor 'Relu_26:0' shape=(1, 75, 100, 512) dtype=float32>, 'conv4_4': <tf.Tensor 'Relu_27:0' shape=(1, 75, 100, 512) dtype=float32>, 'avgpool4': <tf.Tensor 'AvgPool_8:0' shape=(1, 38, 50, 512) dtype=float32>, 'conv5_1': <tf.Tensor 'Relu_28:0' shape=(1, 38, 50, 512) dtype=float32>, 'conv5_2': <tf.Tensor 'Relu_29:0' shape=(1, 38, 50, 512) dtype=float32>, 'conv5_3': <tf.Tensor 'Relu_30:0' shape=(1, 38, 50, 512) dtype=float32>, 'conv5_4': <tf.Tensor 'Relu_31:0' shape=(1, 38, 50, 512) dtype=float32>, 'avgpool5': <tf.Tensor 'AvgPool_9:0' shape=(1, 19, 25, 512) dtype=float32>}\n"
     ]
    }
   ],
   "source": [
    "model = load_vgg_model(VGG_MODEL)\n",
    "print(model)"
   ]
  },
  {
   "cell_type": "code",
   "execution_count": 58,
   "metadata": {
    "colab": {
     "base_uri": "https://localhost:8080/",
     "height": 302
    },
    "colab_type": "code",
    "id": "rSTsMUvUhLlN",
    "outputId": "e51a38dc-ae52-4c16-d92c-c708aa304524"
   },
   "outputs": [
    {
     "name": "stderr",
     "output_type": "stream",
     "text": [
      "Clipping input data to the valid range for imshow with RGB data ([0..1] for floats or [0..255] for integers).\n"
     ]
    },
    {
     "data": {
      "text/plain": [
       "<matplotlib.image.AxesImage at 0x7f18349970f0>"
      ]
     },
     "execution_count": 58,
     "metadata": {
      "tags": []
     },
     "output_type": "execute_result"
    },
    {
     "data": {
      "image/png": "[encoded data removed]",
      "text/plain": [
       "<Figure size 432x288 with 1 Axes>"
      ]
     },
     "metadata": {
      "tags": []
     },
     "output_type": "display_data"
    }
   ],
   "source": [
    "# Generate the white noise and content presentation mixed image\n",
    "# which will be the basis for the algorithm to \"paint\".\n",
    "input_image = generate_noise_image(content_image)\n",
    "imshow(input_image[0])"
   ]
  },
  {
   "cell_type": "code",
   "execution_count": 0,
   "metadata": {
    "colab": {},
    "colab_type": "code",
    "id": "Ngcy4HOehLlO"
   },
   "outputs": [],
   "source": [
    "sess.run(tf.initialize_all_variables())"
   ]
  },
  {
   "cell_type": "code",
   "execution_count": 0,
   "metadata": {
    "colab": {},
    "colab_type": "code",
    "id": "rBScydmPhLlP"
   },
   "outputs": [],
   "source": [
    "# Construct content_loss using content_image.\n",
    "sess.run(model['input'].assign(content_image))\n",
    "content_loss = content_loss_func(sess, model)"
   ]
  },
  {
   "cell_type": "code",
   "execution_count": 0,
   "metadata": {
    "colab": {},
    "colab_type": "code",
    "id": "GyH5hRJFhLlQ"
   },
   "outputs": [],
   "source": [
    "# Construct style_loss using style_image.\n",
    "sess.run(model['input'].assign(style_image))\n",
    "style_loss = style_loss_func(sess, model)"
   ]
  },
  {
   "cell_type": "code",
   "execution_count": 0,
   "metadata": {
    "colab": {},
    "colab_type": "code",
    "id": "lSuyAotwhLlS"
   },
   "outputs": [],
   "source": [
    "# Instantiate equation 7 of the paper.\n",
    "total_loss = BETA * content_loss + ALPHA * style_loss"
   ]
  },
  {
   "cell_type": "code",
   "execution_count": 0,
   "metadata": {
    "colab": {},
    "colab_type": "code",
    "id": "Bbwx_-LihLlT"
   },
   "outputs": [],
   "source": [
    "# From the paper: jointly minimize the distance of a white noise image\n",
    "# from the content representation of the photograph in one layer of\n",
    "# the neywork and the style representation of the painting in a number\n",
    "# of layers of the CNN.\n",
    "#\n",
    "# The content is built from one layer, while the style is from five\n",
    "# layers. Then we minimize the total_loss, which is the equation 7.\n",
    "optimizer = tf.train.AdamOptimizer(2.0)\n",
    "train_step = optimizer.minimize(total_loss)"
   ]
  },
  {
   "cell_type": "code",
   "execution_count": 64,
   "metadata": {
    "colab": {
     "base_uri": "https://localhost:8080/",
     "height": 840
    },
    "colab_type": "code",
    "id": "Hxo2UuF2hLlT",
    "outputId": "b74cdcce-d365-4218-e56e-09f1d9fba351"
   },
   "outputs": [
    {
     "data": {
      "text/plain": [
       "array([[[[-29.211145 ,  -6.191182 ,  37.086636 ],\n",
       "         [-43.924156 ,  -3.0277438,  51.039745 ],\n",
       "         [-43.02808  , -12.02896  ,  50.837982 ],\n",
       "         ...,\n",
       "         [-33.045673 ,  -6.167768 ,  48.94954  ],\n",
       "         [-24.074762 , -14.646896 ,  45.89074  ],\n",
       "         [-36.695427 , -12.847447 ,  40.861813 ]],\n",
       "\n",
       "        [[-27.563095 ,   3.3597803,  53.83297  ],\n",
       "         [-45.0605   , -17.061089 ,  54.35387  ],\n",
       "         [-44.052982 ,   3.228863 ,  54.17159  ],\n",
       "         ...,\n",
       "         [-27.449583 ,  -9.131046 ,  53.94739  ],\n",
       "         [-41.980118 ,  -8.740103 ,  42.873634 ],\n",
       "         [-23.34001  , -15.036888 ,  41.63324  ]],\n",
       "\n",
       "        [[-24.084272 , -14.586448 ,  35.563118 ],\n",
       "         [-28.036654 , -14.679845 ,  39.35527  ],\n",
       "         [-44.272324 , -16.561747 ,  58.320255 ],\n",
       "         ...,\n",
       "         [-30.340319 , -15.988817 ,  57.069294 ],\n",
       "         [-37.238285 ,   2.5736873,  44.1454   ],\n",
       "         [-42.5635   , -10.392011 ,  42.13595  ]],\n",
       "\n",
       "        ...,\n",
       "\n",
       "        [[-43.759327 , -45.64274  , -30.798273 ],\n",
       "         [-53.85315  , -40.3016   , -48.883846 ],\n",
       "         [-43.777863 , -49.70191  , -48.10324  ],\n",
       "         ...,\n",
       "         [-41.22713  , -32.018406 , -44.5892   ],\n",
       "         [-37.194416 , -37.873363 , -30.258875 ],\n",
       "         [-37.44909  , -28.139057 , -43.569527 ]],\n",
       "\n",
       "        [[-60.898243 , -43.272526 , -35.58217  ],\n",
       "         [-56.88655  , -42.587723 , -31.85524  ],\n",
       "         [-44.262753 , -52.224922 , -32.784714 ],\n",
       "         ...,\n",
       "         [-44.077347 , -55.28652  , -47.1712   ],\n",
       "         [-43.273617 , -37.718754 , -33.300426 ],\n",
       "         [-43.600708 , -32.743164 , -28.383272 ]],\n",
       "\n",
       "        [[-38.603573 , -34.558094 , -37.340115 ],\n",
       "         [-56.541348 , -46.715897 , -41.84291  ],\n",
       "         [-38.031395 , -43.579582 , -42.56168  ],\n",
       "         ...,\n",
       "         [-35.35562  , -32.87867  , -41.867294 ],\n",
       "         [-45.947353 , -39.387867 , -43.442177 ],\n",
       "         [-34.02147  , -36.40465  , -26.719217 ]]]], dtype=float32)"
      ]
     },
     "execution_count": 64,
     "metadata": {
      "tags": []
     },
     "output_type": "execute_result"
    }
   ],
   "source": [
    "sess.run(tf.initialize_all_variables())\n",
    "sess.run(model['input'].assign(input_image))"
   ]
  },
  {
   "cell_type": "code",
   "execution_count": 0,
   "metadata": {
    "colab": {},
    "colab_type": "code",
    "id": "rkx0tTaxhLlV"
   },
   "outputs": [],
   "source": [
    "# Number of iterations to run.\n",
    "ITERATIONS = 1000  # The art.py uses 5000 iterations, and yields far more appealing results. If you can wait, use 5000."
   ]
  },
  {
   "cell_type": "code",
   "execution_count": 67,
   "metadata": {
    "colab": {
     "base_uri": "https://localhost:8080/",
     "height": 571
    },
    "colab_type": "code",
    "id": "yB4FRH5bhLlW",
    "outputId": "b11339b4-1e85-43ee-9332-55fe20285e6d"
   },
   "outputs": [
    {
     "name": "stdout",
     "output_type": "stream",
     "text": [
      "Iteration 0\n",
      "sum :  -4730418.0\n",
      "cost:  79305010000.0\n"
     ]
    },
    {
     "name": "stderr",
     "output_type": "stream",
     "text": [
      "/usr/local/lib/python3.6/dist-packages/ipykernel_launcher.py:26: DeprecationWarning: `imsave` is deprecated!\n",
      "`imsave` is deprecated in SciPy 1.0.0, and will be removed in 1.2.0.\n",
      "Use ``imageio.imwrite`` instead.\n"
     ]
    },
    {
     "name": "stdout",
     "output_type": "stream",
     "text": [
      "Iteration 100\n",
      "sum :  -2918522.0\n",
      "cost:  3634432300.0\n",
      "Iteration 200\n",
      "sum :  -2370331.0\n",
      "cost:  1428448400.0\n",
      "Iteration 300\n",
      "sum :  -1303558.0\n",
      "cost:  761747000.0\n",
      "Iteration 400\n",
      "sum :  -90538.0\n",
      "cost:  485002050.0\n",
      "Iteration 500\n",
      "sum :  1019790.0\n",
      "cost:  341446880.0\n",
      "Iteration 600\n",
      "sum :  2083186.0\n",
      "cost:  260866800.0\n",
      "Iteration 700\n",
      "sum :  2933052.0\n",
      "cost:  492514100.0\n",
      "Iteration 800\n",
      "sum :  3774780.0\n",
      "cost:  167964600.0\n",
      "Iteration 900\n",
      "sum :  4581878.0\n",
      "cost:  131689550.0\n"
     ]
    }
   ],
   "source": [
    "sess.run(tf.initialize_all_variables())\n",
    "sess.run(model['input'].assign(input_image))\n",
    "for it in range(ITERATIONS):\n",
    "    sess.run(train_step)\n",
    "    if it%100 == 0:\n",
    "        # Print every 100 iteration.\n",
    "        mixed_image = sess.run(model['input'])\n",
    "        print('Iteration %d' % (it))\n",
    "        print('sum : ', sess.run(tf.reduce_sum(mixed_image)))\n",
    "        print('cost: ', sess.run(total_loss))\n",
    "\n",
    "        if not os.path.exists(OUTPUT_DIR):\n",
    "            os.mkdir(OUTPUT_DIR)\n",
    "\n",
    "        filename = 'output/%d.png' % (it)\n",
    "        save_image(filename, mixed_image)"
   ]
  },
  {
   "cell_type": "code",
   "execution_count": 68,
   "metadata": {
    "colab": {
     "base_uri": "https://localhost:8080/",
     "height": 67
    },
    "colab_type": "code",
    "id": "vbxdcbWGhLlX",
    "outputId": "451c0ed1-c4a8-4181-f94d-e7e59dffde2f"
   },
   "outputs": [
    {
     "name": "stderr",
     "output_type": "stream",
     "text": [
      "/usr/local/lib/python3.6/dist-packages/ipykernel_launcher.py:26: DeprecationWarning: `imsave` is deprecated!\n",
      "`imsave` is deprecated in SciPy 1.0.0, and will be removed in 1.2.0.\n",
      "Use ``imageio.imwrite`` instead.\n"
     ]
    }
   ],
   "source": [
    "save_image('output/art.jpg', mixed_image)"
   ]
  },
  {
   "cell_type": "markdown",
   "metadata": {
    "colab_type": "text",
    "id": "RoKZ7QB2hLlY"
   },
   "source": [
    "# Transfer learning"
   ]
  },
  {
   "cell_type": "code",
   "execution_count": 1,
   "metadata": {
    "colab": {},
    "colab_type": "code",
    "id": "H2TaA_pOhLlY",
    "outputId": "03ea4a25-a368-48fd-d1c6-696e40a70323"
   },
   "outputs": [
    {
     "name": "stderr",
     "output_type": "stream",
     "text": [
      "Using TensorFlow backend.\n"
     ]
    }
   ],
   "source": [
    "from keras import applications\n",
    "from keras.preprocessing.image import ImageDataGenerator\n",
    "from keras import optimizers\n",
    "from keras.models import Sequential, Model\n",
    "from keras.layers import Dropout, Flatten, Dense"
   ]
  },
  {
   "cell_type": "code",
   "execution_count": 7,
   "metadata": {
    "colab": {},
    "colab_type": "code",
    "id": "S3iUJ1EdhLla"
   },
   "outputs": [],
   "source": [
    "img_width, img_height = 256,256\n",
    "batch_size = 16\n",
    "epochs = 50\n",
    "train_data_dir = 'dogs_and_cats/train'\n",
    "validation_data_dir = 'dogs_and_cats/test'\n",
    "#OUT CATEGORIES\n",
    "OUT_CATEGORIES = 1\n",
    "#number of train, validation samples\n",
    "nb_train_samples = 2000\n",
    "nb_validation_samples = 2000"
   ]
  },
  {
   "cell_type": "code",
   "execution_count": null,
   "metadata": {
    "colab": {},
    "colab_type": "code",
    "id": "h-DluhJ4hLlb",
    "outputId": "ea0b1a83-0934-4f8c-e5ab-8ddf44e3ad2c"
   },
   "outputs": [],
   "source": [
    "#Initiate the train and test generators with data Augmentation\n",
    "train_datagen = ImageDataGenerator(rescale = 1./255,horizontal_flip=True)\n",
    "test_datagen = ImageDataGenerator(rescale=1./255)\n",
    "train_generator = train_datagen.flow_from_directory(train_data_dir, target_size=(img_height, img_width), batch_size=batch_size, class_mode='binary')\n",
    "validation_generator=test_datagen.flow_from_directory(validation_data_dir, target_size=(img_height,img_width), batch_size=batch_size, class_mode='binary', shuffle=False)\n",
    "Model.fit_generator(generator=train_generator,steps_per_epoch=nb_train_samples // batch_size, epochs=epochs,validation_data=validation_generator,validation_steps=nb_validation_samples // batch_size, verbose=2, workers=12)"
   ]
  },
  {
   "cell_type": "code",
   "execution_count": 0,
   "metadata": {
    "colab": {},
    "colab_type": "code",
    "id": "NcMA1zXmhLlc"
   },
   "outputs": [],
   "source": [
    "score = model.evaluate_generator(validation_generator, nb_validation_samples)\n",
    "scores = model.predict_generator(validation_generator, nb_validation_samples)"
   ]
  },
  {
   "cell_type": "code",
   "execution_count": 0,
   "metadata": {
    "colab": {},
    "colab_type": "code",
    "id": "SQjr6wdGhLle",
    "outputId": "e80903c7-cf26-4f90-aa4c-a91181071c23",
    "scrolled": true
   },
   "outputs": [
    {
     "ename": "InvalidArgumentError",
     "evalue": "Cannot assign a device for operation random_uniform/RandomUniform: Operation was explicitly assigned to /device:GPU:0 but available devices are [ /job:localhost/replica:0/task:0/device:CPU:0 ]. Make sure the device specification refers to a valid device.\n\t [[node random_uniform/RandomUniform (defined at <ipython-input-1-4e363d2f9fe9>:11)  = RandomUniform[T=DT_INT32, dtype=DT_FLOAT, seed=0, seed2=0, _device=\"/device:GPU:0\"](random_uniform/shape)]]\n\nCaused by op 'random_uniform/RandomUniform', defined at:\n  File \"c:\\programdata\\anaconda\\envs\\tensorflow\\lib\\runpy.py\", line 193, in _run_module_as_main\n    \"__main__\", mod_spec)\n  File \"c:\\programdata\\anaconda\\envs\\tensorflow\\lib\\runpy.py\", line 85, in _run_code\n    exec(code, run_globals)\n  File \"c:\\programdata\\anaconda\\envs\\tensorflow\\lib\\site-packages\\ipykernel_launcher.py\", line 16, in <module>\n    app.launch_new_instance()\n  File \"c:\\programdata\\anaconda\\envs\\tensorflow\\lib\\site-packages\\traitlets\\config\\application.py\", line 658, in launch_instance\n    app.start()\n  File \"c:\\programdata\\anaconda\\envs\\tensorflow\\lib\\site-packages\\ipykernel\\kernelapp.py\", line 505, in start\n    self.io_loop.start()\n  File \"c:\\programdata\\anaconda\\envs\\tensorflow\\lib\\site-packages\\tornado\\platform\\asyncio.py\", line 132, in start\n    self.asyncio_loop.run_forever()\n  File \"c:\\programdata\\anaconda\\envs\\tensorflow\\lib\\asyncio\\base_events.py\", line 421, in run_forever\n    self._run_once()\n  File \"c:\\programdata\\anaconda\\envs\\tensorflow\\lib\\asyncio\\base_events.py\", line 1425, in _run_once\n    handle._run()\n  File \"c:\\programdata\\anaconda\\envs\\tensorflow\\lib\\asyncio\\events.py\", line 127, in _run\n    self._callback(*self._args)\n  File \"c:\\programdata\\anaconda\\envs\\tensorflow\\lib\\site-packages\\tornado\\ioloop.py\", line 758, in _run_callback\n    ret = callback()\n  File \"c:\\programdata\\anaconda\\envs\\tensorflow\\lib\\site-packages\\tornado\\stack_context.py\", line 300, in null_wrapper\n    return fn(*args, **kwargs)\n  File \"c:\\programdata\\anaconda\\envs\\tensorflow\\lib\\site-packages\\tornado\\gen.py\", line 1233, in inner\n    self.run()\n  File \"c:\\programdata\\anaconda\\envs\\tensorflow\\lib\\site-packages\\tornado\\gen.py\", line 1147, in run\n    yielded = self.gen.send(value)\n  File \"c:\\programdata\\anaconda\\envs\\tensorflow\\lib\\site-packages\\ipykernel\\kernelbase.py\", line 357, in process_one\n    yield gen.maybe_future(dispatch(*args))\n  File \"c:\\programdata\\anaconda\\envs\\tensorflow\\lib\\site-packages\\tornado\\gen.py\", line 326, in wrapper\n    yielded = next(result)\n  File \"c:\\programdata\\anaconda\\envs\\tensorflow\\lib\\site-packages\\ipykernel\\kernelbase.py\", line 267, in dispatch_shell\n    yield gen.maybe_future(handler(stream, idents, msg))\n  File \"c:\\programdata\\anaconda\\envs\\tensorflow\\lib\\site-packages\\tornado\\gen.py\", line 326, in wrapper\n    yielded = next(result)\n  File \"c:\\programdata\\anaconda\\envs\\tensorflow\\lib\\site-packages\\ipykernel\\kernelbase.py\", line 534, in execute_request\n    user_expressions, allow_stdin,\n  File \"c:\\programdata\\anaconda\\envs\\tensorflow\\lib\\site-packages\\tornado\\gen.py\", line 326, in wrapper\n    yielded = next(result)\n  File \"c:\\programdata\\anaconda\\envs\\tensorflow\\lib\\site-packages\\ipykernel\\ipkernel.py\", line 294, in do_execute\n    res = shell.run_cell(code, store_history=store_history, silent=silent)\n  File \"c:\\programdata\\anaconda\\envs\\tensorflow\\lib\\site-packages\\ipykernel\\zmqshell.py\", line 536, in run_cell\n    return super(ZMQInteractiveShell, self).run_cell(*args, **kwargs)\n  File \"c:\\programdata\\anaconda\\envs\\tensorflow\\lib\\site-packages\\IPython\\core\\interactiveshell.py\", line 2843, in run_cell\n    raw_cell, store_history, silent, shell_futures)\n  File \"c:\\programdata\\anaconda\\envs\\tensorflow\\lib\\site-packages\\IPython\\core\\interactiveshell.py\", line 2869, in _run_cell\n    return runner(coro)\n  File \"c:\\programdata\\anaconda\\envs\\tensorflow\\lib\\site-packages\\IPython\\core\\async_helpers.py\", line 67, in _pseudo_sync_runner\n    coro.send(None)\n  File \"c:\\programdata\\anaconda\\envs\\tensorflow\\lib\\site-packages\\IPython\\core\\interactiveshell.py\", line 3044, in run_cell_async\n    interactivity=interactivity, compiler=compiler, result=result)\n  File \"c:\\programdata\\anaconda\\envs\\tensorflow\\lib\\site-packages\\IPython\\core\\interactiveshell.py\", line 3209, in run_ast_nodes\n    if (yield from self.run_code(code, result)):\n  File \"c:\\programdata\\anaconda\\envs\\tensorflow\\lib\\site-packages\\IPython\\core\\interactiveshell.py\", line 3291, in run_code\n    exec(code_obj, self.user_global_ns, self.user_ns)\n  File \"<ipython-input-1-4e363d2f9fe9>\", line 11, in <module>\n    random_matrix = tf.random_uniform(shape=shape, minval=0, maxval=1)\n  File \"c:\\programdata\\anaconda\\envs\\tensorflow\\lib\\site-packages\\tensorflow\\python\\ops\\random_ops.py\", line 243, in random_uniform\n    rnd = gen_random_ops.random_uniform(shape, dtype, seed=seed1, seed2=seed2)\n  File \"c:\\programdata\\anaconda\\envs\\tensorflow\\lib\\site-packages\\tensorflow\\python\\ops\\gen_random_ops.py\", line 771, in random_uniform\n    name=name)\n  File \"c:\\programdata\\anaconda\\envs\\tensorflow\\lib\\site-packages\\tensorflow\\python\\framework\\op_def_library.py\", line 787, in _apply_op_helper\n    op_def=op_def)\n  File \"c:\\programdata\\anaconda\\envs\\tensorflow\\lib\\site-packages\\tensorflow\\python\\util\\deprecation.py\", line 488, in new_func\n    return func(*args, **kwargs)\n  File \"c:\\programdata\\anaconda\\envs\\tensorflow\\lib\\site-packages\\tensorflow\\python\\framework\\ops.py\", line 3274, in create_op\n    op_def=op_def)\n  File \"c:\\programdata\\anaconda\\envs\\tensorflow\\lib\\site-packages\\tensorflow\\python\\framework\\ops.py\", line 1770, in __init__\n    self._traceback = tf_stack.extract_stack()\n\nInvalidArgumentError (see above for traceback): Cannot assign a device for operation random_uniform/RandomUniform: Operation was explicitly assigned to /device:GPU:0 but available devices are [ /job:localhost/replica:0/task:0/device:CPU:0 ]. Make sure the device specification refers to a valid device.\n\t [[node random_uniform/RandomUniform (defined at <ipython-input-1-4e363d2f9fe9>:11)  = RandomUniform[T=DT_INT32, dtype=DT_FLOAT, seed=0, seed2=0, _device=\"/device:GPU:0\"](random_uniform/shape)]]\n",
     "output_type": "error",
     "traceback": [
      "\u001b[1;31m---------------------------------------------------------------------------\u001b[0m",
      "\u001b[1;31mInvalidArgumentError\u001b[0m                      Traceback (most recent call last)",
      "\u001b[1;32mc:\\programdata\\anaconda\\envs\\tensorflow\\lib\\site-packages\\tensorflow\\python\\client\\session.py\u001b[0m in \u001b[0;36m_do_call\u001b[1;34m(self, fn, *args)\u001b[0m\n\u001b[0;32m   1333\u001b[0m     \u001b[1;32mtry\u001b[0m\u001b[1;33m:\u001b[0m\u001b[1;33m\u001b[0m\u001b[0m\n\u001b[1;32m-> 1334\u001b[1;33m       \u001b[1;32mreturn\u001b[0m \u001b[0mfn\u001b[0m\u001b[1;33m(\u001b[0m\u001b[1;33m*\u001b[0m\u001b[0margs\u001b[0m\u001b[1;33m)\u001b[0m\u001b[1;33m\u001b[0m\u001b[0m\n\u001b[0m\u001b[0;32m   1335\u001b[0m     \u001b[1;32mexcept\u001b[0m \u001b[0merrors\u001b[0m\u001b[1;33m.\u001b[0m\u001b[0mOpError\u001b[0m \u001b[1;32mas\u001b[0m \u001b[0me\u001b[0m\u001b[1;33m:\u001b[0m\u001b[1;33m\u001b[0m\u001b[0m\n",
      "\u001b[1;32mc:\\programdata\\anaconda\\envs\\tensorflow\\lib\\site-packages\\tensorflow\\python\\client\\session.py\u001b[0m in \u001b[0;36m_run_fn\u001b[1;34m(feed_dict, fetch_list, target_list, options, run_metadata)\u001b[0m\n\u001b[0;32m   1316\u001b[0m       \u001b[1;31m# Ensure any changes to the graph are reflected in the runtime.\u001b[0m\u001b[1;33m\u001b[0m\u001b[1;33m\u001b[0m\u001b[0m\n\u001b[1;32m-> 1317\u001b[1;33m       \u001b[0mself\u001b[0m\u001b[1;33m.\u001b[0m\u001b[0m_extend_graph\u001b[0m\u001b[1;33m(\u001b[0m\u001b[1;33m)\u001b[0m\u001b[1;33m\u001b[0m\u001b[0m\n\u001b[0m\u001b[0;32m   1318\u001b[0m       return self._call_tf_sessionrun(\n",
      "\u001b[1;32mc:\\programdata\\anaconda\\envs\\tensorflow\\lib\\site-packages\\tensorflow\\python\\client\\session.py\u001b[0m in \u001b[0;36m_extend_graph\u001b[1;34m(self)\u001b[0m\n\u001b[0;32m   1351\u001b[0m     \u001b[1;32mwith\u001b[0m \u001b[0mself\u001b[0m\u001b[1;33m.\u001b[0m\u001b[0m_graph\u001b[0m\u001b[1;33m.\u001b[0m\u001b[0m_session_run_lock\u001b[0m\u001b[1;33m(\u001b[0m\u001b[1;33m)\u001b[0m\u001b[1;33m:\u001b[0m  \u001b[1;31m# pylint: disable=protected-access\u001b[0m\u001b[1;33m\u001b[0m\u001b[0m\n\u001b[1;32m-> 1352\u001b[1;33m       \u001b[0mtf_session\u001b[0m\u001b[1;33m.\u001b[0m\u001b[0mExtendSession\u001b[0m\u001b[1;33m(\u001b[0m\u001b[0mself\u001b[0m\u001b[1;33m.\u001b[0m\u001b[0m_session\u001b[0m\u001b[1;33m)\u001b[0m\u001b[1;33m\u001b[0m\u001b[0m\n\u001b[0m\u001b[0;32m   1353\u001b[0m \u001b[1;33m\u001b[0m\u001b[0m\n",
      "\u001b[1;31mInvalidArgumentError\u001b[0m: Cannot assign a device for operation random_uniform/RandomUniform: Operation was explicitly assigned to /device:GPU:0 but available devices are [ /job:localhost/replica:0/task:0/device:CPU:0 ]. Make sure the device specification refers to a valid device.\n\t [[{{node random_uniform/RandomUniform}} = RandomUniform[T=DT_INT32, dtype=DT_FLOAT, seed=0, seed2=0, _device=\"/device:GPU:0\"](random_uniform/shape)]]",
      "\nDuring handling of the above exception, another exception occurred:\n",
      "\u001b[1;31mInvalidArgumentError\u001b[0m                      Traceback (most recent call last)",
      "\u001b[1;32m<ipython-input-1-4e363d2f9fe9>\u001b[0m in \u001b[0;36m<module>\u001b[1;34m\u001b[0m\n\u001b[0;32m     15\u001b[0m \u001b[0mstartTime\u001b[0m \u001b[1;33m=\u001b[0m \u001b[0mdatetime\u001b[0m\u001b[1;33m.\u001b[0m\u001b[0mnow\u001b[0m\u001b[1;33m(\u001b[0m\u001b[1;33m)\u001b[0m\u001b[1;33m\u001b[0m\u001b[0m\n\u001b[0;32m     16\u001b[0m \u001b[1;32mwith\u001b[0m \u001b[0mtf\u001b[0m\u001b[1;33m.\u001b[0m\u001b[0mSession\u001b[0m\u001b[1;33m(\u001b[0m\u001b[0mconfig\u001b[0m\u001b[1;33m=\u001b[0m\u001b[0mtf\u001b[0m\u001b[1;33m.\u001b[0m\u001b[0mConfigProto\u001b[0m\u001b[1;33m(\u001b[0m\u001b[0mlog_device_placement\u001b[0m\u001b[1;33m=\u001b[0m\u001b[1;32mTrue\u001b[0m\u001b[1;33m)\u001b[0m\u001b[1;33m)\u001b[0m \u001b[1;32mas\u001b[0m \u001b[0msession\u001b[0m\u001b[1;33m:\u001b[0m\u001b[1;33m\u001b[0m\u001b[0m\n\u001b[1;32m---> 17\u001b[1;33m         \u001b[0mresult\u001b[0m \u001b[1;33m=\u001b[0m \u001b[0msession\u001b[0m\u001b[1;33m.\u001b[0m\u001b[0mrun\u001b[0m\u001b[1;33m(\u001b[0m\u001b[0msum_operation\u001b[0m\u001b[1;33m)\u001b[0m\u001b[1;33m\u001b[0m\u001b[0m\n\u001b[0m\u001b[0;32m     18\u001b[0m         \u001b[0mprint\u001b[0m\u001b[1;33m(\u001b[0m\u001b[0mresult\u001b[0m\u001b[1;33m)\u001b[0m\u001b[1;33m\u001b[0m\u001b[0m\n\u001b[0;32m     19\u001b[0m \u001b[1;33m\u001b[0m\u001b[0m\n",
      "\u001b[1;32mc:\\programdata\\anaconda\\envs\\tensorflow\\lib\\site-packages\\tensorflow\\python\\client\\session.py\u001b[0m in \u001b[0;36mrun\u001b[1;34m(self, fetches, feed_dict, options, run_metadata)\u001b[0m\n\u001b[0;32m    927\u001b[0m     \u001b[1;32mtry\u001b[0m\u001b[1;33m:\u001b[0m\u001b[1;33m\u001b[0m\u001b[0m\n\u001b[0;32m    928\u001b[0m       result = self._run(None, fetches, feed_dict, options_ptr,\n\u001b[1;32m--> 929\u001b[1;33m                          run_metadata_ptr)\n\u001b[0m\u001b[0;32m    930\u001b[0m       \u001b[1;32mif\u001b[0m \u001b[0mrun_metadata\u001b[0m\u001b[1;33m:\u001b[0m\u001b[1;33m\u001b[0m\u001b[0m\n\u001b[0;32m    931\u001b[0m         \u001b[0mproto_data\u001b[0m \u001b[1;33m=\u001b[0m \u001b[0mtf_session\u001b[0m\u001b[1;33m.\u001b[0m\u001b[0mTF_GetBuffer\u001b[0m\u001b[1;33m(\u001b[0m\u001b[0mrun_metadata_ptr\u001b[0m\u001b[1;33m)\u001b[0m\u001b[1;33m\u001b[0m\u001b[0m\n",
      "\u001b[1;32mc:\\programdata\\anaconda\\envs\\tensorflow\\lib\\site-packages\\tensorflow\\python\\client\\session.py\u001b[0m in \u001b[0;36m_run\u001b[1;34m(self, handle, fetches, feed_dict, options, run_metadata)\u001b[0m\n\u001b[0;32m   1150\u001b[0m     \u001b[1;32mif\u001b[0m \u001b[0mfinal_fetches\u001b[0m \u001b[1;32mor\u001b[0m \u001b[0mfinal_targets\u001b[0m \u001b[1;32mor\u001b[0m \u001b[1;33m(\u001b[0m\u001b[0mhandle\u001b[0m \u001b[1;32mand\u001b[0m \u001b[0mfeed_dict_tensor\u001b[0m\u001b[1;33m)\u001b[0m\u001b[1;33m:\u001b[0m\u001b[1;33m\u001b[0m\u001b[0m\n\u001b[0;32m   1151\u001b[0m       results = self._do_run(handle, final_targets, final_fetches,\n\u001b[1;32m-> 1152\u001b[1;33m                              feed_dict_tensor, options, run_metadata)\n\u001b[0m\u001b[0;32m   1153\u001b[0m     \u001b[1;32melse\u001b[0m\u001b[1;33m:\u001b[0m\u001b[1;33m\u001b[0m\u001b[0m\n\u001b[0;32m   1154\u001b[0m       \u001b[0mresults\u001b[0m \u001b[1;33m=\u001b[0m \u001b[1;33m[\u001b[0m\u001b[1;33m]\u001b[0m\u001b[1;33m\u001b[0m\u001b[0m\n",
      "\u001b[1;32mc:\\programdata\\anaconda\\envs\\tensorflow\\lib\\site-packages\\tensorflow\\python\\client\\session.py\u001b[0m in \u001b[0;36m_do_run\u001b[1;34m(self, handle, target_list, fetch_list, feed_dict, options, run_metadata)\u001b[0m\n\u001b[0;32m   1326\u001b[0m     \u001b[1;32mif\u001b[0m \u001b[0mhandle\u001b[0m \u001b[1;32mis\u001b[0m \u001b[1;32mNone\u001b[0m\u001b[1;33m:\u001b[0m\u001b[1;33m\u001b[0m\u001b[0m\n\u001b[0;32m   1327\u001b[0m       return self._do_call(_run_fn, feeds, fetches, targets, options,\n\u001b[1;32m-> 1328\u001b[1;33m                            run_metadata)\n\u001b[0m\u001b[0;32m   1329\u001b[0m     \u001b[1;32melse\u001b[0m\u001b[1;33m:\u001b[0m\u001b[1;33m\u001b[0m\u001b[0m\n\u001b[0;32m   1330\u001b[0m       \u001b[1;32mreturn\u001b[0m \u001b[0mself\u001b[0m\u001b[1;33m.\u001b[0m\u001b[0m_do_call\u001b[0m\u001b[1;33m(\u001b[0m\u001b[0m_prun_fn\u001b[0m\u001b[1;33m,\u001b[0m \u001b[0mhandle\u001b[0m\u001b[1;33m,\u001b[0m \u001b[0mfeeds\u001b[0m\u001b[1;33m,\u001b[0m \u001b[0mfetches\u001b[0m\u001b[1;33m)\u001b[0m\u001b[1;33m\u001b[0m\u001b[0m\n",
      "\u001b[1;32mc:\\programdata\\anaconda\\envs\\tensorflow\\lib\\site-packages\\tensorflow\\python\\client\\session.py\u001b[0m in \u001b[0;36m_do_call\u001b[1;34m(self, fn, *args)\u001b[0m\n\u001b[0;32m   1346\u001b[0m           \u001b[1;32mpass\u001b[0m\u001b[1;33m\u001b[0m\u001b[0m\n\u001b[0;32m   1347\u001b[0m       \u001b[0mmessage\u001b[0m \u001b[1;33m=\u001b[0m \u001b[0merror_interpolation\u001b[0m\u001b[1;33m.\u001b[0m\u001b[0minterpolate\u001b[0m\u001b[1;33m(\u001b[0m\u001b[0mmessage\u001b[0m\u001b[1;33m,\u001b[0m \u001b[0mself\u001b[0m\u001b[1;33m.\u001b[0m\u001b[0m_graph\u001b[0m\u001b[1;33m)\u001b[0m\u001b[1;33m\u001b[0m\u001b[0m\n\u001b[1;32m-> 1348\u001b[1;33m       \u001b[1;32mraise\u001b[0m \u001b[0mtype\u001b[0m\u001b[1;33m(\u001b[0m\u001b[0me\u001b[0m\u001b[1;33m)\u001b[0m\u001b[1;33m(\u001b[0m\u001b[0mnode_def\u001b[0m\u001b[1;33m,\u001b[0m \u001b[0mop\u001b[0m\u001b[1;33m,\u001b[0m \u001b[0mmessage\u001b[0m\u001b[1;33m)\u001b[0m\u001b[1;33m\u001b[0m\u001b[0m\n\u001b[0m\u001b[0;32m   1349\u001b[0m \u001b[1;33m\u001b[0m\u001b[0m\n\u001b[0;32m   1350\u001b[0m   \u001b[1;32mdef\u001b[0m \u001b[0m_extend_graph\u001b[0m\u001b[1;33m(\u001b[0m\u001b[0mself\u001b[0m\u001b[1;33m)\u001b[0m\u001b[1;33m:\u001b[0m\u001b[1;33m\u001b[0m\u001b[0m\n",
      "\u001b[1;31mInvalidArgumentError\u001b[0m: Cannot assign a device for operation random_uniform/RandomUniform: Operation was explicitly assigned to /device:GPU:0 but available devices are [ /job:localhost/replica:0/task:0/device:CPU:0 ]. Make sure the device specification refers to a valid device.\n\t [[node random_uniform/RandomUniform (defined at <ipython-input-1-4e363d2f9fe9>:11)  = RandomUniform[T=DT_INT32, dtype=DT_FLOAT, seed=0, seed2=0, _device=\"/device:GPU:0\"](random_uniform/shape)]]\n\nCaused by op 'random_uniform/RandomUniform', defined at:\n  File \"c:\\programdata\\anaconda\\envs\\tensorflow\\lib\\runpy.py\", line 193, in _run_module_as_main\n    \"__main__\", mod_spec)\n  File \"c:\\programdata\\anaconda\\envs\\tensorflow\\lib\\runpy.py\", line 85, in _run_code\n    exec(code, run_globals)\n  File \"c:\\programdata\\anaconda\\envs\\tensorflow\\lib\\site-packages\\ipykernel_launcher.py\", line 16, in <module>\n    app.launch_new_instance()\n  File \"c:\\programdata\\anaconda\\envs\\tensorflow\\lib\\site-packages\\traitlets\\config\\application.py\", line 658, in launch_instance\n    app.start()\n  File \"c:\\programdata\\anaconda\\envs\\tensorflow\\lib\\site-packages\\ipykernel\\kernelapp.py\", line 505, in start\n    self.io_loop.start()\n  File \"c:\\programdata\\anaconda\\envs\\tensorflow\\lib\\site-packages\\tornado\\platform\\asyncio.py\", line 132, in start\n    self.asyncio_loop.run_forever()\n  File \"c:\\programdata\\anaconda\\envs\\tensorflow\\lib\\asyncio\\base_events.py\", line 421, in run_forever\n    self._run_once()\n  File \"c:\\programdata\\anaconda\\envs\\tensorflow\\lib\\asyncio\\base_events.py\", line 1425, in _run_once\n    handle._run()\n  File \"c:\\programdata\\anaconda\\envs\\tensorflow\\lib\\asyncio\\events.py\", line 127, in _run\n    self._callback(*self._args)\n  File \"c:\\programdata\\anaconda\\envs\\tensorflow\\lib\\site-packages\\tornado\\ioloop.py\", line 758, in _run_callback\n    ret = callback()\n  File \"c:\\programdata\\anaconda\\envs\\tensorflow\\lib\\site-packages\\tornado\\stack_context.py\", line 300, in null_wrapper\n    return fn(*args, **kwargs)\n  File \"c:\\programdata\\anaconda\\envs\\tensorflow\\lib\\site-packages\\tornado\\gen.py\", line 1233, in inner\n    self.run()\n  File \"c:\\programdata\\anaconda\\envs\\tensorflow\\lib\\site-packages\\tornado\\gen.py\", line 1147, in run\n    yielded = self.gen.send(value)\n  File \"c:\\programdata\\anaconda\\envs\\tensorflow\\lib\\site-packages\\ipykernel\\kernelbase.py\", line 357, in process_one\n    yield gen.maybe_future(dispatch(*args))\n  File \"c:\\programdata\\anaconda\\envs\\tensorflow\\lib\\site-packages\\tornado\\gen.py\", line 326, in wrapper\n    yielded = next(result)\n  File \"c:\\programdata\\anaconda\\envs\\tensorflow\\lib\\site-packages\\ipykernel\\kernelbase.py\", line 267, in dispatch_shell\n    yield gen.maybe_future(handler(stream, idents, msg))\n  File \"c:\\programdata\\anaconda\\envs\\tensorflow\\lib\\site-packages\\tornado\\gen.py\", line 326, in wrapper\n    yielded = next(result)\n  File \"c:\\programdata\\anaconda\\envs\\tensorflow\\lib\\site-packages\\ipykernel\\kernelbase.py\", line 534, in execute_request\n    user_expressions, allow_stdin,\n  File \"c:\\programdata\\anaconda\\envs\\tensorflow\\lib\\site-packages\\tornado\\gen.py\", line 326, in wrapper\n    yielded = next(result)\n  File \"c:\\programdata\\anaconda\\envs\\tensorflow\\lib\\site-packages\\ipykernel\\ipkernel.py\", line 294, in do_execute\n    res = shell.run_cell(code, store_history=store_history, silent=silent)\n  File \"c:\\programdata\\anaconda\\envs\\tensorflow\\lib\\site-packages\\ipykernel\\zmqshell.py\", line 536, in run_cell\n    return super(ZMQInteractiveShell, self).run_cell(*args, **kwargs)\n  File \"c:\\programdata\\anaconda\\envs\\tensorflow\\lib\\site-packages\\IPython\\core\\interactiveshell.py\", line 2843, in run_cell\n    raw_cell, store_history, silent, shell_futures)\n  File \"c:\\programdata\\anaconda\\envs\\tensorflow\\lib\\site-packages\\IPython\\core\\interactiveshell.py\", line 2869, in _run_cell\n    return runner(coro)\n  File \"c:\\programdata\\anaconda\\envs\\tensorflow\\lib\\site-packages\\IPython\\core\\async_helpers.py\", line 67, in _pseudo_sync_runner\n    coro.send(None)\n  File \"c:\\programdata\\anaconda\\envs\\tensorflow\\lib\\site-packages\\IPython\\core\\interactiveshell.py\", line 3044, in run_cell_async\n    interactivity=interactivity, compiler=compiler, result=result)\n  File \"c:\\programdata\\anaconda\\envs\\tensorflow\\lib\\site-packages\\IPython\\core\\interactiveshell.py\", line 3209, in run_ast_nodes\n    if (yield from self.run_code(code, result)):\n  File \"c:\\programdata\\anaconda\\envs\\tensorflow\\lib\\site-packages\\IPython\\core\\interactiveshell.py\", line 3291, in run_code\n    exec(code_obj, self.user_global_ns, self.user_ns)\n  File \"<ipython-input-1-4e363d2f9fe9>\", line 11, in <module>\n    random_matrix = tf.random_uniform(shape=shape, minval=0, maxval=1)\n  File \"c:\\programdata\\anaconda\\envs\\tensorflow\\lib\\site-packages\\tensorflow\\python\\ops\\random_ops.py\", line 243, in random_uniform\n    rnd = gen_random_ops.random_uniform(shape, dtype, seed=seed1, seed2=seed2)\n  File \"c:\\programdata\\anaconda\\envs\\tensorflow\\lib\\site-packages\\tensorflow\\python\\ops\\gen_random_ops.py\", line 771, in random_uniform\n    name=name)\n  File \"c:\\programdata\\anaconda\\envs\\tensorflow\\lib\\site-packages\\tensorflow\\python\\framework\\op_def_library.py\", line 787, in _apply_op_helper\n    op_def=op_def)\n  File \"c:\\programdata\\anaconda\\envs\\tensorflow\\lib\\site-packages\\tensorflow\\python\\util\\deprecation.py\", line 488, in new_func\n    return func(*args, **kwargs)\n  File \"c:\\programdata\\anaconda\\envs\\tensorflow\\lib\\site-packages\\tensorflow\\python\\framework\\ops.py\", line 3274, in create_op\n    op_def=op_def)\n  File \"c:\\programdata\\anaconda\\envs\\tensorflow\\lib\\site-packages\\tensorflow\\python\\framework\\ops.py\", line 1770, in __init__\n    self._traceback = tf_stack.extract_stack()\n\nInvalidArgumentError (see above for traceback): Cannot assign a device for operation random_uniform/RandomUniform: Operation was explicitly assigned to /device:GPU:0 but available devices are [ /job:localhost/replica:0/task:0/device:CPU:0 ]. Make sure the device specification refers to a valid device.\n\t [[node random_uniform/RandomUniform (defined at <ipython-input-1-4e363d2f9fe9>:11)  = RandomUniform[T=DT_INT32, dtype=DT_FLOAT, seed=0, seed2=0, _device=\"/device:GPU:0\"](random_uniform/shape)]]\n"
     ]
    }
   ],
   "source": [
    "import sys\n",
    "import numpy as np\n",
    "import tensorflow as tf\n",
    "from datetime import datetime\n",
    "\n",
    "device_name=\"/gpu:0\"\n",
    "\n",
    "shape=(int(10000),int(10000))\n",
    "\n",
    "with tf.device(device_name):\n",
    "    random_matrix = tf.random_uniform(shape=shape, minval=0, maxval=1)\n",
    "    dot_operation = tf.matmul(random_matrix, tf.transpose(random_matrix))\n",
    "    sum_operation = tf.reduce_sum(dot_operation)\n",
    "\n",
    "startTime = datetime.now()\n",
    "with tf.Session(config=tf.ConfigProto(log_device_placement=True)) as session:\n",
    "    result = session.run(sum_operation)\n",
    "        print(result)\n",
    "\n",
    "print(\"\\n\" * 2)\n",
    "print(\"Shape:\", shape, \"Device:\", device_name)\n",
    "print(\"Time taken:\", datetime.now() - startTime)\n",
    "\n",
    "print(\"\\n\" * 2)"
   ]
  },
  {
   "cell_type": "markdown",
   "metadata": {
    "colab": {},
    "colab_type": "code",
    "id": "GHcGzm1UhLlf"
   },
   "source": [
    "# Creating DeepDream"
   ]
  },
  {
   "cell_type": "code",
   "execution_count": 0,
   "metadata": {
    "colab": {},
    "colab_type": "code",
    "id": "miJWNCkml6xs"
   },
   "outputs": [],
   "source": [
    "#load the graph\n",
    "graph=tf.Graph()\n",
    "sess=tf.InteractiveSession(graph=graph)\n",
    "with tf.gfile.FastGFile(model_fn,'rb') as f:\n",
    "  graph_def=tf.GraphDef()"
   ]
  }
 ],
 "metadata": {
  "colab": {
   "name": "Tensorflow.ipynb",
   "provenance": [],
   "toc_visible": true,
   "version": "0.3.2"
  },
  "kernelspec": {
   "display_name": "Python 3",
   "language": "python",
   "name": "python3"
  },
  "language_info": {
   "codemirror_mode": {
    "name": "ipython",
    "version": 3
   },
   "file_extension": ".py",
   "mimetype": "text/x-python",
   "name": "python",
   "nbconvert_exporter": "python",
   "pygments_lexer": "ipython3",
   "version": "3.5.6"
  }
 },
 "nbformat": 4,
 "nbformat_minor": 1
}
